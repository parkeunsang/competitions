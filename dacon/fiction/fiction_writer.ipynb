{
 "cells": [
  {
   "cell_type": "markdown",
   "metadata": {},
   "source": [
    "### Dacon 소설작가 분류 \n",
    "https://dacon.io/competitions/official/235670/overview/<br>\n",
    "문장을 보고 어떤 소설작가가 작성했는지를 분류하는 문제<br>\n",
    "Using LSTM "
   ]
  },
  {
   "cell_type": "code",
   "execution_count": 1,
   "metadata": {},
   "outputs": [],
   "source": [
    "import pandas as pd\n",
    "import numpy as np\n",
    "from time import time\n",
    "from tqdm import tqdm\n",
    "import re"
   ]
  },
  {
   "cell_type": "code",
   "execution_count": 2,
   "metadata": {},
   "outputs": [],
   "source": [
    "import seaborn as sns"
   ]
  },
  {
   "cell_type": "code",
   "execution_count": 3,
   "metadata": {},
   "outputs": [],
   "source": [
    "from nltk.tokenize import word_tokenize \n",
    "from gensim.models.word2vec import Word2Vec"
   ]
  },
  {
   "cell_type": "code",
   "execution_count": 5,
   "metadata": {},
   "outputs": [],
   "source": [
    "from tensorflow.keras.preprocessing.text import Tokenizer"
   ]
  },
  {
   "cell_type": "markdown",
   "metadata": {},
   "source": [
    "### Import data"
   ]
  },
  {
   "cell_type": "code",
   "execution_count": 6,
   "metadata": {},
   "outputs": [],
   "source": [
    "train = pd.read_csv(\"train.csv\")"
   ]
  },
  {
   "cell_type": "code",
   "execution_count": 7,
   "metadata": {},
   "outputs": [],
   "source": [
    "test = pd.read_csv(\"test_x.csv\")"
   ]
  },
  {
   "cell_type": "code",
   "execution_count": 8,
   "metadata": {},
   "outputs": [],
   "source": [
    "ssb = pd.read_csv(\"sample_submission.csv\")"
   ]
  },
  {
   "cell_type": "markdown",
   "metadata": {},
   "source": [
    "### Tokenize\n",
    "느낌표와 따옴표 등은 작가에따라 출현빈도가 달라질수있으니 ',', '.'만 stopwords로 지정한다"
   ]
  },
  {
   "cell_type": "code",
   "execution_count": 9,
   "metadata": {},
   "outputs": [
    {
     "name": "stdout",
     "output_type": "stream",
     "text": [
      "1번 :  [',', '’', ',', ',', ',', '.', ',', '.', ',', ':']\n",
      "2번 :  ['“', ',', '?', '”']\n"
     ]
    }
   ],
   "source": [
    "print('1번 : ', re.findall(r'[^a-zA-Z\\s]',train[train['author']==1]['text'].iloc[0]))\n",
    "print('2번 : ', re.findall(r'[^a-zA-Z\\s]',train[train['author']==2]['text'].iloc[0]))"
   ]
  },
  {
   "cell_type": "code",
   "execution_count": 10,
   "metadata": {},
   "outputs": [],
   "source": [
    "stopWords = ['.',','] #문체 등을 확인할 수 있으므로 아주 의미없는것들만 stopwords로 지정"
   ]
  },
  {
   "cell_type": "code",
   "execution_count": 11,
   "metadata": {},
   "outputs": [],
   "source": [
    "def tokenizeSentence(sentence):\n",
    "    global stopWords\n",
    "    return [x.lower() for x in word_tokenize(sentence) if x not in stopWords]"
   ]
  },
  {
   "cell_type": "code",
   "execution_count": 12,
   "metadata": {},
   "outputs": [
    {
     "name": "stdout",
     "output_type": "stream",
     "text": [
      "If rows = 1000, spending time :  0.35771751403808594\n"
     ]
    }
   ],
   "source": [
    "start = time()\n",
    "n=1000\n",
    "train[:n].apply(lambda x:tokenizeSentence(x['text']), axis=1)\n",
    "print(f\"If rows = {n}, spending time : \", time()- start)"
   ]
  },
  {
   "cell_type": "code",
   "execution_count": 14,
   "metadata": {},
   "outputs": [],
   "source": [
    "train['word_list'] = train.apply(lambda x:tokenizeSentence(x['text']), axis=1)"
   ]
  },
  {
   "cell_type": "code",
   "execution_count": 15,
   "metadata": {},
   "outputs": [],
   "source": [
    "test['word_list'] = test.apply(lambda x:tokenizeSentence(x['text']), axis=1)"
   ]
  },
  {
   "cell_type": "markdown",
   "metadata": {},
   "source": [
    "### Word to vector using skip gram method\n",
    "reference : [blog](http://doc.mindscale.kr/km/unstructured/11.html)"
   ]
  },
  {
   "cell_type": "code",
   "execution_count": null,
   "metadata": {},
   "outputs": [],
   "source": [
    "words_test = []\n",
    "for i in tqdm(test['word_list']):\n",
    "    words_test.append(i)"
   ]
  },
  {
   "cell_type": "code",
   "execution_count": null,
   "metadata": {},
   "outputs": [],
   "source": [
    "words = []"
   ]
  },
  {
   "cell_type": "code",
   "execution_count": null,
   "metadata": {},
   "outputs": [],
   "source": [
    "for i in tqdm(train['word_list']):\n",
    "    words.append(i)"
   ]
  },
  {
   "cell_type": "code",
   "execution_count": 14,
   "metadata": {},
   "outputs": [
    {
     "data": {
      "text/plain": [
       "54879"
      ]
     },
     "execution_count": 14,
     "metadata": {},
     "output_type": "execute_result"
    }
   ],
   "source": [
    "len(words)"
   ]
  },
  {
   "cell_type": "code",
   "execution_count": 68,
   "metadata": {},
   "outputs": [],
   "source": [
    "model = Word2Vec(words[:5000],         # 리스트 형태의 데이터\n",
    "                 sg=1,         # 0: CBOW, 1: Skip-gram\n",
    "                 size=100,     # 벡터 크기\n",
    "                 window=5,     # 고려할 앞뒤 폭(앞뒤 3단어)\n",
    "                 iter=10,\n",
    "                 min_count=5,  # 사용할 단어의 최소 빈도(5회 이하 단어 무시)\n",
    "                 workers=4)    # 동시에 처리할 작업 수(코어 수와 비슷하게 설정)"
   ]
  },
  {
   "cell_type": "code",
   "execution_count": 69,
   "metadata": {},
   "outputs": [
    {
     "data": {
      "text/plain": [
       "0.6340599"
      ]
     },
     "execution_count": 69,
     "metadata": {},
     "output_type": "execute_result"
    }
   ],
   "source": [
    "model.wv.similarity('she', 'he') #코사인 유사도"
   ]
  },
  {
   "cell_type": "code",
   "execution_count": 1,
   "metadata": {},
   "outputs": [],
   "source": [
    "#model.wv.vectors[0]"
   ]
  },
  {
   "cell_type": "code",
   "execution_count": 74,
   "metadata": {},
   "outputs": [
    {
     "data": {
      "text/plain": [
       "[('clerk', 0.7633887529373169),\n",
       " ('ivan', 0.7338625192642212),\n",
       " ('irritably', 0.7312246561050415),\n",
       " ('clara', 0.7298715114593506),\n",
       " ('considering', 0.7286543250083923),\n",
       " ('countess', 0.7274818420410156),\n",
       " ('joe', 0.725533127784729),\n",
       " ('guest', 0.7245358824729919),\n",
       " ('shrieked', 0.7235351800918579),\n",
       " ('smiling', 0.722305178642273)]"
      ]
     },
     "execution_count": 74,
     "metadata": {},
     "output_type": "execute_result"
    }
   ],
   "source": [
    "model.wv.most_similar('prince') #he와 가장 유사한 단어들"
   ]
  },
  {
   "cell_type": "markdown",
   "metadata": {},
   "source": [
    "### EDA"
   ]
  },
  {
   "cell_type": "code",
   "execution_count": 42,
   "metadata": {},
   "outputs": [
    {
     "data": {
      "text/plain": [
       "<matplotlib.axes._subplots.AxesSubplot at 0x7f8c0ada8850>"
      ]
     },
     "execution_count": 42,
     "metadata": {},
     "output_type": "execute_result"
    },
    {
     "data": {
      "image/png": "[encoded data removed]",
      "text/plain": [
       "<Figure size 432x288 with 1 Axes>"
      ]
     },
     "metadata": {
      "needs_background": "light"
     },
     "output_type": "display_data"
    }
   ],
   "source": [
    "#문자 개수\n",
    "sns.distplot(train['text'].str.len())"
   ]
  },
  {
   "cell_type": "code",
   "execution_count": 43,
   "metadata": {},
   "outputs": [
    {
     "data": {
      "text/plain": [
       "<matplotlib.axes._subplots.AxesSubplot at 0x7f8c0b65e390>"
      ]
     },
     "execution_count": 43,
     "metadata": {},
     "output_type": "execute_result"
    },
    {
     "data": {
      "image/png": "[encoded data removed]",
      "text/plain": [
       "<Figure size 432x288 with 1 Axes>"
      ]
     },
     "metadata": {
      "needs_background": "light"
     },
     "output_type": "display_data"
    }
   ],
   "source": [
    "#단어 개수(rough)\n",
    "sns.distplot(train['text'].str.split(' ').str.len())"
   ]
  },
  {
   "cell_type": "code",
   "execution_count": 13,
   "metadata": {},
   "outputs": [
    {
     "data": {
      "text/plain": [
       "5"
      ]
     },
     "execution_count": 13,
     "metadata": {},
     "output_type": "execute_result"
    }
   ],
   "source": [
    "#y 개수\n",
    "len(train['author'].unique())"
   ]
  },
  {
   "cell_type": "code",
   "execution_count": 54,
   "metadata": {},
   "outputs": [],
   "source": [
    "train['word_num'] = train['text'].str.split(' ').str.len()\n",
    "train['letter_num'] = train['text'].str.len()"
   ]
  },
  {
   "cell_type": "code",
   "execution_count": 55,
   "metadata": {},
   "outputs": [
    {
     "data": {
      "text/plain": [
       "author\n",
       "0    37.417983\n",
       "1    57.352949\n",
       "2    40.344383\n",
       "3    41.065326\n",
       "4    41.626650\n",
       "Name: word_num, dtype: float64"
      ]
     },
     "execution_count": 55,
     "metadata": {},
     "output_type": "execute_result"
    }
   ],
   "source": [
    "train.groupby('author').mean()['word_num']"
   ]
  },
  {
   "cell_type": "code",
   "execution_count": 56,
   "metadata": {},
   "outputs": [
    {
     "data": {
      "text/plain": [
       "author\n",
       "0    202.259312\n",
       "1    313.824564\n",
       "2    214.370521\n",
       "3    223.593374\n",
       "4    221.727995\n",
       "Name: letter_num, dtype: float64"
      ]
     },
     "execution_count": 56,
     "metadata": {},
     "output_type": "execute_result"
    }
   ],
   "source": [
    "train.groupby('author').mean()['letter_num']"
   ]
  },
  {
   "cell_type": "markdown",
   "metadata": {},
   "source": [
    "### Modeling"
   ]
  },
  {
   "cell_type": "code",
   "execution_count": 16,
   "metadata": {},
   "outputs": [],
   "source": [
    "import tensorflow as tf\n",
    "from keras.models import Sequential\n",
    "from keras.layers import Embedding\n",
    "from keras.preprocessing.text import Tokenizer\n",
    "from keras.preprocessing.sequence import pad_sequences\n",
    "\n",
    "tokenizer = Tokenizer()\n",
    "tokenizer.fit_on_texts(train['word_list'])"
   ]
  },
  {
   "cell_type": "code",
   "execution_count": 17,
   "metadata": {},
   "outputs": [],
   "source": [
    "tokened = tokenizer.texts_to_sequences(train['word_list'])"
   ]
  },
  {
   "cell_type": "code",
   "execution_count": 18,
   "metadata": {},
   "outputs": [],
   "source": [
    "tokened_test = tokenizer.texts_to_sequences(test['word_list'])"
   ]
  },
  {
   "cell_type": "code",
   "execution_count": 19,
   "metadata": {},
   "outputs": [],
   "source": [
    "# Getting the biggest sentence\n",
    "max_len = np.max([len(text) for text in tokened])\n",
    "# Creating the padded matrices"
   ]
  },
  {
   "cell_type": "code",
   "execution_count": 20,
   "metadata": {},
   "outputs": [],
   "source": [
    "X_train_NN = pad_sequences(tokened, maxlen=max_len)"
   ]
  },
  {
   "cell_type": "code",
   "execution_count": 21,
   "metadata": {},
   "outputs": [],
   "source": [
    "X_test_NN = pad_sequences(tokened_test, maxlen=max_len)"
   ]
  },
  {
   "cell_type": "code",
   "execution_count": 23,
   "metadata": {},
   "outputs": [],
   "source": [
    "iDim = np.max([max(text) for text in tokened])+1"
   ]
  },
  {
   "cell_type": "code",
   "execution_count": 24,
   "metadata": {},
   "outputs": [],
   "source": [
    "\n",
    "\n",
    "model = Sequential()\n",
    "model.add(Embedding(\n",
    "  input_dim=iDim, \n",
    "  output_dim=96, \n",
    "  input_length=max_len))\n",
    "\n",
    "#model.add(tf.keras.layers.Bidirectional(tf.keras.layers.LSTM(64)))\n",
    "model.add(tf.keras.layers.LSTM(64, dropout=0.2))\n",
    "#model.add(tf.keras.layers.Dense(64, activation='relu'))\n",
    "model.add(tf.keras.layers.Dense(5, activation = 'softmax'))\n",
    "\n",
    "model.compile(optimizer='adam',\n",
    "              loss='sparse_categorical_crossentropy',\n",
    "              metrics=['accuracy'])"
   ]
  },
  {
   "cell_type": "code",
   "execution_count": 25,
   "metadata": {},
   "outputs": [
    {
     "name": "stdout",
     "output_type": "stream",
     "text": [
      "Epoch 1/7\n",
      "429/429 [==============================] - 199s 463ms/step - loss: 1.0614 - accuracy: 0.5828\n",
      "Epoch 2/7\n",
      "429/429 [==============================] - 199s 465ms/step - loss: 0.5771 - accuracy: 0.7933\n",
      "Epoch 3/7\n",
      "429/429 [==============================] - 200s 466ms/step - loss: 0.4026 - accuracy: 0.8597\n",
      "Epoch 4/7\n",
      "429/429 [==============================] - 200s 466ms/step - loss: 0.3296 - accuracy: 0.8847\n",
      "Epoch 5/7\n",
      "429/429 [==============================] - 200s 466ms/step - loss: 0.2739 - accuracy: 0.9049\n",
      "Epoch 6/7\n",
      "429/429 [==============================] - 201s 469ms/step - loss: 0.2378 - accuracy: 0.9172\n",
      "Epoch 7/7\n",
      "429/429 [==============================] - 201s 467ms/step - loss: 0.2211 - accuracy: 0.9225\n"
     ]
    },
    {
     "data": {
      "text/plain": [
       "<tensorflow.python.keras.callbacks.History at 0x7f485c4290d0>"
      ]
     },
     "execution_count": 25,
     "metadata": {},
     "output_type": "execute_result"
    }
   ],
   "source": [
    "model.fit(X_train_NN,  train['author'],epochs=7, batch_size=128)"
   ]
  },
  {
   "cell_type": "code",
   "execution_count": 67,
   "metadata": {},
   "outputs": [],
   "source": [
    "#y = pd.get_dummies(train['author']).values"
   ]
  },
  {
   "cell_type": "code",
   "execution_count": 86,
   "metadata": {},
   "outputs": [
    {
     "name": "stdout",
     "output_type": "stream",
     "text": [
      "Epoch 1/5\n",
      "549/549 [==============================] - 264s 481ms/step - loss: 1.0113 - accuracy: 0.6028\n",
      "Epoch 2/5\n",
      "549/549 [==============================] - 265s 483ms/step - loss: 0.5759 - accuracy: 0.7926\n",
      "Epoch 3/5\n",
      "549/549 [==============================] - 268s 488ms/step - loss: 0.4265 - accuracy: 0.8514\n",
      "Epoch 4/5\n",
      "549/549 [==============================] - 280s 510ms/step - loss: 0.3108 - accuracy: 0.8923\n",
      "Epoch 5/5\n",
      "549/549 [==============================] - 262s 477ms/step - loss: 0.2607 - accuracy: 0.9106\n"
     ]
    },
    {
     "data": {
      "text/plain": [
       "<tensorflow.python.keras.callbacks.History at 0x7f6998781350>"
      ]
     },
     "execution_count": 86,
     "metadata": {},
     "output_type": "execute_result"
    }
   ],
   "source": [
    "model.fit(X_train_NN,  train['author'],epochs=5, batch_size=100)"
   ]
  },
  {
   "cell_type": "code",
   "execution_count": 26,
   "metadata": {},
   "outputs": [],
   "source": [
    "pred = model.predict(X_test_NN)"
   ]
  },
  {
   "cell_type": "code",
   "execution_count": 27,
   "metadata": {},
   "outputs": [],
   "source": [
    "submission = pd.DataFrame(pred)"
   ]
  },
  {
   "cell_type": "code",
   "execution_count": 28,
   "metadata": {},
   "outputs": [],
   "source": [
    "submission=submission.reset_index()"
   ]
  },
  {
   "cell_type": "code",
   "execution_count": 29,
   "metadata": {},
   "outputs": [],
   "source": [
    "submission.to_csv('submission2.csv',index=False)"
   ]
  },
  {
   "cell_type": "code",
   "execution_count": 30,
   "metadata": {},
   "outputs": [
    {
     "data": {
      "text/html": [
       "<div>\n",
       "<style scoped>\n",
       "    .dataframe tbody tr th:only-of-type {\n",
       "        vertical-align: middle;\n",
       "    }\n",
       "\n",
       "    .dataframe tbody tr th {\n",
       "        vertical-align: top;\n",
       "    }\n",
       "\n",
       "    .dataframe thead th {\n",
       "        text-align: right;\n",
       "    }\n",
       "</style>\n",
       "<table border=\"1\" class=\"dataframe\">\n",
       "  <thead>\n",
       "    <tr style=\"text-align: right;\">\n",
       "      <th></th>\n",
       "      <th>index</th>\n",
       "      <th>0</th>\n",
       "      <th>1</th>\n",
       "      <th>2</th>\n",
       "      <th>3</th>\n",
       "      <th>4</th>\n",
       "    </tr>\n",
       "  </thead>\n",
       "  <tbody>\n",
       "    <tr>\n",
       "      <th>0</th>\n",
       "      <td>0</td>\n",
       "      <td>0.000948</td>\n",
       "      <td>0.997066</td>\n",
       "      <td>0.000335</td>\n",
       "      <td>0.000078</td>\n",
       "      <td>0.001573</td>\n",
       "    </tr>\n",
       "    <tr>\n",
       "      <th>1</th>\n",
       "      <td>1</td>\n",
       "      <td>0.000605</td>\n",
       "      <td>0.996049</td>\n",
       "      <td>0.000153</td>\n",
       "      <td>0.003069</td>\n",
       "      <td>0.000124</td>\n",
       "    </tr>\n",
       "    <tr>\n",
       "      <th>2</th>\n",
       "      <td>2</td>\n",
       "      <td>0.999353</td>\n",
       "      <td>0.000176</td>\n",
       "      <td>0.000049</td>\n",
       "      <td>0.000015</td>\n",
       "      <td>0.000407</td>\n",
       "    </tr>\n",
       "    <tr>\n",
       "      <th>3</th>\n",
       "      <td>3</td>\n",
       "      <td>0.052059</td>\n",
       "      <td>0.110097</td>\n",
       "      <td>0.488082</td>\n",
       "      <td>0.002961</td>\n",
       "      <td>0.346801</td>\n",
       "    </tr>\n",
       "    <tr>\n",
       "      <th>4</th>\n",
       "      <td>4</td>\n",
       "      <td>0.071352</td>\n",
       "      <td>0.014820</td>\n",
       "      <td>0.052126</td>\n",
       "      <td>0.837394</td>\n",
       "      <td>0.024309</td>\n",
       "    </tr>\n",
       "    <tr>\n",
       "      <th>...</th>\n",
       "      <td>...</td>\n",
       "      <td>...</td>\n",
       "      <td>...</td>\n",
       "      <td>...</td>\n",
       "      <td>...</td>\n",
       "      <td>...</td>\n",
       "    </tr>\n",
       "    <tr>\n",
       "      <th>19612</th>\n",
       "      <td>19612</td>\n",
       "      <td>0.000499</td>\n",
       "      <td>0.998264</td>\n",
       "      <td>0.001012</td>\n",
       "      <td>0.000058</td>\n",
       "      <td>0.000168</td>\n",
       "    </tr>\n",
       "    <tr>\n",
       "      <th>19613</th>\n",
       "      <td>19613</td>\n",
       "      <td>0.002573</td>\n",
       "      <td>0.001239</td>\n",
       "      <td>0.000189</td>\n",
       "      <td>0.000416</td>\n",
       "      <td>0.995583</td>\n",
       "    </tr>\n",
       "    <tr>\n",
       "      <th>19614</th>\n",
       "      <td>19614</td>\n",
       "      <td>0.000642</td>\n",
       "      <td>0.998745</td>\n",
       "      <td>0.000322</td>\n",
       "      <td>0.000116</td>\n",
       "      <td>0.000175</td>\n",
       "    </tr>\n",
       "    <tr>\n",
       "      <th>19615</th>\n",
       "      <td>19615</td>\n",
       "      <td>0.000006</td>\n",
       "      <td>0.999986</td>\n",
       "      <td>0.000002</td>\n",
       "      <td>0.000001</td>\n",
       "      <td>0.000004</td>\n",
       "    </tr>\n",
       "    <tr>\n",
       "      <th>19616</th>\n",
       "      <td>19616</td>\n",
       "      <td>0.967829</td>\n",
       "      <td>0.002039</td>\n",
       "      <td>0.007947</td>\n",
       "      <td>0.004491</td>\n",
       "      <td>0.017695</td>\n",
       "    </tr>\n",
       "  </tbody>\n",
       "</table>\n",
       "<p>19617 rows × 6 columns</p>\n",
       "</div>"
      ],
      "text/plain": [
       "       index         0         1         2         3         4\n",
       "0          0  0.000948  0.997066  0.000335  0.000078  0.001573\n",
       "1          1  0.000605  0.996049  0.000153  0.003069  0.000124\n",
       "2          2  0.999353  0.000176  0.000049  0.000015  0.000407\n",
       "3          3  0.052059  0.110097  0.488082  0.002961  0.346801\n",
       "4          4  0.071352  0.014820  0.052126  0.837394  0.024309\n",
       "...      ...       ...       ...       ...       ...       ...\n",
       "19612  19612  0.000499  0.998264  0.001012  0.000058  0.000168\n",
       "19613  19613  0.002573  0.001239  0.000189  0.000416  0.995583\n",
       "19614  19614  0.000642  0.998745  0.000322  0.000116  0.000175\n",
       "19615  19615  0.000006  0.999986  0.000002  0.000001  0.000004\n",
       "19616  19616  0.967829  0.002039  0.007947  0.004491  0.017695\n",
       "\n",
       "[19617 rows x 6 columns]"
      ]
     },
     "execution_count": 30,
     "metadata": {},
     "output_type": "execute_result"
    }
   ],
   "source": [
    "submission"
   ]
  }
 ],
 "metadata": {
  "kernelspec": {
   "display_name": "py37",
   "language": "python",
   "name": "py37"
  },
  "language_info": {
   "codemirror_mode": {
    "name": "ipython",
    "version": 3
   },
   "file_extension": ".py",
   "mimetype": "text/x-python",
   "name": "python",
   "nbconvert_exporter": "python",
   "pygments_lexer": "ipython3",
   "version": "3.7.6"
  }
 },
 "nbformat": 4,
 "nbformat_minor": 2
}
