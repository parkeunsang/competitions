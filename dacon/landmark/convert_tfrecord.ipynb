{
 "cells": [
  {
   "cell_type": "code",
   "execution_count": 1,
   "metadata": {},
   "outputs": [],
   "source": [
    "from glob import glob\n",
    "import pandas as pd\n",
    "from tqdm import tqdm\n",
    "import tensorflow as tf\n",
    "import time"
   ]
  },
  {
   "cell_type": "markdown",
   "metadata": {},
   "source": [
    "### About data type functions"
   ]
  },
  {
   "cell_type": "code",
   "execution_count": 2,
   "metadata": {},
   "outputs": [],
   "source": [
    "def _bytes_feature(value):\n",
    "    \"\"\"Returns a bytes_list from a string / byte.\"\"\"\n",
    "    if isinstance(value, type(tf.constant(0))):\n",
    "        value = value.numpy() # BytesList won't unpack a string from an EagerTensor.\n",
    "    return tf.train.Feature(bytes_list=tf.train.BytesList(value=[value]))\n",
    "\n",
    "def _float_feature(value):\n",
    "    \"\"\"Returns a float_list from a float / double.\"\"\"\n",
    "    return tf.train.Feature(float_list=tf.train.FloatList(value=[value]))\n",
    "\n",
    "def _int64_feature(value):\n",
    "    \"\"\"Returns an int64_list from a bool / enum / int / uint.\"\"\"\n",
    "    return tf.train.Feature(int64_list=tf.train.Int64List(value=[value]))"
   ]
  },
  {
   "cell_type": "code",
   "execution_count": 3,
   "metadata": {},
   "outputs": [],
   "source": [
    "def image_example(imageString, label, name):\n",
    "    imageShape = tf.image.decode_jpeg(imageString).shape\n",
    "\n",
    "    feature = {\n",
    "        'image_raw': _bytes_feature(imageString), #이미지는 0~255의 3차원값들\n",
    "        'landmark_id': _int64_feature(label), #랜드마크 분류값\n",
    "        'id':_bytes_feature(name) #이미지 이름\n",
    "    }\n",
    "\n",
    "    return tf.train.Example(features=tf.train.Features(feature=feature))"
   ]
  },
  {
   "cell_type": "markdown",
   "metadata": {},
   "source": [
    "### About file names"
   ]
  },
  {
   "cell_type": "code",
   "execution_count": 4,
   "metadata": {},
   "outputs": [],
   "source": [
    "def city_name(n):\n",
    "    cityFolder = glob(\"./train/*\")\n",
    "    return cityFolder[n].split('/')[-1]"
   ]
  },
  {
   "cell_type": "code",
   "execution_count": 5,
   "metadata": {},
   "outputs": [],
   "source": [
    "def file_name_by_city(n):\n",
    "    cityFolder = glob(\"./train/*\")\n",
    "    folderNames = glob(cityFolder[n] +'/*')\n",
    "    print('folder_num : ',len(folderNames))\n",
    "    return folderNames"
   ]
  },
  {
   "cell_type": "code",
   "execution_count": 6,
   "metadata": {},
   "outputs": [],
   "source": [
    "def get_image_location(folderNames):\n",
    "    imageLabels = {}\n",
    "    for foidx in range(len(folderNames)):\n",
    "        fileNames = glob(folderNames[foidx]+'/*')\n",
    "        for i in fileNames:\n",
    "            imageLabels[i] = pictureCodeDic[i.split('/')[-1].split('.')[0]]\n",
    "    print(\"file_num : \", len(imageLabels))\n",
    "    return imageLabels"
   ]
  },
  {
   "cell_type": "code",
   "execution_count": 7,
   "metadata": {},
   "outputs": [],
   "source": [
    "#write"
   ]
  },
  {
   "cell_type": "code",
   "execution_count": 60,
   "metadata": {},
   "outputs": [],
   "source": [
    "def convert_func(imageLabels, maxiter = 1e+6):\n",
    "    start = time.time()\n",
    "    it = 0\n",
    "    for filename, label in tqdm(imageLabels.items()):\n",
    "        if(it>=maxiter):\n",
    "            break\n",
    "        imagename = filename.split('/')[-1].split('.')[0]\n",
    "        recordFile = './trainset_/train_'+imagename+'.tfrecords' #file name\n",
    "\n",
    "        with tf.io.TFRecordWriter(recordFile) as writer:\n",
    "            imageString = open(filename, 'rb').read()\n",
    "            tfExample = image_example(imageString, label, imagename.encode())\n",
    "            writer.write(tfExample.SerializeToString())\n",
    "        it+=1\n",
    "    print(time.time() -start, '(s)')"
   ]
  },
  {
   "cell_type": "code",
   "execution_count": 9,
   "metadata": {},
   "outputs": [
    {
     "name": "stderr",
     "output_type": "stream",
     "text": [
      "100%|██████████| 88102/88102 [00:21<00:00, 4165.02it/s]\n"
     ]
    }
   ],
   "source": [
    "#picture name to code\n",
    "pictureCode = pd.read_csv(\"train.csv\")\n",
    "pictureCodeDic = {}\n",
    "for i in tqdm(range(len(pictureCode))):\n",
    "    pictureCodeDic[pictureCode.iloc[i]['id']] = pictureCode.iloc[i]['landmark_id']"
   ]
  },
  {
   "cell_type": "code",
   "execution_count": 10,
   "metadata": {},
   "outputs": [
    {
     "data": {
      "text/plain": [
       "'부산시'"
      ]
     },
     "execution_count": 10,
     "metadata": {},
     "output_type": "execute_result"
    }
   ],
   "source": [
    "city_name(3)"
   ]
  },
  {
   "cell_type": "code",
   "execution_count": 11,
   "metadata": {},
   "outputs": [
    {
     "name": "stdout",
     "output_type": "stream",
     "text": [
      "folder_num :  127\n"
     ]
    }
   ],
   "source": [
    "folderNames = file_name_by_city(3)"
   ]
  },
  {
   "cell_type": "code",
   "execution_count": 12,
   "metadata": {},
   "outputs": [
    {
     "name": "stdout",
     "output_type": "stream",
     "text": [
      "file_num :  10519\n"
     ]
    }
   ],
   "source": [
    "imageLabels = get_image_location(folderNames)"
   ]
  },
  {
   "cell_type": "code",
   "execution_count": 61,
   "metadata": {},
   "outputs": [
    {
     "name": "stderr",
     "output_type": "stream",
     "text": [
      " 10%|▉         | 1000/10519 [00:22<03:38, 43.62it/s]"
     ]
    },
    {
     "name": "stdout",
     "output_type": "stream",
     "text": [
      "22.92837929725647 (s)\n"
     ]
    },
    {
     "name": "stderr",
     "output_type": "stream",
     "text": [
      "\n"
     ]
    }
   ],
   "source": [
    "convert_func(imageLabels)"
   ]
  },
  {
   "cell_type": "markdown",
   "metadata": {},
   "source": [
    "### 1000개만"
   ]
  },
  {
   "cell_type": "code",
   "execution_count": 67,
   "metadata": {},
   "outputs": [],
   "source": [
    "uniqueLabels = set(list(imageLabels.values())[:1000])"
   ]
  },
  {
   "cell_type": "code",
   "execution_count": 68,
   "metadata": {},
   "outputs": [],
   "source": [
    "labelDic = {}"
   ]
  },
  {
   "cell_type": "code",
   "execution_count": 69,
   "metadata": {},
   "outputs": [],
   "source": [
    "for idx, u in enumerate(uniqueLabels):\n",
    "    labelDic[u] = idx"
   ]
  },
  {
   "cell_type": "code",
   "execution_count": 72,
   "metadata": {},
   "outputs": [],
   "source": [
    "newLabels = {}"
   ]
  },
  {
   "cell_type": "code",
   "execution_count": 73,
   "metadata": {},
   "outputs": [],
   "source": [
    "for key, value in list(imageLabels.items())[:1000]:\n",
    "    newLabels[key] = labelDic[value]"
   ]
  },
  {
   "cell_type": "code",
   "execution_count": 75,
   "metadata": {},
   "outputs": [
    {
     "name": "stderr",
     "output_type": "stream",
     "text": [
      "100%|██████████| 1000/1000 [00:05<00:00, 168.31it/s]"
     ]
    },
    {
     "name": "stdout",
     "output_type": "stream",
     "text": [
      "5.94474458694458 (s)\n"
     ]
    },
    {
     "name": "stderr",
     "output_type": "stream",
     "text": [
      "\n"
     ]
    }
   ],
   "source": [
    "convert_func(newLabels)"
   ]
  }
 ],
 "metadata": {
  "kernelspec": {
   "display_name": "py37",
   "language": "python",
   "name": "py37"
  },
  "language_info": {
   "codemirror_mode": {
    "name": "ipython",
    "version": 3
   },
   "file_extension": ".py",
   "mimetype": "text/x-python",
   "name": "python",
   "nbconvert_exporter": "python",
   "pygments_lexer": "ipython3",
   "version": "3.7.6"
  }
 },
 "nbformat": 4,
 "nbformat_minor": 2
}
