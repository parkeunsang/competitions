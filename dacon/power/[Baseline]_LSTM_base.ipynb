{
 "cells": [
  {
   "cell_type": "markdown",
   "metadata": {},
   "source": [
    "## Import"
   ]
  },
  {
   "cell_type": "code",
   "execution_count": 1,
   "metadata": {},
   "outputs": [],
   "source": [
    "import pandas as pd\n",
    "import numpy as np\n",
    "import random\n",
    "import os\n",
    "\n",
    "from sklearn.preprocessing import MinMaxScaler\n",
    "from sklearn.preprocessing import LabelEncoder\n",
    "\n",
    "import torch\n",
    "import torch.nn as nn\n",
    "from torch.utils.data import Dataset, DataLoader \n",
    "\n",
    "from tqdm import tqdm"
   ]
  },
  {
   "cell_type": "markdown",
   "metadata": {},
   "source": [
    "## Fixed Random Seed"
   ]
  },
  {
   "cell_type": "code",
   "execution_count": 2,
   "metadata": {},
   "outputs": [],
   "source": [
    "def seed_everything(seed):\n",
    "    random.seed(seed)\n",
    "    os.environ['PYTHONHASHSEED'] = str(seed)\n",
    "    np.random.seed(seed)\n",
    "    torch.manual_seed(seed)\n",
    "    torch.cuda.manual_seed(seed)\n",
    "    torch.backends.cudnn.deterministic = True\n",
    "    torch.backends.cudnn.benchmark = True\n",
    "\n",
    "seed_everything(42) # Seed 고정"
   ]
  },
  {
   "cell_type": "markdown",
   "metadata": {},
   "source": [
    "## Data Load"
   ]
  },
  {
   "cell_type": "code",
   "execution_count": 781,
   "metadata": {},
   "outputs": [],
   "source": [
    "def train_test_split(df, th):\n",
    "    train = df[df['일시'].str[:8].astype(int) < th].reset_index(drop=True)\n",
    "    test = df[df['일시'].str[:8].astype(int) >= th].reset_index(drop=True)\n",
    "    return train, test"
   ]
  },
  {
   "cell_type": "code",
   "execution_count": 782,
   "metadata": {},
   "outputs": [],
   "source": [
    "train = pd.read_csv('./data/train.csv')"
   ]
  },
  {
   "cell_type": "code",
   "execution_count": 783,
   "metadata": {},
   "outputs": [],
   "source": [
    "train_df = pd.read_csv('./data/train.csv')\n",
    "test_df = pd.read_csv('./data/test.csv')\n",
    "sample_submission = pd.read_csv('./data/sample_submission.csv')"
   ]
  },
  {
   "cell_type": "code",
   "execution_count": 784,
   "metadata": {},
   "outputs": [],
   "source": [
    "train_df, test_df = train_test_split(train_df, 20220820)"
   ]
  },
  {
   "cell_type": "code",
   "execution_count": 785,
   "metadata": {},
   "outputs": [],
   "source": [
    "train_y = train_df['전력소비량(kWh)']\n",
    "test_y = test_df['전력소비량(kWh)']"
   ]
  },
  {
   "cell_type": "code",
   "execution_count": 786,
   "metadata": {},
   "outputs": [],
   "source": [
    "building_id_mapper = {}"
   ]
  },
  {
   "cell_type": "code",
   "execution_count": 787,
   "metadata": {},
   "outputs": [],
   "source": [
    "kWh_order = train_df.groupby('건물번호').mean()['전력소비량(kWh)'].values\n",
    "for i in range(100):\n",
    "    building_id_mapper[i+1] = kWh_order[i]"
   ]
  },
  {
   "cell_type": "code",
   "execution_count": 788,
   "metadata": {},
   "outputs": [],
   "source": [
    "train_df = train_df.replace({'건물번호': building_id_mapper})"
   ]
  },
  {
   "cell_type": "code",
   "execution_count": 789,
   "metadata": {},
   "outputs": [],
   "source": [
    "test_df = test_df.replace({'건물번호': building_id_mapper})"
   ]
  },
  {
   "cell_type": "code",
   "execution_count": 790,
   "metadata": {},
   "outputs": [
    {
     "data": {
      "text/plain": [
       "0         20220601 00\n",
       "1         20220601 01\n",
       "2         20220601 02\n",
       "3         20220601 03\n",
       "4         20220601 04\n",
       "             ...     \n",
       "203995    20220824 19\n",
       "203996    20220824 20\n",
       "203997    20220824 21\n",
       "203998    20220824 22\n",
       "203999    20220824 23\n",
       "Name: 일시, Length: 204000, dtype: object"
      ]
     },
     "execution_count": 790,
     "metadata": {},
     "output_type": "execute_result"
    }
   ],
   "source": [
    "train['일시']"
   ]
  },
  {
   "cell_type": "markdown",
   "metadata": {},
   "source": [
    "## Train Data Pre-processing"
   ]
  },
  {
   "cell_type": "code",
   "execution_count": 791,
   "metadata": {},
   "outputs": [],
   "source": [
    "def preprocessing(df, is_test=False):\n",
    "    columns = ['기온(C)', '강수량(mm)', '풍속(m/s)', '습도(%)', 'month', 'day', 'time']\n",
    "#     columns = ['건물번호', '기온(C)', '강수량(mm)', '풍속(m/s)', '습도(%)', '일시']\n",
    "    # 일조, 일사 열 제거\n",
    "    unused_columns = ['일조(hr)','일사(MJ/m2)']\n",
    "    for uc in unused_columns:\n",
    "        if uc in df.columns:\n",
    "            df = df.drop(columns=[uc])\n",
    "    print(\"===== 결측치\")\n",
    "    print(df.isna().sum())\n",
    "\n",
    "    # 강수량 결측치 0.0으로 채우기\n",
    "    df['강수량(mm)'].fillna(0.0, inplace=True)\n",
    "\n",
    "    # 풍속, 습도 결측치 평균으로 채우고 반올림하기\n",
    "    df['풍속(m/s)'].fillna(round(df['풍속(m/s)'].mean(),2), inplace=True)\n",
    "    df['습도(%)'].fillna(round(df['습도(%)'].mean(),2), inplace=True)\n",
    "    \n",
    "    df['month'] = df['일시'].apply(lambda x : float(x[4:6]))\n",
    "    df['day'] = df['일시'].apply(lambda x : float(x[6:8]))\n",
    "    df['time'] = df['일시'].apply(lambda x : float(x[9:11]))\n",
    "    \n",
    "#     df['일시'] = df['일시'].str.replace(' ', '').astype(int)\n",
    "    if is_test:\n",
    "        df['전력소비량(kWh)'] = 0\n",
    "    df = df[columns].reset_index(drop=True)\n",
    "    return df"
   ]
  },
  {
   "cell_type": "code",
   "execution_count": 792,
   "metadata": {},
   "outputs": [],
   "source": [
    "window_size = 12 # 예측에 사용될 시간 윈도우 크기"
   ]
  },
  {
   "cell_type": "code",
   "execution_count": 793,
   "metadata": {},
   "outputs": [
    {
     "name": "stdout",
     "output_type": "stream",
     "text": [
      "===== 결측치\n",
      "num_date_time         0\n",
      "건물번호                  0\n",
      "일시                    0\n",
      "기온(C)                 0\n",
      "강수량(mm)          150066\n",
      "풍속(m/s)              19\n",
      "습도(%)                 9\n",
      "전력소비량(kWh)            0\n",
      "dtype: int64\n"
     ]
    }
   ],
   "source": [
    "train_df = preprocessing(train_df)"
   ]
  },
  {
   "cell_type": "code",
   "execution_count": 794,
   "metadata": {},
   "outputs": [],
   "source": [
    "train_y_log = np.log(train_y+1)"
   ]
  },
  {
   "cell_type": "code",
   "execution_count": 795,
   "metadata": {},
   "outputs": [
    {
     "name": "stdout",
     "output_type": "stream",
     "text": [
      "===== 결측치\n",
      "num_date_time        0\n",
      "건물번호                 0\n",
      "일시                   0\n",
      "기온(C)                0\n",
      "강수량(mm)          10003\n",
      "풍속(m/s)              0\n",
      "습도(%)                0\n",
      "전력소비량(kWh)           0\n",
      "dtype: int64\n"
     ]
    }
   ],
   "source": [
    "test_df = preprocessing(test_df, is_test=True)"
   ]
  },
  {
   "cell_type": "code",
   "execution_count": 796,
   "metadata": {},
   "outputs": [],
   "source": [
    "# test_df = pd.concat([train_df[204000-window_size:], test_df], axis=0).reset_index(drop=True)"
   ]
  },
  {
   "cell_type": "markdown",
   "metadata": {},
   "source": [
    "## Hyperparameter Setting"
   ]
  },
  {
   "cell_type": "code",
   "execution_count": 797,
   "metadata": {},
   "outputs": [],
   "source": [
    "# 하이퍼파라미터\n",
    "input_size = 7  # feature의 개수\n",
    "hidden_size = 64\n",
    "num_layers = 2\n",
    "output_size = 1\n",
    "num_epochs = 5\n",
    "batch_size = 64\n",
    "learning_rate = 0.001"
   ]
  },
  {
   "cell_type": "markdown",
   "metadata": {},
   "source": [
    "## Dataset"
   ]
  },
  {
   "cell_type": "code",
   "execution_count": 798,
   "metadata": {},
   "outputs": [],
   "source": [
    "class TimeSeriesDataset(Dataset):\n",
    "    def __init__(self, df, y, window_size):\n",
    "        self.df = df\n",
    "        self.y = y\n",
    "        self.window_size = window_size\n",
    "\n",
    "    def __len__(self):\n",
    "        return len(self.df) - self.window_size\n",
    "\n",
    "    def __getitem__(self, idx):\n",
    "        x = torch.tensor(self.df[idx:idx+self.window_size, :], dtype=torch.float)\n",
    "        if self.df.shape[1] > 1:\n",
    "#             y = torch.tensor(self.df[idx+self.window_size, -1], dtype=torch.float)\n",
    "            y = torch.tensor(self.y[idx+self.window_size], dtype=torch.float)\n",
    "        else:\n",
    "            y = None\n",
    "        return x, y\n",
    "\n",
    "def create_data_loader(df, y, window_size, batch_size):\n",
    "    dataset = TimeSeriesDataset(df, y, window_size)\n",
    "    data_loader = DataLoader(dataset, batch_size=batch_size, shuffle=True)\n",
    "    return data_loader"
   ]
  },
  {
   "cell_type": "code",
   "execution_count": 799,
   "metadata": {},
   "outputs": [
    {
     "data": {
      "text/html": [
       "<div>\n",
       "<style scoped>\n",
       "    .dataframe tbody tr th:only-of-type {\n",
       "        vertical-align: middle;\n",
       "    }\n",
       "\n",
       "    .dataframe tbody tr th {\n",
       "        vertical-align: top;\n",
       "    }\n",
       "\n",
       "    .dataframe thead th {\n",
       "        text-align: right;\n",
       "    }\n",
       "</style>\n",
       "<table border=\"1\" class=\"dataframe\">\n",
       "  <thead>\n",
       "    <tr style=\"text-align: right;\">\n",
       "      <th></th>\n",
       "      <th>기온(C)</th>\n",
       "      <th>강수량(mm)</th>\n",
       "      <th>풍속(m/s)</th>\n",
       "      <th>습도(%)</th>\n",
       "      <th>month</th>\n",
       "      <th>day</th>\n",
       "      <th>time</th>\n",
       "    </tr>\n",
       "  </thead>\n",
       "  <tbody>\n",
       "    <tr>\n",
       "      <th>0</th>\n",
       "      <td>26.8</td>\n",
       "      <td>0.2</td>\n",
       "      <td>2.8</td>\n",
       "      <td>95.0</td>\n",
       "      <td>8.0</td>\n",
       "      <td>20.0</td>\n",
       "      <td>0.0</td>\n",
       "    </tr>\n",
       "    <tr>\n",
       "      <th>1</th>\n",
       "      <td>26.6</td>\n",
       "      <td>0.0</td>\n",
       "      <td>2.8</td>\n",
       "      <td>95.0</td>\n",
       "      <td>8.0</td>\n",
       "      <td>20.0</td>\n",
       "      <td>1.0</td>\n",
       "    </tr>\n",
       "    <tr>\n",
       "      <th>2</th>\n",
       "      <td>26.3</td>\n",
       "      <td>0.0</td>\n",
       "      <td>3.2</td>\n",
       "      <td>95.0</td>\n",
       "      <td>8.0</td>\n",
       "      <td>20.0</td>\n",
       "      <td>2.0</td>\n",
       "    </tr>\n",
       "    <tr>\n",
       "      <th>3</th>\n",
       "      <td>26.2</td>\n",
       "      <td>0.0</td>\n",
       "      <td>2.4</td>\n",
       "      <td>95.0</td>\n",
       "      <td>8.0</td>\n",
       "      <td>20.0</td>\n",
       "      <td>3.0</td>\n",
       "    </tr>\n",
       "    <tr>\n",
       "      <th>4</th>\n",
       "      <td>26.0</td>\n",
       "      <td>0.0</td>\n",
       "      <td>2.4</td>\n",
       "      <td>95.0</td>\n",
       "      <td>8.0</td>\n",
       "      <td>20.0</td>\n",
       "      <td>4.0</td>\n",
       "    </tr>\n",
       "    <tr>\n",
       "      <th>...</th>\n",
       "      <td>...</td>\n",
       "      <td>...</td>\n",
       "      <td>...</td>\n",
       "      <td>...</td>\n",
       "      <td>...</td>\n",
       "      <td>...</td>\n",
       "      <td>...</td>\n",
       "    </tr>\n",
       "    <tr>\n",
       "      <th>11995</th>\n",
       "      <td>23.1</td>\n",
       "      <td>0.0</td>\n",
       "      <td>0.9</td>\n",
       "      <td>86.0</td>\n",
       "      <td>8.0</td>\n",
       "      <td>24.0</td>\n",
       "      <td>19.0</td>\n",
       "    </tr>\n",
       "    <tr>\n",
       "      <th>11996</th>\n",
       "      <td>22.4</td>\n",
       "      <td>0.0</td>\n",
       "      <td>1.3</td>\n",
       "      <td>86.0</td>\n",
       "      <td>8.0</td>\n",
       "      <td>24.0</td>\n",
       "      <td>20.0</td>\n",
       "    </tr>\n",
       "    <tr>\n",
       "      <th>11997</th>\n",
       "      <td>21.3</td>\n",
       "      <td>0.0</td>\n",
       "      <td>1.0</td>\n",
       "      <td>92.0</td>\n",
       "      <td>8.0</td>\n",
       "      <td>24.0</td>\n",
       "      <td>21.0</td>\n",
       "    </tr>\n",
       "    <tr>\n",
       "      <th>11998</th>\n",
       "      <td>21.0</td>\n",
       "      <td>0.0</td>\n",
       "      <td>0.3</td>\n",
       "      <td>94.0</td>\n",
       "      <td>8.0</td>\n",
       "      <td>24.0</td>\n",
       "      <td>22.0</td>\n",
       "    </tr>\n",
       "    <tr>\n",
       "      <th>11999</th>\n",
       "      <td>20.7</td>\n",
       "      <td>0.0</td>\n",
       "      <td>0.1</td>\n",
       "      <td>95.0</td>\n",
       "      <td>8.0</td>\n",
       "      <td>24.0</td>\n",
       "      <td>23.0</td>\n",
       "    </tr>\n",
       "  </tbody>\n",
       "</table>\n",
       "<p>12000 rows × 7 columns</p>\n",
       "</div>"
      ],
      "text/plain": [
       "       기온(C)  강수량(mm)  풍속(m/s)  습도(%)  month   day  time\n",
       "0       26.8      0.2      2.8   95.0    8.0  20.0   0.0\n",
       "1       26.6      0.0      2.8   95.0    8.0  20.0   1.0\n",
       "2       26.3      0.0      3.2   95.0    8.0  20.0   2.0\n",
       "3       26.2      0.0      2.4   95.0    8.0  20.0   3.0\n",
       "4       26.0      0.0      2.4   95.0    8.0  20.0   4.0\n",
       "...      ...      ...      ...    ...    ...   ...   ...\n",
       "11995   23.1      0.0      0.9   86.0    8.0  24.0  19.0\n",
       "11996   22.4      0.0      1.3   86.0    8.0  24.0  20.0\n",
       "11997   21.3      0.0      1.0   92.0    8.0  24.0  21.0\n",
       "11998   21.0      0.0      0.3   94.0    8.0  24.0  22.0\n",
       "11999   20.7      0.0      0.1   95.0    8.0  24.0  23.0\n",
       "\n",
       "[12000 rows x 7 columns]"
      ]
     },
     "execution_count": 799,
     "metadata": {},
     "output_type": "execute_result"
    }
   ],
   "source": [
    "test_df"
   ]
  },
  {
   "cell_type": "code",
   "execution_count": 800,
   "metadata": {},
   "outputs": [
    {
     "data": {
      "text/html": [
       "<div>\n",
       "<style scoped>\n",
       "    .dataframe tbody tr th:only-of-type {\n",
       "        vertical-align: middle;\n",
       "    }\n",
       "\n",
       "    .dataframe tbody tr th {\n",
       "        vertical-align: top;\n",
       "    }\n",
       "\n",
       "    .dataframe thead th {\n",
       "        text-align: right;\n",
       "    }\n",
       "</style>\n",
       "<table border=\"1\" class=\"dataframe\">\n",
       "  <thead>\n",
       "    <tr style=\"text-align: right;\">\n",
       "      <th></th>\n",
       "      <th>기온(C)</th>\n",
       "      <th>강수량(mm)</th>\n",
       "      <th>풍속(m/s)</th>\n",
       "      <th>습도(%)</th>\n",
       "      <th>month</th>\n",
       "      <th>day</th>\n",
       "      <th>time</th>\n",
       "    </tr>\n",
       "  </thead>\n",
       "  <tbody>\n",
       "    <tr>\n",
       "      <th>0</th>\n",
       "      <td>18.6</td>\n",
       "      <td>0.0</td>\n",
       "      <td>0.9</td>\n",
       "      <td>42.0</td>\n",
       "      <td>6.0</td>\n",
       "      <td>1.0</td>\n",
       "      <td>0.0</td>\n",
       "    </tr>\n",
       "    <tr>\n",
       "      <th>1</th>\n",
       "      <td>18.0</td>\n",
       "      <td>0.0</td>\n",
       "      <td>1.1</td>\n",
       "      <td>45.0</td>\n",
       "      <td>6.0</td>\n",
       "      <td>1.0</td>\n",
       "      <td>1.0</td>\n",
       "    </tr>\n",
       "    <tr>\n",
       "      <th>2</th>\n",
       "      <td>17.7</td>\n",
       "      <td>0.0</td>\n",
       "      <td>1.5</td>\n",
       "      <td>45.0</td>\n",
       "      <td>6.0</td>\n",
       "      <td>1.0</td>\n",
       "      <td>2.0</td>\n",
       "    </tr>\n",
       "    <tr>\n",
       "      <th>3</th>\n",
       "      <td>16.7</td>\n",
       "      <td>0.0</td>\n",
       "      <td>1.4</td>\n",
       "      <td>48.0</td>\n",
       "      <td>6.0</td>\n",
       "      <td>1.0</td>\n",
       "      <td>3.0</td>\n",
       "    </tr>\n",
       "    <tr>\n",
       "      <th>4</th>\n",
       "      <td>18.4</td>\n",
       "      <td>0.0</td>\n",
       "      <td>2.8</td>\n",
       "      <td>43.0</td>\n",
       "      <td>6.0</td>\n",
       "      <td>1.0</td>\n",
       "      <td>4.0</td>\n",
       "    </tr>\n",
       "    <tr>\n",
       "      <th>...</th>\n",
       "      <td>...</td>\n",
       "      <td>...</td>\n",
       "      <td>...</td>\n",
       "      <td>...</td>\n",
       "      <td>...</td>\n",
       "      <td>...</td>\n",
       "      <td>...</td>\n",
       "    </tr>\n",
       "    <tr>\n",
       "      <th>191995</th>\n",
       "      <td>28.1</td>\n",
       "      <td>0.0</td>\n",
       "      <td>1.9</td>\n",
       "      <td>85.0</td>\n",
       "      <td>8.0</td>\n",
       "      <td>19.0</td>\n",
       "      <td>19.0</td>\n",
       "    </tr>\n",
       "    <tr>\n",
       "      <th>191996</th>\n",
       "      <td>27.7</td>\n",
       "      <td>0.0</td>\n",
       "      <td>1.8</td>\n",
       "      <td>87.0</td>\n",
       "      <td>8.0</td>\n",
       "      <td>19.0</td>\n",
       "      <td>20.0</td>\n",
       "    </tr>\n",
       "    <tr>\n",
       "      <th>191997</th>\n",
       "      <td>27.7</td>\n",
       "      <td>0.0</td>\n",
       "      <td>1.4</td>\n",
       "      <td>87.0</td>\n",
       "      <td>8.0</td>\n",
       "      <td>19.0</td>\n",
       "      <td>21.0</td>\n",
       "    </tr>\n",
       "    <tr>\n",
       "      <th>191998</th>\n",
       "      <td>27.7</td>\n",
       "      <td>0.0</td>\n",
       "      <td>2.4</td>\n",
       "      <td>86.0</td>\n",
       "      <td>8.0</td>\n",
       "      <td>19.0</td>\n",
       "      <td>22.0</td>\n",
       "    </tr>\n",
       "    <tr>\n",
       "      <th>191999</th>\n",
       "      <td>27.6</td>\n",
       "      <td>0.0</td>\n",
       "      <td>2.5</td>\n",
       "      <td>87.0</td>\n",
       "      <td>8.0</td>\n",
       "      <td>19.0</td>\n",
       "      <td>23.0</td>\n",
       "    </tr>\n",
       "  </tbody>\n",
       "</table>\n",
       "<p>192000 rows × 7 columns</p>\n",
       "</div>"
      ],
      "text/plain": [
       "        기온(C)  강수량(mm)  풍속(m/s)  습도(%)  month   day  time\n",
       "0        18.6      0.0      0.9   42.0    6.0   1.0   0.0\n",
       "1        18.0      0.0      1.1   45.0    6.0   1.0   1.0\n",
       "2        17.7      0.0      1.5   45.0    6.0   1.0   2.0\n",
       "3        16.7      0.0      1.4   48.0    6.0   1.0   3.0\n",
       "4        18.4      0.0      2.8   43.0    6.0   1.0   4.0\n",
       "...       ...      ...      ...    ...    ...   ...   ...\n",
       "191995   28.1      0.0      1.9   85.0    8.0  19.0  19.0\n",
       "191996   27.7      0.0      1.8   87.0    8.0  19.0  20.0\n",
       "191997   27.7      0.0      1.4   87.0    8.0  19.0  21.0\n",
       "191998   27.7      0.0      2.4   86.0    8.0  19.0  22.0\n",
       "191999   27.6      0.0      2.5   87.0    8.0  19.0  23.0\n",
       "\n",
       "[192000 rows x 7 columns]"
      ]
     },
     "execution_count": 800,
     "metadata": {},
     "output_type": "execute_result"
    }
   ],
   "source": [
    "train_df"
   ]
  },
  {
   "cell_type": "code",
   "execution_count": 801,
   "metadata": {},
   "outputs": [],
   "source": [
    "# normalization\n",
    "scaler = MinMaxScaler()\n",
    "train_data = scaler.fit_transform(train_df.values)"
   ]
  },
  {
   "cell_type": "code",
   "execution_count": 802,
   "metadata": {},
   "outputs": [],
   "source": [
    "# train_data = np.concatenate([train_df.iloc[:, 0].values.reshape(-1, 1), train_data], axis=1)"
   ]
  },
  {
   "cell_type": "code",
   "execution_count": 803,
   "metadata": {},
   "outputs": [],
   "source": [
    "# train_loader = create_data_loader(train_data, train_y, window_size, batch_size)\n",
    "train_loader = create_data_loader(train_data, train_y, window_size, batch_size)"
   ]
  },
  {
   "cell_type": "code",
   "execution_count": 804,
   "metadata": {},
   "outputs": [],
   "source": [
    "test_data = scaler.transform(test_df.values) # train과 동일하게 scaling"
   ]
  },
  {
   "cell_type": "code",
   "execution_count": 805,
   "metadata": {},
   "outputs": [],
   "source": [
    "# test_data = np.concatenate([test_df.iloc[:, 0].values.reshape(-1, 1), test_data], axis=1)"
   ]
  },
  {
   "cell_type": "code",
   "execution_count": 806,
   "metadata": {},
   "outputs": [],
   "source": [
    "# Dataset & DataLoader\n",
    "test_dataset = TimeSeriesDataset(test_data, test_y, window_size)\n",
    "test_loader = DataLoader(test_dataset, batch_size=1, shuffle=False)"
   ]
  },
  {
   "cell_type": "markdown",
   "metadata": {},
   "source": [
    "## Model Define"
   ]
  },
  {
   "cell_type": "code",
   "execution_count": 807,
   "metadata": {},
   "outputs": [],
   "source": [
    "class LSTM(nn.Module):\n",
    "    def __init__(self, input_size, hidden_size, num_layers, output_size):\n",
    "        super(LSTM, self).__init__()\n",
    "\n",
    "        self.hidden_size = hidden_size\n",
    "        self.num_layers = num_layers\n",
    "\n",
    "        self.lstm = nn.LSTM(input_size, hidden_size, num_layers, batch_first=True)\n",
    "        self.fc1 = nn.Linear(hidden_size, 48)\n",
    "        self.fc2 = nn.Linear(48, 1)\n",
    "\n",
    "    def forward(self, x):\n",
    "        h0 = torch.zeros(self.num_layers, x.size(0), self.hidden_size).to(x.device) \n",
    "        c0 = torch.zeros(self.num_layers, x.size(0), self.hidden_size).to(x.device)\n",
    "\n",
    "        out, _ = self.lstm(x, (h0, c0))\n",
    "        out = self.fc1(out[:, -1, :])\n",
    "        out = torch.nn.functional.gelu(out)\n",
    "        out = self.fc2(out)\n",
    "\n",
    "        return out"
   ]
  },
  {
   "cell_type": "code",
   "execution_count": 808,
   "metadata": {},
   "outputs": [
    {
     "name": "stdout",
     "output_type": "stream",
     "text": [
      "current device: cpu\n"
     ]
    }
   ],
   "source": [
    "device = torch.device('cuda' if torch.cuda.is_available() else 'cpu')\n",
    "print(f\"current device: {device}\")\n",
    "\n",
    "model = LSTM(input_size, hidden_size, num_layers, output_size).to(device)\n",
    "\n",
    "# criterion = nn.MSELoss()\n",
    "criterion = nn.L1Loss()\n",
    "optimizer = torch.optim.Adam(model.parameters(), lr=learning_rate)"
   ]
  },
  {
   "cell_type": "markdown",
   "metadata": {},
   "source": [
    "## Train"
   ]
  },
  {
   "cell_type": "code",
   "execution_count": 809,
   "metadata": {},
   "outputs": [
    {
     "name": "stdout",
     "output_type": "stream",
     "text": [
      "Epoch [1/5], Step [300/3000], Loss: 2669.4355\n",
      "Epoch [1/5], Step [600/3000], Loss: 1649.9869\n",
      "Epoch [1/5], Step [900/3000], Loss: 1513.7834\n",
      "Epoch [1/5], Step [1200/3000], Loss: 1067.0603\n",
      "Epoch [1/5], Step [1500/3000], Loss: 1482.5178\n",
      "Epoch [1/5], Step [1800/3000], Loss: 1130.9070\n",
      "Epoch [1/5], Step [2100/3000], Loss: 1406.8228\n",
      "Epoch [1/5], Step [2400/3000], Loss: 1587.7223\n",
      "Epoch [1/5], Step [2700/3000], Loss: 999.4359\n",
      "Epoch [1/5], Step [3000/3000], Loss: 1375.3641\n",
      "Epoch [2/5], Step [300/3000], Loss: 1403.7498\n",
      "Epoch [2/5], Step [600/3000], Loss: 1120.5962\n",
      "Epoch [2/5], Step [900/3000], Loss: 1192.0476\n",
      "Epoch [2/5], Step [1200/3000], Loss: 1230.7208\n",
      "Epoch [2/5], Step [1500/3000], Loss: 1131.4420\n",
      "Epoch [2/5], Step [1800/3000], Loss: 1410.0828\n",
      "Epoch [2/5], Step [2100/3000], Loss: 1354.4412\n",
      "Epoch [2/5], Step [2400/3000], Loss: 1024.1580\n",
      "Epoch [2/5], Step [2700/3000], Loss: 993.8912\n",
      "Epoch [2/5], Step [3000/3000], Loss: 1384.0103\n",
      "Epoch [3/5], Step [300/3000], Loss: 1277.7648\n",
      "Epoch [3/5], Step [600/3000], Loss: 881.3939\n",
      "Epoch [3/5], Step [900/3000], Loss: 1591.4124\n",
      "Epoch [3/5], Step [1200/3000], Loss: 1425.5596\n",
      "Epoch [3/5], Step [1500/3000], Loss: 1640.0507\n",
      "Epoch [3/5], Step [1800/3000], Loss: 1055.5468\n",
      "Epoch [3/5], Step [2100/3000], Loss: 1631.4944\n",
      "Epoch [3/5], Step [2400/3000], Loss: 1220.6927\n",
      "Epoch [3/5], Step [2700/3000], Loss: 1682.4229\n",
      "Epoch [3/5], Step [3000/3000], Loss: 1054.4917\n"
     ]
    }
   ],
   "source": [
    "for epoch in range(3):\n",
    "    for i, (inputs, labels) in enumerate(train_loader):\n",
    "        inputs = inputs.to(device)\n",
    "        labels = labels.unsqueeze(1).to(device)\n",
    "\n",
    "        # Forward\n",
    "        outputs = model(inputs)\n",
    "        loss = criterion(outputs, labels)\n",
    "\n",
    "        # Backward and optimize\n",
    "        optimizer.zero_grad()\n",
    "        loss.backward()\n",
    "        optimizer.step()\n",
    "\n",
    "        if (i+1) % 300 == 0:\n",
    "            print ('Epoch [{}/{}], Step [{}/{}], Loss: {:.4f}' \n",
    "                   .format(epoch+1, num_epochs, i+1, len(train_loader), loss.item()))"
   ]
  },
  {
   "cell_type": "code",
   "execution_count": 819,
   "metadata": {},
   "outputs": [
    {
     "data": {
      "text/plain": [
       "<Axes: >"
      ]
     },
     "execution_count": 819,
     "metadata": {},
     "output_type": "execute_result"
    },
    {
     "data": {
      "image/png": "[encoded data removed]",
      "text/plain": [
       "<Figure size 432x288 with 1 Axes>"
      ]
     },
     "metadata": {
      "needs_background": "light"
     },
     "output_type": "display_data"
    }
   ],
   "source": [
    "train[train['건물번호'] == 3]['전력소비량(kWh)'][:120].plot()"
   ]
  },
  {
   "cell_type": "code",
   "execution_count": 820,
   "metadata": {},
   "outputs": [
    {
     "data": {
      "text/plain": [
       "<Axes: >"
      ]
     },
     "execution_count": 820,
     "metadata": {},
     "output_type": "execute_result"
    },
    {
     "data": {
      "image/png": "[encoded data removed]",
      "text/plain": [
       "<Figure size 432x288 with 1 Axes>"
      ]
     },
     "metadata": {
      "needs_background": "light"
     },
     "output_type": "display_data"
    }
   ],
   "source": [
    "train[train['건물번호'] == 3]['전력소비량(kWh)'][-120:].plot()"
   ]
  },
  {
   "cell_type": "code",
   "execution_count": 821,
   "metadata": {},
   "outputs": [
    {
     "data": {
      "text/html": [
       "<div>\n",
       "<style scoped>\n",
       "    .dataframe tbody tr th:only-of-type {\n",
       "        vertical-align: middle;\n",
       "    }\n",
       "\n",
       "    .dataframe tbody tr th {\n",
       "        vertical-align: top;\n",
       "    }\n",
       "\n",
       "    .dataframe thead th {\n",
       "        text-align: right;\n",
       "    }\n",
       "</style>\n",
       "<table border=\"1\" class=\"dataframe\">\n",
       "  <thead>\n",
       "    <tr style=\"text-align: right;\">\n",
       "      <th></th>\n",
       "      <th>num_date_time</th>\n",
       "      <th>건물번호</th>\n",
       "      <th>일시</th>\n",
       "      <th>기온(C)</th>\n",
       "      <th>강수량(mm)</th>\n",
       "      <th>풍속(m/s)</th>\n",
       "      <th>습도(%)</th>\n",
       "      <th>일조(hr)</th>\n",
       "      <th>일사(MJ/m2)</th>\n",
       "      <th>전력소비량(kWh)</th>\n",
       "    </tr>\n",
       "  </thead>\n",
       "  <tbody>\n",
       "    <tr>\n",
       "      <th>0</th>\n",
       "      <td>1_20220601 00</td>\n",
       "      <td>1</td>\n",
       "      <td>20220601 00</td>\n",
       "      <td>18.6</td>\n",
       "      <td>NaN</td>\n",
       "      <td>0.9</td>\n",
       "      <td>42.0</td>\n",
       "      <td>NaN</td>\n",
       "      <td>NaN</td>\n",
       "      <td>1085.28</td>\n",
       "    </tr>\n",
       "    <tr>\n",
       "      <th>1</th>\n",
       "      <td>1_20220601 01</td>\n",
       "      <td>1</td>\n",
       "      <td>20220601 01</td>\n",
       "      <td>18.0</td>\n",
       "      <td>NaN</td>\n",
       "      <td>1.1</td>\n",
       "      <td>45.0</td>\n",
       "      <td>NaN</td>\n",
       "      <td>NaN</td>\n",
       "      <td>1047.36</td>\n",
       "    </tr>\n",
       "    <tr>\n",
       "      <th>2</th>\n",
       "      <td>1_20220601 02</td>\n",
       "      <td>1</td>\n",
       "      <td>20220601 02</td>\n",
       "      <td>17.7</td>\n",
       "      <td>NaN</td>\n",
       "      <td>1.5</td>\n",
       "      <td>45.0</td>\n",
       "      <td>NaN</td>\n",
       "      <td>NaN</td>\n",
       "      <td>974.88</td>\n",
       "    </tr>\n",
       "    <tr>\n",
       "      <th>3</th>\n",
       "      <td>1_20220601 03</td>\n",
       "      <td>1</td>\n",
       "      <td>20220601 03</td>\n",
       "      <td>16.7</td>\n",
       "      <td>NaN</td>\n",
       "      <td>1.4</td>\n",
       "      <td>48.0</td>\n",
       "      <td>NaN</td>\n",
       "      <td>NaN</td>\n",
       "      <td>953.76</td>\n",
       "    </tr>\n",
       "    <tr>\n",
       "      <th>4</th>\n",
       "      <td>1_20220601 04</td>\n",
       "      <td>1</td>\n",
       "      <td>20220601 04</td>\n",
       "      <td>18.4</td>\n",
       "      <td>NaN</td>\n",
       "      <td>2.8</td>\n",
       "      <td>43.0</td>\n",
       "      <td>NaN</td>\n",
       "      <td>NaN</td>\n",
       "      <td>986.40</td>\n",
       "    </tr>\n",
       "    <tr>\n",
       "      <th>...</th>\n",
       "      <td>...</td>\n",
       "      <td>...</td>\n",
       "      <td>...</td>\n",
       "      <td>...</td>\n",
       "      <td>...</td>\n",
       "      <td>...</td>\n",
       "      <td>...</td>\n",
       "      <td>...</td>\n",
       "      <td>...</td>\n",
       "      <td>...</td>\n",
       "    </tr>\n",
       "    <tr>\n",
       "      <th>203995</th>\n",
       "      <td>100_20220824 19</td>\n",
       "      <td>100</td>\n",
       "      <td>20220824 19</td>\n",
       "      <td>23.1</td>\n",
       "      <td>NaN</td>\n",
       "      <td>0.9</td>\n",
       "      <td>86.0</td>\n",
       "      <td>0.5</td>\n",
       "      <td>NaN</td>\n",
       "      <td>881.04</td>\n",
       "    </tr>\n",
       "    <tr>\n",
       "      <th>203996</th>\n",
       "      <td>100_20220824 20</td>\n",
       "      <td>100</td>\n",
       "      <td>20220824 20</td>\n",
       "      <td>22.4</td>\n",
       "      <td>NaN</td>\n",
       "      <td>1.3</td>\n",
       "      <td>86.0</td>\n",
       "      <td>0.0</td>\n",
       "      <td>NaN</td>\n",
       "      <td>798.96</td>\n",
       "    </tr>\n",
       "    <tr>\n",
       "      <th>203997</th>\n",
       "      <td>100_20220824 21</td>\n",
       "      <td>100</td>\n",
       "      <td>20220824 21</td>\n",
       "      <td>21.3</td>\n",
       "      <td>NaN</td>\n",
       "      <td>1.0</td>\n",
       "      <td>92.0</td>\n",
       "      <td>NaN</td>\n",
       "      <td>NaN</td>\n",
       "      <td>825.12</td>\n",
       "    </tr>\n",
       "    <tr>\n",
       "      <th>203998</th>\n",
       "      <td>100_20220824 22</td>\n",
       "      <td>100</td>\n",
       "      <td>20220824 22</td>\n",
       "      <td>21.0</td>\n",
       "      <td>NaN</td>\n",
       "      <td>0.3</td>\n",
       "      <td>94.0</td>\n",
       "      <td>NaN</td>\n",
       "      <td>NaN</td>\n",
       "      <td>640.08</td>\n",
       "    </tr>\n",
       "    <tr>\n",
       "      <th>203999</th>\n",
       "      <td>100_20220824 23</td>\n",
       "      <td>100</td>\n",
       "      <td>20220824 23</td>\n",
       "      <td>20.7</td>\n",
       "      <td>NaN</td>\n",
       "      <td>0.1</td>\n",
       "      <td>95.0</td>\n",
       "      <td>NaN</td>\n",
       "      <td>NaN</td>\n",
       "      <td>540.24</td>\n",
       "    </tr>\n",
       "  </tbody>\n",
       "</table>\n",
       "<p>204000 rows × 10 columns</p>\n",
       "</div>"
      ],
      "text/plain": [
       "          num_date_time  건물번호           일시  기온(C)  강수량(mm)  풍속(m/s)  습도(%)  \\\n",
       "0         1_20220601 00     1  20220601 00   18.6      NaN      0.9   42.0   \n",
       "1         1_20220601 01     1  20220601 01   18.0      NaN      1.1   45.0   \n",
       "2         1_20220601 02     1  20220601 02   17.7      NaN      1.5   45.0   \n",
       "3         1_20220601 03     1  20220601 03   16.7      NaN      1.4   48.0   \n",
       "4         1_20220601 04     1  20220601 04   18.4      NaN      2.8   43.0   \n",
       "...                 ...   ...          ...    ...      ...      ...    ...   \n",
       "203995  100_20220824 19   100  20220824 19   23.1      NaN      0.9   86.0   \n",
       "203996  100_20220824 20   100  20220824 20   22.4      NaN      1.3   86.0   \n",
       "203997  100_20220824 21   100  20220824 21   21.3      NaN      1.0   92.0   \n",
       "203998  100_20220824 22   100  20220824 22   21.0      NaN      0.3   94.0   \n",
       "203999  100_20220824 23   100  20220824 23   20.7      NaN      0.1   95.0   \n",
       "\n",
       "        일조(hr)  일사(MJ/m2)  전력소비량(kWh)  \n",
       "0          NaN        NaN     1085.28  \n",
       "1          NaN        NaN     1047.36  \n",
       "2          NaN        NaN      974.88  \n",
       "3          NaN        NaN      953.76  \n",
       "4          NaN        NaN      986.40  \n",
       "...        ...        ...         ...  \n",
       "203995     0.5        NaN      881.04  \n",
       "203996     0.0        NaN      798.96  \n",
       "203997     NaN        NaN      825.12  \n",
       "203998     NaN        NaN      640.08  \n",
       "203999     NaN        NaN      540.24  \n",
       "\n",
       "[204000 rows x 10 columns]"
      ]
     },
     "execution_count": 821,
     "metadata": {},
     "output_type": "execute_result"
    }
   ],
   "source": [
    "train"
   ]
  },
  {
   "cell_type": "markdown",
   "metadata": {},
   "source": [
    "## Inference"
   ]
  },
  {
   "cell_type": "code",
   "execution_count": 772,
   "metadata": {},
   "outputs": [],
   "source": [
    "model.eval()\n",
    "\n",
    "test_predictions = []\n",
    "xes = []\n",
    "with torch.no_grad():\n",
    "    for i in range(test_data.shape[0] - window_size):\n",
    "        x = torch.Tensor(test_data[i:i+window_size,:]).to(device)\n",
    "        new_x = model(x.view(1,window_size,-1))\n",
    "#         xes.append(new_x)\n",
    "#         test_data[i+window_size,-1] = new_x # 입력 업데이트\n",
    "        test_predictions.append(new_x.detach().cpu().numpy().item()) # 예측 결과 저장"
   ]
  },
  {
   "cell_type": "markdown",
   "metadata": {},
   "source": [
    "## Validate"
   ]
  },
  {
   "cell_type": "code",
   "execution_count": 773,
   "metadata": {},
   "outputs": [],
   "source": [
    "def SMAPE(y, pred):\n",
    "    smape = abs((y - pred))/((abs(y) + abs(pred)) / 2) * 100\n",
    "    smape = np.mean(smape)\n",
    "    return smape\n",
    "\n",
    "def mae(y, pred):\n",
    "    return np.mean(abs(y-pred))"
   ]
  },
  {
   "cell_type": "code",
   "execution_count": 774,
   "metadata": {},
   "outputs": [],
   "source": [
    "# pred = scaler.inverse_transform(test_data)[window_size:,-1] # 원래 scale로 복구"
   ]
  },
  {
   "cell_type": "code",
   "execution_count": 775,
   "metadata": {},
   "outputs": [],
   "source": [
    "pred = np.array(test_predictions)"
   ]
  },
  {
   "cell_type": "code",
   "execution_count": 776,
   "metadata": {},
   "outputs": [],
   "source": [
    "y = test_y.values[window_size:]"
   ]
  },
  {
   "cell_type": "code",
   "execution_count": 777,
   "metadata": {},
   "outputs": [
    {
     "data": {
      "text/html": [
       "<div>\n",
       "<style scoped>\n",
       "    .dataframe tbody tr th:only-of-type {\n",
       "        vertical-align: middle;\n",
       "    }\n",
       "\n",
       "    .dataframe tbody tr th {\n",
       "        vertical-align: top;\n",
       "    }\n",
       "\n",
       "    .dataframe thead th {\n",
       "        text-align: right;\n",
       "    }\n",
       "</style>\n",
       "<table border=\"1\" class=\"dataframe\">\n",
       "  <thead>\n",
       "    <tr style=\"text-align: right;\">\n",
       "      <th></th>\n",
       "      <th>y</th>\n",
       "      <th>pred</th>\n",
       "    </tr>\n",
       "  </thead>\n",
       "  <tbody>\n",
       "    <tr>\n",
       "      <th>5710</th>\n",
       "      <td>2571.48</td>\n",
       "      <td>1302.590332</td>\n",
       "    </tr>\n",
       "    <tr>\n",
       "      <th>4934</th>\n",
       "      <td>364.68</td>\n",
       "      <td>1383.057373</td>\n",
       "    </tr>\n",
       "    <tr>\n",
       "      <th>9402</th>\n",
       "      <td>2405.76</td>\n",
       "      <td>2041.299194</td>\n",
       "    </tr>\n",
       "    <tr>\n",
       "      <th>3160</th>\n",
       "      <td>14756.00</td>\n",
       "      <td>8967.192383</td>\n",
       "    </tr>\n",
       "    <tr>\n",
       "      <th>9962</th>\n",
       "      <td>1822.56</td>\n",
       "      <td>1831.850952</td>\n",
       "    </tr>\n",
       "    <tr>\n",
       "      <th>9822</th>\n",
       "      <td>2694.24</td>\n",
       "      <td>2078.967041</td>\n",
       "    </tr>\n",
       "    <tr>\n",
       "      <th>4472</th>\n",
       "      <td>2281.32</td>\n",
       "      <td>1661.502441</td>\n",
       "    </tr>\n",
       "    <tr>\n",
       "      <th>6460</th>\n",
       "      <td>3161.52</td>\n",
       "      <td>1862.408691</td>\n",
       "    </tr>\n",
       "    <tr>\n",
       "      <th>5293</th>\n",
       "      <td>2593.44</td>\n",
       "      <td>2188.164795</td>\n",
       "    </tr>\n",
       "    <tr>\n",
       "      <th>10310</th>\n",
       "      <td>880.56</td>\n",
       "      <td>841.478638</td>\n",
       "    </tr>\n",
       "  </tbody>\n",
       "</table>\n",
       "</div>"
      ],
      "text/plain": [
       "              y         pred\n",
       "5710    2571.48  1302.590332\n",
       "4934     364.68  1383.057373\n",
       "9402    2405.76  2041.299194\n",
       "3160   14756.00  8967.192383\n",
       "9962    1822.56  1831.850952\n",
       "9822    2694.24  2078.967041\n",
       "4472    2281.32  1661.502441\n",
       "6460    3161.52  1862.408691\n",
       "5293    2593.44  2188.164795\n",
       "10310    880.56   841.478638"
      ]
     },
     "execution_count": 777,
     "metadata": {},
     "output_type": "execute_result"
    }
   ],
   "source": [
    "pd.DataFrame({'y':y, 'pred': pred}).sample(10)"
   ]
  },
  {
   "cell_type": "code",
   "execution_count": 778,
   "metadata": {},
   "outputs": [
    {
     "data": {
      "text/plain": [
       "<Axes: >"
      ]
     },
     "execution_count": 778,
     "metadata": {},
     "output_type": "execute_result"
    },
    {
     "data": {
      "image/png": "[encoded data removed]",
      "text/plain": [
       "<Figure size 432x288 with 1 Axes>"
      ]
     },
     "metadata": {
      "needs_background": "light"
     },
     "output_type": "display_data"
    }
   ],
   "source": [
    "pd.DataFrame({'y':y, 'pred': pred}).plot()"
   ]
  },
  {
   "cell_type": "code",
   "execution_count": 779,
   "metadata": {},
   "outputs": [
    {
     "data": {
      "text/plain": [
       "34.39549032708791"
      ]
     },
     "execution_count": 779,
     "metadata": {},
     "output_type": "execute_result"
    }
   ],
   "source": [
    "SMAPE(y, pred)"
   ]
  },
  {
   "cell_type": "code",
   "execution_count": 780,
   "metadata": {},
   "outputs": [
    {
     "data": {
      "text/plain": [
       "790.0377546172066"
      ]
     },
     "execution_count": 780,
     "metadata": {},
     "output_type": "execute_result"
    }
   ],
   "source": [
    "mae(y, pred)"
   ]
  },
  {
   "cell_type": "markdown",
   "metadata": {},
   "source": [
    "## Submit"
   ]
  },
  {
   "cell_type": "code",
   "execution_count": 19,
   "metadata": {},
   "outputs": [],
   "source": [
    "predictions = scaler.inverse_transform(test_data)[24:,-1] # 원래 scale로 복구"
   ]
  },
  {
   "cell_type": "code",
   "execution_count": 20,
   "metadata": {},
   "outputs": [
    {
     "data": {
      "text/html": [
       "<div>\n",
       "<style scoped>\n",
       "    .dataframe tbody tr th:only-of-type {\n",
       "        vertical-align: middle;\n",
       "    }\n",
       "\n",
       "    .dataframe tbody tr th {\n",
       "        vertical-align: top;\n",
       "    }\n",
       "\n",
       "    .dataframe thead th {\n",
       "        text-align: right;\n",
       "    }\n",
       "</style>\n",
       "<table border=\"1\" class=\"dataframe\">\n",
       "  <thead>\n",
       "    <tr style=\"text-align: right;\">\n",
       "      <th></th>\n",
       "      <th>num_date_time</th>\n",
       "      <th>answer</th>\n",
       "    </tr>\n",
       "  </thead>\n",
       "  <tbody>\n",
       "    <tr>\n",
       "      <th>0</th>\n",
       "      <td>1_20220825 00</td>\n",
       "      <td>492.777998</td>\n",
       "    </tr>\n",
       "    <tr>\n",
       "      <th>1</th>\n",
       "      <td>1_20220825 01</td>\n",
       "      <td>508.540358</td>\n",
       "    </tr>\n",
       "    <tr>\n",
       "      <th>2</th>\n",
       "      <td>1_20220825 02</td>\n",
       "      <td>507.235912</td>\n",
       "    </tr>\n",
       "    <tr>\n",
       "      <th>3</th>\n",
       "      <td>1_20220825 03</td>\n",
       "      <td>520.526870</td>\n",
       "    </tr>\n",
       "    <tr>\n",
       "      <th>4</th>\n",
       "      <td>1_20220825 04</td>\n",
       "      <td>579.702946</td>\n",
       "    </tr>\n",
       "  </tbody>\n",
       "</table>\n",
       "</div>"
      ],
      "text/plain": [
       "   num_date_time      answer\n",
       "0  1_20220825 00  492.777998\n",
       "1  1_20220825 01  508.540358\n",
       "2  1_20220825 02  507.235912\n",
       "3  1_20220825 03  520.526870\n",
       "4  1_20220825 04  579.702946"
      ]
     },
     "execution_count": 20,
     "metadata": {},
     "output_type": "execute_result"
    }
   ],
   "source": [
    "sample_submission['answer'] = predictions\n",
    "sample_submission.head()"
   ]
  },
  {
   "cell_type": "code",
   "execution_count": null,
   "metadata": {},
   "outputs": [],
   "source": [
    "sample_submission.to_csv('lstm_baseline_submission.csv', index=False)"
   ]
  }
 ],
 "metadata": {
  "kernelspec": {
   "display_name": "ds",
   "language": "python",
   "name": ".venv_ds"
  },
  "language_info": {
   "codemirror_mode": {
    "name": "ipython",
    "version": 3
   },
   "file_extension": ".py",
   "mimetype": "text/x-python",
   "name": "python",
   "nbconvert_exporter": "python",
   "pygments_lexer": "ipython3",
   "version": "3.9.13"
  }
 },
 "nbformat": 4,
 "nbformat_minor": 2
}
