{
 "cells": [
  {
   "cell_type": "markdown",
   "id": "a38752b7",
   "metadata": {},
   "source": [
    "# Feature Engineering with LGBM\n",
    "해당코드는 [[Baseline] Random Forest](https://dacon.io/competitions/official/236125/codeshare/8492?page=1&dtype=recent)를 참조하였습니다."
   ]
  },
  {
   "cell_type": "markdown",
   "id": "323ff014",
   "metadata": {},
   "source": [
    "## Import Libraries"
   ]
  },
  {
   "cell_type": "code",
   "execution_count": 1,
   "id": "rBvX-8P2QwYy",
   "metadata": {
    "ExecuteTime": {
     "end_time": "2022-07-11T08:41:57.003103Z",
     "start_time": "2022-07-11T08:41:53.892893Z"
    },
    "executionInfo": {
     "elapsed": 2132,
     "status": "ok",
     "timestamp": 1683473184964,
     "user": {
      "displayName": "이승윤",
      "userId": "17995305622900705411"
     },
     "user_tz": -540
    },
    "id": "rBvX-8P2QwYy"
   },
   "outputs": [],
   "source": [
    "import random\n",
    "import pandas as pd\n",
    "import numpy as np\n",
    "import os\n",
    "from tqdm import tqdm\n",
    "import lightgbm as lgb"
   ]
  },
  {
   "cell_type": "markdown",
   "id": "QT7_IBn9QwYz",
   "metadata": {
    "id": "QT7_IBn9QwYz"
   },
   "source": [
    "## Fixed Random-Seed"
   ]
  },
  {
   "cell_type": "code",
   "execution_count": 2,
   "id": "KgyHxME7QwYz",
   "metadata": {
    "ExecuteTime": {
     "end_time": "2022-07-11T08:41:57.009050Z",
     "start_time": "2022-07-11T08:41:57.006949Z"
    },
    "executionInfo": {
     "elapsed": 2,
     "status": "ok",
     "timestamp": 1683473189486,
     "user": {
      "displayName": "이승윤",
      "userId": "17995305622900705411"
     },
     "user_tz": -540
    },
    "id": "KgyHxME7QwYz"
   },
   "outputs": [],
   "source": [
    "def seed_everything(seed):\n",
    "    random.seed(seed)\n",
    "    os.environ['PYTHONHASHSEED'] = str(seed)\n",
    "    np.random.seed(seed)\n",
    "\n",
    "seed_everything(42) # Seed 고정"
   ]
  },
  {
   "cell_type": "markdown",
   "id": "a0b96368",
   "metadata": {},
   "source": [
    "## Load Data\n",
    "- !data폴더 안에 데이터가 들어있습니다"
   ]
  },
  {
   "cell_type": "code",
   "execution_count": 3,
   "id": "3979c375",
   "metadata": {},
   "outputs": [],
   "source": [
    "train_origin = pd.read_csv('./data/train.csv')\n",
    "test_origin = pd.read_csv('./data/test.csv')"
   ]
  },
  {
   "cell_type": "code",
   "execution_count": 6,
   "id": "2aea43a7",
   "metadata": {},
   "outputs": [],
   "source": [
    "building = pd.read_csv('./data/building_info.csv')"
   ]
  },
  {
   "cell_type": "markdown",
   "id": "r-3_zmrwQwYz",
   "metadata": {
    "id": "r-3_zmrwQwYz"
   },
   "source": [
    "## Train Data Pre-Processing\n",
    "- train 데이터를 20220820 기준으로 train/validation으로 분리해 사용하였습니다.\n",
    "- validation 데이터의 score를 높이는 방향으로 모델을 search한 후 전체 train 데이터를 사용해 모델을 학습하고, test 데이터를 기반으로 예측해 최종 score를 제출하였습니다."
   ]
  },
  {
   "cell_type": "code",
   "execution_count": 7,
   "id": "8ff6a9d9",
   "metadata": {},
   "outputs": [],
   "source": [
    "def train_test_split(df, th):\n",
    "    train = df[df['일시'].str[:8].astype(int) < th].reset_index(drop=True)\n",
    "    test = df[df['일시'].str[:8].astype(int) >= th].reset_index(drop=True)\n",
    "    return train, test"
   ]
  },
  {
   "cell_type": "code",
   "execution_count": 8,
   "id": "f5766eb5",
   "metadata": {},
   "outputs": [],
   "source": [
    "def preprocess_x(df):\n",
    "    to_remove_columns = ['num_date_time', '일시', '일조(hr)', '일사(MJ/m2)', '전력소비량(kWh)']\n",
    "    df = df.fillna(0)\n",
    "    #시계열 특성을 학습에 반영하기 위해 일시를 월, 일, 시간으로 나눕니다\n",
    "    df['month'] = df['일시'].apply(lambda x : int(x[4:6]))\n",
    "    df['day'] = df['일시'].apply(lambda x : int(x[6:8]))\n",
    "    df['time'] = df['일시'].apply(lambda x : int(x[9:11]))\n",
    "    df = df.merge(building.iloc[:, :4])\n",
    "    df['건물유형'] = df['건물유형'].astype('category').cat.codes\n",
    "    for c in to_remove_columns:\n",
    "        if c in df.columns:\n",
    "            df = df.drop(columns=[c])\n",
    "    return df"
   ]
  },
  {
   "cell_type": "code",
   "execution_count": 9,
   "id": "c56e0f69",
   "metadata": {},
   "outputs": [],
   "source": [
    "date_th = 20220820"
   ]
  },
  {
   "cell_type": "code",
   "execution_count": 10,
   "id": "2eb5345b",
   "metadata": {},
   "outputs": [],
   "source": [
    "train_df, valid_df = train_test_split(train_origin, date_th)\n",
    "train_x = preprocess_x(train_df)\n",
    "train_y = train_df['전력소비량(kWh)']\n",
    "\n",
    "valid_x = preprocess_x(valid_df)\n",
    "valid_y = valid_df['전력소비량(kWh)']"
   ]
  },
  {
   "cell_type": "code",
   "execution_count": 11,
   "id": "4d5c633e",
   "metadata": {},
   "outputs": [
    {
     "data": {
      "text/html": [
       "<div>\n",
       "<style scoped>\n",
       "    .dataframe tbody tr th:only-of-type {\n",
       "        vertical-align: middle;\n",
       "    }\n",
       "\n",
       "    .dataframe tbody tr th {\n",
       "        vertical-align: top;\n",
       "    }\n",
       "\n",
       "    .dataframe thead th {\n",
       "        text-align: right;\n",
       "    }\n",
       "</style>\n",
       "<table border=\"1\" class=\"dataframe\">\n",
       "  <thead>\n",
       "    <tr style=\"text-align: right;\">\n",
       "      <th></th>\n",
       "      <th>건물번호</th>\n",
       "      <th>기온(C)</th>\n",
       "      <th>강수량(mm)</th>\n",
       "      <th>풍속(m/s)</th>\n",
       "      <th>습도(%)</th>\n",
       "      <th>month</th>\n",
       "      <th>day</th>\n",
       "      <th>time</th>\n",
       "      <th>건물유형</th>\n",
       "      <th>연면적(m2)</th>\n",
       "      <th>냉방면적(m2)</th>\n",
       "    </tr>\n",
       "  </thead>\n",
       "  <tbody>\n",
       "    <tr>\n",
       "      <th>0</th>\n",
       "      <td>1</td>\n",
       "      <td>18.6</td>\n",
       "      <td>0.0</td>\n",
       "      <td>0.9</td>\n",
       "      <td>42.0</td>\n",
       "      <td>6</td>\n",
       "      <td>1</td>\n",
       "      <td>0</td>\n",
       "      <td>0</td>\n",
       "      <td>110634.0</td>\n",
       "      <td>39570.0</td>\n",
       "    </tr>\n",
       "    <tr>\n",
       "      <th>1</th>\n",
       "      <td>1</td>\n",
       "      <td>18.0</td>\n",
       "      <td>0.0</td>\n",
       "      <td>1.1</td>\n",
       "      <td>45.0</td>\n",
       "      <td>6</td>\n",
       "      <td>1</td>\n",
       "      <td>1</td>\n",
       "      <td>0</td>\n",
       "      <td>110634.0</td>\n",
       "      <td>39570.0</td>\n",
       "    </tr>\n",
       "    <tr>\n",
       "      <th>2</th>\n",
       "      <td>1</td>\n",
       "      <td>17.7</td>\n",
       "      <td>0.0</td>\n",
       "      <td>1.5</td>\n",
       "      <td>45.0</td>\n",
       "      <td>6</td>\n",
       "      <td>1</td>\n",
       "      <td>2</td>\n",
       "      <td>0</td>\n",
       "      <td>110634.0</td>\n",
       "      <td>39570.0</td>\n",
       "    </tr>\n",
       "    <tr>\n",
       "      <th>3</th>\n",
       "      <td>1</td>\n",
       "      <td>16.7</td>\n",
       "      <td>0.0</td>\n",
       "      <td>1.4</td>\n",
       "      <td>48.0</td>\n",
       "      <td>6</td>\n",
       "      <td>1</td>\n",
       "      <td>3</td>\n",
       "      <td>0</td>\n",
       "      <td>110634.0</td>\n",
       "      <td>39570.0</td>\n",
       "    </tr>\n",
       "    <tr>\n",
       "      <th>4</th>\n",
       "      <td>1</td>\n",
       "      <td>18.4</td>\n",
       "      <td>0.0</td>\n",
       "      <td>2.8</td>\n",
       "      <td>43.0</td>\n",
       "      <td>6</td>\n",
       "      <td>1</td>\n",
       "      <td>4</td>\n",
       "      <td>0</td>\n",
       "      <td>110634.0</td>\n",
       "      <td>39570.0</td>\n",
       "    </tr>\n",
       "  </tbody>\n",
       "</table>\n",
       "</div>"
      ],
      "text/plain": [
       "   건물번호  기온(C)  강수량(mm)  풍속(m/s)  습도(%)  month  day  time  건물유형   연면적(m2)  \\\n",
       "0     1   18.6      0.0      0.9   42.0      6    1     0     0  110634.0   \n",
       "1     1   18.0      0.0      1.1   45.0      6    1     1     0  110634.0   \n",
       "2     1   17.7      0.0      1.5   45.0      6    1     2     0  110634.0   \n",
       "3     1   16.7      0.0      1.4   48.0      6    1     3     0  110634.0   \n",
       "4     1   18.4      0.0      2.8   43.0      6    1     4     0  110634.0   \n",
       "\n",
       "   냉방면적(m2)  \n",
       "0   39570.0  \n",
       "1   39570.0  \n",
       "2   39570.0  \n",
       "3   39570.0  \n",
       "4   39570.0  "
      ]
     },
     "execution_count": 11,
     "metadata": {},
     "output_type": "execute_result"
    }
   ],
   "source": [
    "train_x.head()"
   ]
  },
  {
   "cell_type": "code",
   "execution_count": 12,
   "id": "f570fdc6",
   "metadata": {},
   "outputs": [
    {
     "data": {
      "text/plain": [
       "0    1085.28\n",
       "1    1047.36\n",
       "2     974.88\n",
       "3     953.76\n",
       "4     986.40\n",
       "Name: 전력소비량(kWh), dtype: float64"
      ]
     },
     "execution_count": 12,
     "metadata": {},
     "output_type": "execute_result"
    }
   ],
   "source": [
    "train_y.head()"
   ]
  },
  {
   "cell_type": "markdown",
   "id": "ZC7hzMtOQwY0",
   "metadata": {
    "id": "ZC7hzMtOQwY0"
   },
   "source": [
    "## Modeling\n",
    "- LGBM모델을 사용하였으며, hyper parameter 튜닝은 따로 하지 않았습니다."
   ]
  },
  {
   "cell_type": "markdown",
   "id": "3da97b5a",
   "metadata": {},
   "source": [
    "### 0. Functions For validation"
   ]
  },
  {
   "cell_type": "code",
   "execution_count": 17,
   "id": "166f3a2e",
   "metadata": {},
   "outputs": [],
   "source": [
    "def SMAPE(y, pred):\n",
    "    smape = abs((y - pred))/((abs(y) + abs(pred)) / 2) * 100\n",
    "    smape = np.mean(smape)\n",
    "    return smape\n",
    "\n",
    "def mae(y, pred):\n",
    "    return np.mean(abs(y-pred))"
   ]
  },
  {
   "cell_type": "code",
   "execution_count": 18,
   "id": "6d7a7655",
   "metadata": {},
   "outputs": [],
   "source": [
    "def validate(valid_x, valid_y, model):\n",
    "    pred = model.predict(valid_x)\n",
    "    smape_score, mae_score = SMAPE(valid_y, pred), mae(valid_y, pred)\n",
    "    return smape_score, mae_score"
   ]
  },
  {
   "cell_type": "markdown",
   "id": "453636f5",
   "metadata": {},
   "source": [
    "### 1. Base Model\n",
    "- 주어진 데이터만을 사용해서 전체 학습데이터를 학습시켜 만든 모델입니다.\n",
    "- validation score(SMAPE 기준)은 17.266입니다. "
   ]
  },
  {
   "cell_type": "code",
   "execution_count": 15,
   "id": "42a31f96",
   "metadata": {},
   "outputs": [
    {
     "data": {
      "text/html": [
       "<style>#sk-container-id-1 {color: black;}#sk-container-id-1 pre{padding: 0;}#sk-container-id-1 div.sk-toggleable {background-color: white;}#sk-container-id-1 label.sk-toggleable__label {cursor: pointer;display: block;width: 100%;margin-bottom: 0;padding: 0.3em;box-sizing: border-box;text-align: center;}#sk-container-id-1 label.sk-toggleable__label-arrow:before {content: \"▸\";float: left;margin-right: 0.25em;color: #696969;}#sk-container-id-1 label.sk-toggleable__label-arrow:hover:before {color: black;}#sk-container-id-1 div.sk-estimator:hover label.sk-toggleable__label-arrow:before {color: black;}#sk-container-id-1 div.sk-toggleable__content {max-height: 0;max-width: 0;overflow: hidden;text-align: left;background-color: #f0f8ff;}#sk-container-id-1 div.sk-toggleable__content pre {margin: 0.2em;color: black;border-radius: 0.25em;background-color: #f0f8ff;}#sk-container-id-1 input.sk-toggleable__control:checked~div.sk-toggleable__content {max-height: 200px;max-width: 100%;overflow: auto;}#sk-container-id-1 input.sk-toggleable__control:checked~label.sk-toggleable__label-arrow:before {content: \"▾\";}#sk-container-id-1 div.sk-estimator input.sk-toggleable__control:checked~label.sk-toggleable__label {background-color: #d4ebff;}#sk-container-id-1 div.sk-label input.sk-toggleable__control:checked~label.sk-toggleable__label {background-color: #d4ebff;}#sk-container-id-1 input.sk-hidden--visually {border: 0;clip: rect(1px 1px 1px 1px);clip: rect(1px, 1px, 1px, 1px);height: 1px;margin: -1px;overflow: hidden;padding: 0;position: absolute;width: 1px;}#sk-container-id-1 div.sk-estimator {font-family: monospace;background-color: #f0f8ff;border: 1px dotted black;border-radius: 0.25em;box-sizing: border-box;margin-bottom: 0.5em;}#sk-container-id-1 div.sk-estimator:hover {background-color: #d4ebff;}#sk-container-id-1 div.sk-parallel-item::after {content: \"\";width: 100%;border-bottom: 1px solid gray;flex-grow: 1;}#sk-container-id-1 div.sk-label:hover label.sk-toggleable__label {background-color: #d4ebff;}#sk-container-id-1 div.sk-serial::before {content: \"\";position: absolute;border-left: 1px solid gray;box-sizing: border-box;top: 0;bottom: 0;left: 50%;z-index: 0;}#sk-container-id-1 div.sk-serial {display: flex;flex-direction: column;align-items: center;background-color: white;padding-right: 0.2em;padding-left: 0.2em;position: relative;}#sk-container-id-1 div.sk-item {position: relative;z-index: 1;}#sk-container-id-1 div.sk-parallel {display: flex;align-items: stretch;justify-content: center;background-color: white;position: relative;}#sk-container-id-1 div.sk-item::before, #sk-container-id-1 div.sk-parallel-item::before {content: \"\";position: absolute;border-left: 1px solid gray;box-sizing: border-box;top: 0;bottom: 0;left: 50%;z-index: -1;}#sk-container-id-1 div.sk-parallel-item {display: flex;flex-direction: column;z-index: 1;position: relative;background-color: white;}#sk-container-id-1 div.sk-parallel-item:first-child::after {align-self: flex-end;width: 50%;}#sk-container-id-1 div.sk-parallel-item:last-child::after {align-self: flex-start;width: 50%;}#sk-container-id-1 div.sk-parallel-item:only-child::after {width: 0;}#sk-container-id-1 div.sk-dashed-wrapped {border: 1px dashed gray;margin: 0 0.4em 0.5em 0.4em;box-sizing: border-box;padding-bottom: 0.4em;background-color: white;}#sk-container-id-1 div.sk-label label {font-family: monospace;font-weight: bold;display: inline-block;line-height: 1.2em;}#sk-container-id-1 div.sk-label-container {text-align: center;}#sk-container-id-1 div.sk-container {/* jupyter's `normalize.less` sets `[hidden] { display: none; }` but bootstrap.min.css set `[hidden] { display: none !important; }` so we also need the `!important` here to be able to override the default hidden behavior on the sphinx rendered scikit-learn.org. See: https://github.com/scikit-learn/scikit-learn/issues/21755 */display: inline-block !important;position: relative;}#sk-container-id-1 div.sk-text-repr-fallback {display: none;}</style><div id=\"sk-container-id-1\" class=\"sk-top-container\"><div class=\"sk-text-repr-fallback\"><pre>LGBMRegressor(objective=&#x27;regression&#x27;, verbose=-1)</pre><b>In a Jupyter environment, please rerun this cell to show the HTML representation or trust the notebook. <br />On GitHub, the HTML representation is unable to render, please try loading this page with nbviewer.org.</b></div><div class=\"sk-container\" hidden><div class=\"sk-item\"><div class=\"sk-estimator sk-toggleable\"><input class=\"sk-toggleable__control sk-hidden--visually\" id=\"sk-estimator-id-1\" type=\"checkbox\" checked><label for=\"sk-estimator-id-1\" class=\"sk-toggleable__label sk-toggleable__label-arrow\">LGBMRegressor</label><div class=\"sk-toggleable__content\"><pre>LGBMRegressor(objective=&#x27;regression&#x27;, verbose=-1)</pre></div></div></div></div></div>"
      ],
      "text/plain": [
       "LGBMRegressor(objective='regression', verbose=-1)"
      ]
     },
     "execution_count": 15,
     "metadata": {},
     "output_type": "execute_result"
    }
   ],
   "source": [
    "model_lgb1 = lgb.LGBMRegressor(objective='regression', verbose=-1)\n",
    "model_lgb1.fit(train_x, train_y)"
   ]
  },
  {
   "cell_type": "code",
   "execution_count": 16,
   "id": "d6108023",
   "metadata": {},
   "outputs": [
    {
     "name": "stdout",
     "output_type": "stream",
     "text": [
      "SMAPE: 17.266317976699042\n",
      "MAE: 370.7256803670178\n"
     ]
    }
   ],
   "source": [
    "smape_score, mae_score = validate(valid_x, valid_y, model_lgb1)\n",
    "print(f'SMAPE: {smape_score}\\nMAE: {mae_score}')"
   ]
  },
  {
   "cell_type": "markdown",
   "id": "50e239d5",
   "metadata": {},
   "source": [
    "#### 1-1. hyper parameter 조절\n",
    "- n_estimators 값(학습을 얼마나 반복하냐이며 overfitting과 관련이 있음)을 조절해서 score가 어떻게 변화하는지 확인해봅시다.(default 값은 100)"
   ]
  },
  {
   "cell_type": "code",
   "execution_count": 19,
   "id": "136705c3",
   "metadata": {},
   "outputs": [
    {
     "name": "stdout",
     "output_type": "stream",
     "text": [
      "SMAPE: 17.266317976699042\n",
      "MAE: 370.7256803670178\n"
     ]
    }
   ],
   "source": [
    "print(f'SMAPE: {smape_score}\\nMAE: {mae_score}')"
   ]
  },
  {
   "cell_type": "code",
   "execution_count": 20,
   "id": "2c0bfef0",
   "metadata": {},
   "outputs": [
    {
     "data": {
      "text/html": [
       "<style>#sk-container-id-2 {color: black;}#sk-container-id-2 pre{padding: 0;}#sk-container-id-2 div.sk-toggleable {background-color: white;}#sk-container-id-2 label.sk-toggleable__label {cursor: pointer;display: block;width: 100%;margin-bottom: 0;padding: 0.3em;box-sizing: border-box;text-align: center;}#sk-container-id-2 label.sk-toggleable__label-arrow:before {content: \"▸\";float: left;margin-right: 0.25em;color: #696969;}#sk-container-id-2 label.sk-toggleable__label-arrow:hover:before {color: black;}#sk-container-id-2 div.sk-estimator:hover label.sk-toggleable__label-arrow:before {color: black;}#sk-container-id-2 div.sk-toggleable__content {max-height: 0;max-width: 0;overflow: hidden;text-align: left;background-color: #f0f8ff;}#sk-container-id-2 div.sk-toggleable__content pre {margin: 0.2em;color: black;border-radius: 0.25em;background-color: #f0f8ff;}#sk-container-id-2 input.sk-toggleable__control:checked~div.sk-toggleable__content {max-height: 200px;max-width: 100%;overflow: auto;}#sk-container-id-2 input.sk-toggleable__control:checked~label.sk-toggleable__label-arrow:before {content: \"▾\";}#sk-container-id-2 div.sk-estimator input.sk-toggleable__control:checked~label.sk-toggleable__label {background-color: #d4ebff;}#sk-container-id-2 div.sk-label input.sk-toggleable__control:checked~label.sk-toggleable__label {background-color: #d4ebff;}#sk-container-id-2 input.sk-hidden--visually {border: 0;clip: rect(1px 1px 1px 1px);clip: rect(1px, 1px, 1px, 1px);height: 1px;margin: -1px;overflow: hidden;padding: 0;position: absolute;width: 1px;}#sk-container-id-2 div.sk-estimator {font-family: monospace;background-color: #f0f8ff;border: 1px dotted black;border-radius: 0.25em;box-sizing: border-box;margin-bottom: 0.5em;}#sk-container-id-2 div.sk-estimator:hover {background-color: #d4ebff;}#sk-container-id-2 div.sk-parallel-item::after {content: \"\";width: 100%;border-bottom: 1px solid gray;flex-grow: 1;}#sk-container-id-2 div.sk-label:hover label.sk-toggleable__label {background-color: #d4ebff;}#sk-container-id-2 div.sk-serial::before {content: \"\";position: absolute;border-left: 1px solid gray;box-sizing: border-box;top: 0;bottom: 0;left: 50%;z-index: 0;}#sk-container-id-2 div.sk-serial {display: flex;flex-direction: column;align-items: center;background-color: white;padding-right: 0.2em;padding-left: 0.2em;position: relative;}#sk-container-id-2 div.sk-item {position: relative;z-index: 1;}#sk-container-id-2 div.sk-parallel {display: flex;align-items: stretch;justify-content: center;background-color: white;position: relative;}#sk-container-id-2 div.sk-item::before, #sk-container-id-2 div.sk-parallel-item::before {content: \"\";position: absolute;border-left: 1px solid gray;box-sizing: border-box;top: 0;bottom: 0;left: 50%;z-index: -1;}#sk-container-id-2 div.sk-parallel-item {display: flex;flex-direction: column;z-index: 1;position: relative;background-color: white;}#sk-container-id-2 div.sk-parallel-item:first-child::after {align-self: flex-end;width: 50%;}#sk-container-id-2 div.sk-parallel-item:last-child::after {align-self: flex-start;width: 50%;}#sk-container-id-2 div.sk-parallel-item:only-child::after {width: 0;}#sk-container-id-2 div.sk-dashed-wrapped {border: 1px dashed gray;margin: 0 0.4em 0.5em 0.4em;box-sizing: border-box;padding-bottom: 0.4em;background-color: white;}#sk-container-id-2 div.sk-label label {font-family: monospace;font-weight: bold;display: inline-block;line-height: 1.2em;}#sk-container-id-2 div.sk-label-container {text-align: center;}#sk-container-id-2 div.sk-container {/* jupyter's `normalize.less` sets `[hidden] { display: none; }` but bootstrap.min.css set `[hidden] { display: none !important; }` so we also need the `!important` here to be able to override the default hidden behavior on the sphinx rendered scikit-learn.org. See: https://github.com/scikit-learn/scikit-learn/issues/21755 */display: inline-block !important;position: relative;}#sk-container-id-2 div.sk-text-repr-fallback {display: none;}</style><div id=\"sk-container-id-2\" class=\"sk-top-container\"><div class=\"sk-text-repr-fallback\"><pre>LGBMRegressor(n_estimators=50, objective=&#x27;regression&#x27;, verbose=-1)</pre><b>In a Jupyter environment, please rerun this cell to show the HTML representation or trust the notebook. <br />On GitHub, the HTML representation is unable to render, please try loading this page with nbviewer.org.</b></div><div class=\"sk-container\" hidden><div class=\"sk-item\"><div class=\"sk-estimator sk-toggleable\"><input class=\"sk-toggleable__control sk-hidden--visually\" id=\"sk-estimator-id-2\" type=\"checkbox\" checked><label for=\"sk-estimator-id-2\" class=\"sk-toggleable__label sk-toggleable__label-arrow\">LGBMRegressor</label><div class=\"sk-toggleable__content\"><pre>LGBMRegressor(n_estimators=50, objective=&#x27;regression&#x27;, verbose=-1)</pre></div></div></div></div></div>"
      ],
      "text/plain": [
       "LGBMRegressor(n_estimators=50, objective='regression', verbose=-1)"
      ]
     },
     "execution_count": 20,
     "metadata": {},
     "output_type": "execute_result"
    }
   ],
   "source": [
    "model_lgb2 = lgb.LGBMRegressor(objective='regression', n_estimators=50, verbose=-1)\n",
    "model_lgb2.fit(train_x, train_y)"
   ]
  },
  {
   "cell_type": "code",
   "execution_count": 21,
   "id": "da0eb095",
   "metadata": {},
   "outputs": [
    {
     "name": "stdout",
     "output_type": "stream",
     "text": [
      "SMAPE: 20.592570387954538\n",
      "MAE: 416.90878962419276\n"
     ]
    }
   ],
   "source": [
    "smape_score, mae_score = validate(valid_x, valid_y, model_lgb2)\n",
    "print(f'SMAPE: {smape_score}\\nMAE: {mae_score}')"
   ]
  },
  {
   "cell_type": "code",
   "execution_count": 22,
   "id": "839c2596",
   "metadata": {},
   "outputs": [
    {
     "data": {
      "text/html": [
       "<style>#sk-container-id-3 {color: black;}#sk-container-id-3 pre{padding: 0;}#sk-container-id-3 div.sk-toggleable {background-color: white;}#sk-container-id-3 label.sk-toggleable__label {cursor: pointer;display: block;width: 100%;margin-bottom: 0;padding: 0.3em;box-sizing: border-box;text-align: center;}#sk-container-id-3 label.sk-toggleable__label-arrow:before {content: \"▸\";float: left;margin-right: 0.25em;color: #696969;}#sk-container-id-3 label.sk-toggleable__label-arrow:hover:before {color: black;}#sk-container-id-3 div.sk-estimator:hover label.sk-toggleable__label-arrow:before {color: black;}#sk-container-id-3 div.sk-toggleable__content {max-height: 0;max-width: 0;overflow: hidden;text-align: left;background-color: #f0f8ff;}#sk-container-id-3 div.sk-toggleable__content pre {margin: 0.2em;color: black;border-radius: 0.25em;background-color: #f0f8ff;}#sk-container-id-3 input.sk-toggleable__control:checked~div.sk-toggleable__content {max-height: 200px;max-width: 100%;overflow: auto;}#sk-container-id-3 input.sk-toggleable__control:checked~label.sk-toggleable__label-arrow:before {content: \"▾\";}#sk-container-id-3 div.sk-estimator input.sk-toggleable__control:checked~label.sk-toggleable__label {background-color: #d4ebff;}#sk-container-id-3 div.sk-label input.sk-toggleable__control:checked~label.sk-toggleable__label {background-color: #d4ebff;}#sk-container-id-3 input.sk-hidden--visually {border: 0;clip: rect(1px 1px 1px 1px);clip: rect(1px, 1px, 1px, 1px);height: 1px;margin: -1px;overflow: hidden;padding: 0;position: absolute;width: 1px;}#sk-container-id-3 div.sk-estimator {font-family: monospace;background-color: #f0f8ff;border: 1px dotted black;border-radius: 0.25em;box-sizing: border-box;margin-bottom: 0.5em;}#sk-container-id-3 div.sk-estimator:hover {background-color: #d4ebff;}#sk-container-id-3 div.sk-parallel-item::after {content: \"\";width: 100%;border-bottom: 1px solid gray;flex-grow: 1;}#sk-container-id-3 div.sk-label:hover label.sk-toggleable__label {background-color: #d4ebff;}#sk-container-id-3 div.sk-serial::before {content: \"\";position: absolute;border-left: 1px solid gray;box-sizing: border-box;top: 0;bottom: 0;left: 50%;z-index: 0;}#sk-container-id-3 div.sk-serial {display: flex;flex-direction: column;align-items: center;background-color: white;padding-right: 0.2em;padding-left: 0.2em;position: relative;}#sk-container-id-3 div.sk-item {position: relative;z-index: 1;}#sk-container-id-3 div.sk-parallel {display: flex;align-items: stretch;justify-content: center;background-color: white;position: relative;}#sk-container-id-3 div.sk-item::before, #sk-container-id-3 div.sk-parallel-item::before {content: \"\";position: absolute;border-left: 1px solid gray;box-sizing: border-box;top: 0;bottom: 0;left: 50%;z-index: -1;}#sk-container-id-3 div.sk-parallel-item {display: flex;flex-direction: column;z-index: 1;position: relative;background-color: white;}#sk-container-id-3 div.sk-parallel-item:first-child::after {align-self: flex-end;width: 50%;}#sk-container-id-3 div.sk-parallel-item:last-child::after {align-self: flex-start;width: 50%;}#sk-container-id-3 div.sk-parallel-item:only-child::after {width: 0;}#sk-container-id-3 div.sk-dashed-wrapped {border: 1px dashed gray;margin: 0 0.4em 0.5em 0.4em;box-sizing: border-box;padding-bottom: 0.4em;background-color: white;}#sk-container-id-3 div.sk-label label {font-family: monospace;font-weight: bold;display: inline-block;line-height: 1.2em;}#sk-container-id-3 div.sk-label-container {text-align: center;}#sk-container-id-3 div.sk-container {/* jupyter's `normalize.less` sets `[hidden] { display: none; }` but bootstrap.min.css set `[hidden] { display: none !important; }` so we also need the `!important` here to be able to override the default hidden behavior on the sphinx rendered scikit-learn.org. See: https://github.com/scikit-learn/scikit-learn/issues/21755 */display: inline-block !important;position: relative;}#sk-container-id-3 div.sk-text-repr-fallback {display: none;}</style><div id=\"sk-container-id-3\" class=\"sk-top-container\"><div class=\"sk-text-repr-fallback\"><pre>LGBMRegressor(n_estimators=300, objective=&#x27;regression&#x27;, verbose=-1)</pre><b>In a Jupyter environment, please rerun this cell to show the HTML representation or trust the notebook. <br />On GitHub, the HTML representation is unable to render, please try loading this page with nbviewer.org.</b></div><div class=\"sk-container\" hidden><div class=\"sk-item\"><div class=\"sk-estimator sk-toggleable\"><input class=\"sk-toggleable__control sk-hidden--visually\" id=\"sk-estimator-id-3\" type=\"checkbox\" checked><label for=\"sk-estimator-id-3\" class=\"sk-toggleable__label sk-toggleable__label-arrow\">LGBMRegressor</label><div class=\"sk-toggleable__content\"><pre>LGBMRegressor(n_estimators=300, objective=&#x27;regression&#x27;, verbose=-1)</pre></div></div></div></div></div>"
      ],
      "text/plain": [
       "LGBMRegressor(n_estimators=300, objective='regression', verbose=-1)"
      ]
     },
     "execution_count": 22,
     "metadata": {},
     "output_type": "execute_result"
    }
   ],
   "source": [
    "model_lgb3 = lgb.LGBMRegressor(objective='regression', n_estimators=300, verbose=-1)\n",
    "model_lgb3.fit(train_x, train_y)"
   ]
  },
  {
   "cell_type": "code",
   "execution_count": 23,
   "id": "d72b83da",
   "metadata": {},
   "outputs": [
    {
     "name": "stdout",
     "output_type": "stream",
     "text": [
      "SMAPE: 15.798359023528862\n",
      "MAE: 352.1086433302414\n"
     ]
    }
   ],
   "source": [
    "smape_score, mae_score = validate(valid_x, valid_y, model_lgb3)\n",
    "print(f'SMAPE: {smape_score}\\nMAE: {mae_score}')"
   ]
  },
  {
   "cell_type": "code",
   "execution_count": 24,
   "id": "1dd02dde",
   "metadata": {},
   "outputs": [
    {
     "data": {
      "text/html": [
       "<style>#sk-container-id-4 {color: black;}#sk-container-id-4 pre{padding: 0;}#sk-container-id-4 div.sk-toggleable {background-color: white;}#sk-container-id-4 label.sk-toggleable__label {cursor: pointer;display: block;width: 100%;margin-bottom: 0;padding: 0.3em;box-sizing: border-box;text-align: center;}#sk-container-id-4 label.sk-toggleable__label-arrow:before {content: \"▸\";float: left;margin-right: 0.25em;color: #696969;}#sk-container-id-4 label.sk-toggleable__label-arrow:hover:before {color: black;}#sk-container-id-4 div.sk-estimator:hover label.sk-toggleable__label-arrow:before {color: black;}#sk-container-id-4 div.sk-toggleable__content {max-height: 0;max-width: 0;overflow: hidden;text-align: left;background-color: #f0f8ff;}#sk-container-id-4 div.sk-toggleable__content pre {margin: 0.2em;color: black;border-radius: 0.25em;background-color: #f0f8ff;}#sk-container-id-4 input.sk-toggleable__control:checked~div.sk-toggleable__content {max-height: 200px;max-width: 100%;overflow: auto;}#sk-container-id-4 input.sk-toggleable__control:checked~label.sk-toggleable__label-arrow:before {content: \"▾\";}#sk-container-id-4 div.sk-estimator input.sk-toggleable__control:checked~label.sk-toggleable__label {background-color: #d4ebff;}#sk-container-id-4 div.sk-label input.sk-toggleable__control:checked~label.sk-toggleable__label {background-color: #d4ebff;}#sk-container-id-4 input.sk-hidden--visually {border: 0;clip: rect(1px 1px 1px 1px);clip: rect(1px, 1px, 1px, 1px);height: 1px;margin: -1px;overflow: hidden;padding: 0;position: absolute;width: 1px;}#sk-container-id-4 div.sk-estimator {font-family: monospace;background-color: #f0f8ff;border: 1px dotted black;border-radius: 0.25em;box-sizing: border-box;margin-bottom: 0.5em;}#sk-container-id-4 div.sk-estimator:hover {background-color: #d4ebff;}#sk-container-id-4 div.sk-parallel-item::after {content: \"\";width: 100%;border-bottom: 1px solid gray;flex-grow: 1;}#sk-container-id-4 div.sk-label:hover label.sk-toggleable__label {background-color: #d4ebff;}#sk-container-id-4 div.sk-serial::before {content: \"\";position: absolute;border-left: 1px solid gray;box-sizing: border-box;top: 0;bottom: 0;left: 50%;z-index: 0;}#sk-container-id-4 div.sk-serial {display: flex;flex-direction: column;align-items: center;background-color: white;padding-right: 0.2em;padding-left: 0.2em;position: relative;}#sk-container-id-4 div.sk-item {position: relative;z-index: 1;}#sk-container-id-4 div.sk-parallel {display: flex;align-items: stretch;justify-content: center;background-color: white;position: relative;}#sk-container-id-4 div.sk-item::before, #sk-container-id-4 div.sk-parallel-item::before {content: \"\";position: absolute;border-left: 1px solid gray;box-sizing: border-box;top: 0;bottom: 0;left: 50%;z-index: -1;}#sk-container-id-4 div.sk-parallel-item {display: flex;flex-direction: column;z-index: 1;position: relative;background-color: white;}#sk-container-id-4 div.sk-parallel-item:first-child::after {align-self: flex-end;width: 50%;}#sk-container-id-4 div.sk-parallel-item:last-child::after {align-self: flex-start;width: 50%;}#sk-container-id-4 div.sk-parallel-item:only-child::after {width: 0;}#sk-container-id-4 div.sk-dashed-wrapped {border: 1px dashed gray;margin: 0 0.4em 0.5em 0.4em;box-sizing: border-box;padding-bottom: 0.4em;background-color: white;}#sk-container-id-4 div.sk-label label {font-family: monospace;font-weight: bold;display: inline-block;line-height: 1.2em;}#sk-container-id-4 div.sk-label-container {text-align: center;}#sk-container-id-4 div.sk-container {/* jupyter's `normalize.less` sets `[hidden] { display: none; }` but bootstrap.min.css set `[hidden] { display: none !important; }` so we also need the `!important` here to be able to override the default hidden behavior on the sphinx rendered scikit-learn.org. See: https://github.com/scikit-learn/scikit-learn/issues/21755 */display: inline-block !important;position: relative;}#sk-container-id-4 div.sk-text-repr-fallback {display: none;}</style><div id=\"sk-container-id-4\" class=\"sk-top-container\"><div class=\"sk-text-repr-fallback\"><pre>LGBMRegressor(n_estimators=500, objective=&#x27;regression&#x27;, verbose=-1)</pre><b>In a Jupyter environment, please rerun this cell to show the HTML representation or trust the notebook. <br />On GitHub, the HTML representation is unable to render, please try loading this page with nbviewer.org.</b></div><div class=\"sk-container\" hidden><div class=\"sk-item\"><div class=\"sk-estimator sk-toggleable\"><input class=\"sk-toggleable__control sk-hidden--visually\" id=\"sk-estimator-id-4\" type=\"checkbox\" checked><label for=\"sk-estimator-id-4\" class=\"sk-toggleable__label sk-toggleable__label-arrow\">LGBMRegressor</label><div class=\"sk-toggleable__content\"><pre>LGBMRegressor(n_estimators=500, objective=&#x27;regression&#x27;, verbose=-1)</pre></div></div></div></div></div>"
      ],
      "text/plain": [
       "LGBMRegressor(n_estimators=500, objective='regression', verbose=-1)"
      ]
     },
     "execution_count": 24,
     "metadata": {},
     "output_type": "execute_result"
    }
   ],
   "source": [
    "model_lgb4 = lgb.LGBMRegressor(objective='regression', n_estimators=500, verbose=-1)\n",
    "model_lgb4.fit(train_x, train_y)"
   ]
  },
  {
   "cell_type": "code",
   "execution_count": 25,
   "id": "23ca4256",
   "metadata": {},
   "outputs": [
    {
     "name": "stdout",
     "output_type": "stream",
     "text": [
      "SMAPE: 15.88507529312217\n",
      "MAE: 363.2452020120212\n"
     ]
    }
   ],
   "source": [
    "smape_score, mae_score = validate(valid_x, valid_y, model_lgb4)\n",
    "print(f'SMAPE: {smape_score}\\nMAE: {mae_score}')"
   ]
  },
  {
   "cell_type": "markdown",
   "id": "cb086467",
   "metadata": {},
   "source": [
    "- n_estimators값이 300정도에서 모델 성능이 괜찮은 것을 확인할 수 있습니다."
   ]
  },
  {
   "cell_type": "markdown",
   "id": "9e9c573a",
   "metadata": {},
   "source": [
    "## 2. Multi Models by building num\n",
    "- 건물번호(1~100)별 모델을 각각 만들어 성능을 측정하였습니다.\n",
    "- 건물별로 building_info값은 같기 때문에 해당 데이터는 제외했습니다(건물번호, 건물유형, 연면적, 냉방면적)."
   ]
  },
  {
   "cell_type": "code",
   "execution_count": 26,
   "id": "425a0f59",
   "metadata": {},
   "outputs": [],
   "source": [
    "def validate_multi(valid_x, valid_y, models):\n",
    "    \"\"\"\n",
    "    Args:\n",
    "        models: dict, {1: model1, 2: model2, ..., 100: model100}\n",
    "    \"\"\"  \n",
    "    preds = []\n",
    "    for i in range(1, 101):\n",
    "        _x = valid_x[valid_x['건물번호'] == i]\n",
    "        _x = _x.drop(columns=['건물번호', '건물유형', '연면적(m2)', '냉방면적(m2)'])\n",
    "        pred = models[i].predict(_x).tolist()\n",
    "        preds.extend(pred)\n",
    "    preds = np.array(preds)\n",
    "    smape_score, mae_score = SMAPE(valid_y, preds), mae(valid_y, preds)\n",
    "    return smape_score, mae_score"
   ]
  },
  {
   "cell_type": "code",
   "execution_count": 27,
   "id": "98fce78d",
   "metadata": {},
   "outputs": [],
   "source": [
    "def train_multiple_models(train_x, train_y, n_estimators=100):\n",
    "    models = {}\n",
    "    for i in tqdm(range(1, 101)):\n",
    "        _x = train_x[train_x['건물번호'] == i]\n",
    "        _x = _x.drop(columns=['건물번호', '건물유형', '연면적(m2)', '냉방면적(m2)'])\n",
    "        _y = train_y[_x.index]\n",
    "        model_lgb = lgb.LGBMRegressor(objective='regression', n_estimators=n_estimators, verbose=-1)\n",
    "        model_lgb.fit(_x, _y)\n",
    "        models[i] = model_lgb\n",
    "    return models"
   ]
  },
  {
   "cell_type": "code",
   "execution_count": 28,
   "id": "6548d905",
   "metadata": {},
   "outputs": [
    {
     "name": "stderr",
     "output_type": "stream",
     "text": [
      "100%|██████████| 100/100 [00:08<00:00, 11.83it/s]\n"
     ]
    }
   ],
   "source": [
    "models1 = train_multiple_models(train_x, train_y)"
   ]
  },
  {
   "cell_type": "code",
   "execution_count": 40,
   "id": "ed559390",
   "metadata": {},
   "outputs": [
    {
     "name": "stdout",
     "output_type": "stream",
     "text": [
      "SMAPE: 13.771287702061969\n",
      "MAE: 336.777787566924\n"
     ]
    }
   ],
   "source": [
    "smape_score, mae_score = validate_multi(valid_x, valid_y, models1)\n",
    "print(f'SMAPE: {smape_score}\\nMAE: {mae_score}')"
   ]
  },
  {
   "cell_type": "markdown",
   "id": "6c050020",
   "metadata": {},
   "source": [
    "#### 2-1 hyper parameter 조절\n",
    "- 건물별 모델을 따로 만드는게 성능이 약간 더 좋았고(15.798 -> 13.13), multiple models의 경우 n_estimators를 작게 하는게 오히려 성능이 좋았습니다.\n",
    "- 아마 모델별 데이터의 양이 작아져서 학습횟수를 크게하는게 과적합을 야기하는 것으로 생각됩니다."
   ]
  },
  {
   "cell_type": "code",
   "execution_count": 41,
   "id": "8c554075",
   "metadata": {},
   "outputs": [
    {
     "name": "stderr",
     "output_type": "stream",
     "text": [
      "100%|██████████| 100/100 [00:04<00:00, 21.50it/s]\n"
     ]
    }
   ],
   "source": [
    "models2 = train_multiple_models(train_x, train_y, 50)"
   ]
  },
  {
   "cell_type": "code",
   "execution_count": 42,
   "id": "fe0898af",
   "metadata": {},
   "outputs": [
    {
     "name": "stdout",
     "output_type": "stream",
     "text": [
      "SMAPE: 13.134477105207413\n",
      "MAE: 323.91722049143675\n"
     ]
    }
   ],
   "source": [
    "smape_score, mae_score = validate_multi(valid_x, valid_y, models2)\n",
    "print(f'SMAPE: {smape_score}\\nMAE: {mae_score}')"
   ]
  },
  {
   "cell_type": "code",
   "execution_count": 45,
   "id": "42cb23f6",
   "metadata": {},
   "outputs": [
    {
     "name": "stderr",
     "output_type": "stream",
     "text": [
      "100%|██████████| 100/100 [00:22<00:00,  4.41it/s]\n"
     ]
    }
   ],
   "source": [
    "models3 = train_multiple_models(train_x, train_y, 300)"
   ]
  },
  {
   "cell_type": "code",
   "execution_count": 46,
   "id": "d5ff9625",
   "metadata": {},
   "outputs": [
    {
     "name": "stdout",
     "output_type": "stream",
     "text": [
      "SMAPE: 14.462616029933997\n",
      "MAE: 351.1786298329664\n"
     ]
    }
   ],
   "source": [
    "smape_score, mae_score = validate_multi(valid_x, valid_y, models3)\n",
    "print(f'SMAPE: {smape_score}\\nMAE: {mae_score}')"
   ]
  },
  {
   "cell_type": "markdown",
   "id": "25cdcabc",
   "metadata": {},
   "source": [
    "## 3. Add Features"
   ]
  },
  {
   "cell_type": "markdown",
   "id": "9cbff80c",
   "metadata": {},
   "source": [
    "### A. Weekday\n",
    "- [가벼운 DATA EDA입니다.](https://dacon.io/competitions/official/236125/codeshare/8500?page=1&dtype=recent)에서 주말과 주중 전력사용량이 유의미한 차이를 보임을 확인할 수 있었습니다. 그래서 날짜를 이용해 요일데이터를 추출해 feature로 사용하였습니다."
   ]
  },
  {
   "cell_type": "code",
   "execution_count": 47,
   "id": "302b3a73",
   "metadata": {},
   "outputs": [],
   "source": [
    "import datetime"
   ]
  },
  {
   "cell_type": "code",
   "execution_count": 48,
   "id": "844cb9e3",
   "metadata": {},
   "outputs": [],
   "source": [
    "def to_datetime(s):\n",
    "    \"\"\"\n",
    "    Args:\n",
    "        s: ex) '20220601 01'\n",
    "    Returns:\n",
    "        weekday: 0~6(int), 0: 월요일, 1: 화요일, ...\n",
    "    \"\"\"\n",
    "    s = s.split()[0]  # 20220601\n",
    "    date = datetime.datetime.strptime(s, '%Y%m%d')\n",
    "    weekday = date.weekday()  # \n",
    "    return weekday"
   ]
  },
  {
   "cell_type": "code",
   "execution_count": 49,
   "id": "4015b053",
   "metadata": {},
   "outputs": [],
   "source": [
    "train_origin_ = train_origin.copy()"
   ]
  },
  {
   "cell_type": "code",
   "execution_count": 50,
   "id": "ce90c20b",
   "metadata": {},
   "outputs": [],
   "source": [
    "train_origin_['Weekday'] = train_origin_.apply(lambda x:to_datetime(x['일시']), axis=1)"
   ]
  },
  {
   "cell_type": "code",
   "execution_count": 51,
   "id": "8ff06f5c",
   "metadata": {},
   "outputs": [
    {
     "data": {
      "text/html": [
       "<div>\n",
       "<style scoped>\n",
       "    .dataframe tbody tr th:only-of-type {\n",
       "        vertical-align: middle;\n",
       "    }\n",
       "\n",
       "    .dataframe tbody tr th {\n",
       "        vertical-align: top;\n",
       "    }\n",
       "\n",
       "    .dataframe thead th {\n",
       "        text-align: right;\n",
       "    }\n",
       "</style>\n",
       "<table border=\"1\" class=\"dataframe\">\n",
       "  <thead>\n",
       "    <tr style=\"text-align: right;\">\n",
       "      <th></th>\n",
       "      <th>num_date_time</th>\n",
       "      <th>건물번호</th>\n",
       "      <th>일시</th>\n",
       "      <th>기온(C)</th>\n",
       "      <th>강수량(mm)</th>\n",
       "      <th>풍속(m/s)</th>\n",
       "      <th>습도(%)</th>\n",
       "      <th>일조(hr)</th>\n",
       "      <th>일사(MJ/m2)</th>\n",
       "      <th>전력소비량(kWh)</th>\n",
       "      <th>Weekday</th>\n",
       "    </tr>\n",
       "  </thead>\n",
       "  <tbody>\n",
       "    <tr>\n",
       "      <th>184895</th>\n",
       "      <td>91_20220724 23</td>\n",
       "      <td>91</td>\n",
       "      <td>20220724 23</td>\n",
       "      <td>23.8</td>\n",
       "      <td>NaN</td>\n",
       "      <td>0.3</td>\n",
       "      <td>99.0</td>\n",
       "      <td>NaN</td>\n",
       "      <td>NaN</td>\n",
       "      <td>474.00</td>\n",
       "      <td>6</td>\n",
       "    </tr>\n",
       "    <tr>\n",
       "      <th>187594</th>\n",
       "      <td>92_20220821 10</td>\n",
       "      <td>92</td>\n",
       "      <td>20220821 10</td>\n",
       "      <td>28.8</td>\n",
       "      <td>NaN</td>\n",
       "      <td>1.2</td>\n",
       "      <td>75.0</td>\n",
       "      <td>0.6</td>\n",
       "      <td>1.69</td>\n",
       "      <td>2012.94</td>\n",
       "      <td>6</td>\n",
       "    </tr>\n",
       "    <tr>\n",
       "      <th>119228</th>\n",
       "      <td>59_20220708 20</td>\n",
       "      <td>59</td>\n",
       "      <td>20220708 20</td>\n",
       "      <td>26.4</td>\n",
       "      <td>0.0</td>\n",
       "      <td>3.2</td>\n",
       "      <td>83.0</td>\n",
       "      <td>0.0</td>\n",
       "      <td>0.07</td>\n",
       "      <td>1265.76</td>\n",
       "      <td>4</td>\n",
       "    </tr>\n",
       "    <tr>\n",
       "      <th>148570</th>\n",
       "      <td>73_20220810 10</td>\n",
       "      <td>73</td>\n",
       "      <td>20220810 10</td>\n",
       "      <td>24.3</td>\n",
       "      <td>NaN</td>\n",
       "      <td>1.3</td>\n",
       "      <td>85.0</td>\n",
       "      <td>0.3</td>\n",
       "      <td>1.49</td>\n",
       "      <td>4114.08</td>\n",
       "      <td>2</td>\n",
       "    </tr>\n",
       "    <tr>\n",
       "      <th>150165</th>\n",
       "      <td>74_20220722 21</td>\n",
       "      <td>74</td>\n",
       "      <td>20220722 21</td>\n",
       "      <td>25.1</td>\n",
       "      <td>NaN</td>\n",
       "      <td>2.1</td>\n",
       "      <td>83.0</td>\n",
       "      <td>NaN</td>\n",
       "      <td>NaN</td>\n",
       "      <td>2900.16</td>\n",
       "      <td>4</td>\n",
       "    </tr>\n",
       "  </tbody>\n",
       "</table>\n",
       "</div>"
      ],
      "text/plain": [
       "         num_date_time  건물번호           일시  기온(C)  강수량(mm)  풍속(m/s)  습도(%)  \\\n",
       "184895  91_20220724 23    91  20220724 23   23.8      NaN      0.3   99.0   \n",
       "187594  92_20220821 10    92  20220821 10   28.8      NaN      1.2   75.0   \n",
       "119228  59_20220708 20    59  20220708 20   26.4      0.0      3.2   83.0   \n",
       "148570  73_20220810 10    73  20220810 10   24.3      NaN      1.3   85.0   \n",
       "150165  74_20220722 21    74  20220722 21   25.1      NaN      2.1   83.0   \n",
       "\n",
       "        일조(hr)  일사(MJ/m2)  전력소비량(kWh)  Weekday  \n",
       "184895     NaN        NaN      474.00        6  \n",
       "187594     0.6       1.69     2012.94        6  \n",
       "119228     0.0       0.07     1265.76        4  \n",
       "148570     0.3       1.49     4114.08        2  \n",
       "150165     NaN        NaN     2900.16        4  "
      ]
     },
     "execution_count": 51,
     "metadata": {},
     "output_type": "execute_result"
    }
   ],
   "source": [
    "train_origin_.sample(5, random_state=42)"
   ]
  },
  {
   "cell_type": "code",
   "execution_count": 52,
   "id": "8c222b91",
   "metadata": {},
   "outputs": [],
   "source": [
    "# train, valid데이터 재생성\n",
    "train_df, valid_df = train_test_split(train_origin_, 20220820)\n",
    "\n",
    "train_x = preprocess_x(train_df)\n",
    "train_y = train_df['전력소비량(kWh)']\n",
    "\n",
    "valid_x = preprocess_x(valid_df)\n",
    "valid_y = valid_df['전력소비량(kWh)']"
   ]
  },
  {
   "cell_type": "code",
   "execution_count": 53,
   "id": "bdda8d8a",
   "metadata": {},
   "outputs": [
    {
     "name": "stderr",
     "output_type": "stream",
     "text": [
      "100%|██████████| 100/100 [00:08<00:00, 11.23it/s]\n"
     ]
    }
   ],
   "source": [
    "models_f1 = train_multiple_models(train_x, train_y)"
   ]
  },
  {
   "cell_type": "code",
   "execution_count": 54,
   "id": "a7d803fe",
   "metadata": {},
   "outputs": [
    {
     "name": "stdout",
     "output_type": "stream",
     "text": [
      "SMAPE: 6.12057511177603\n",
      "MAE: 122.03770909362358\n"
     ]
    }
   ],
   "source": [
    "smape_score, mae_score = validate_multi(valid_x, valid_y, models_f1)\n",
    "print(f'SMAPE: {smape_score}\\nMAE: {mae_score}')"
   ]
  },
  {
   "cell_type": "markdown",
   "id": "4b3e92e6",
   "metadata": {},
   "source": [
    "#### A-1 hyper paramter 조절\n",
    "- weekday 데이터를 추가하니 validation SMAPE score가 13.13 -> 5.97 까지 하락하였습니다.\n",
    "- 참고로 해당 모델(validation score=5.976...)로 만든 submission을 dacon에 제출하였을때가 **best score였으며, score는 6.768이었습니다.**"
   ]
  },
  {
   "cell_type": "code",
   "execution_count": 55,
   "id": "9675ea9f",
   "metadata": {},
   "outputs": [
    {
     "name": "stderr",
     "output_type": "stream",
     "text": [
      "100%|██████████| 100/100 [00:05<00:00, 19.83it/s]\n"
     ]
    }
   ],
   "source": [
    "models_f2 = train_multiple_models(train_x, train_y, 50)"
   ]
  },
  {
   "cell_type": "code",
   "execution_count": 56,
   "id": "990dd06c",
   "metadata": {},
   "outputs": [
    {
     "name": "stdout",
     "output_type": "stream",
     "text": [
      "SMAPE: 5.976245338538852\n",
      "MAE: 118.11053878842343\n"
     ]
    }
   ],
   "source": [
    "smape_score, mae_score = validate_multi(valid_x, valid_y, models_f2)\n",
    "print(f'SMAPE: {smape_score}\\nMAE: {mae_score}')"
   ]
  },
  {
   "cell_type": "code",
   "execution_count": 57,
   "id": "68651299",
   "metadata": {},
   "outputs": [
    {
     "name": "stderr",
     "output_type": "stream",
     "text": [
      "100%|██████████| 100/100 [00:23<00:00,  4.27it/s]\n"
     ]
    }
   ],
   "source": [
    "models_f3 = train_multiple_models(train_x, train_y, 300)"
   ]
  },
  {
   "cell_type": "code",
   "execution_count": 58,
   "id": "cfca79c5",
   "metadata": {},
   "outputs": [
    {
     "name": "stdout",
     "output_type": "stream",
     "text": [
      "SMAPE: 6.31270884641306\n",
      "MAE: 124.83480064258703\n"
     ]
    }
   ],
   "source": [
    "smape_score, mae_score = validate_multi(valid_x, valid_y, models_f3)\n",
    "print(f'SMAPE: {smape_score}\\nMAE: {mae_score}')"
   ]
  },
  {
   "cell_type": "markdown",
   "id": "d4510455",
   "metadata": {},
   "source": [
    "### B. 전날과의 기온, 풍속 차이\n",
    "- 전 날과의 기온과 풍속, 습도의 차이값을 feature에 추가해보았습니다.\n",
    "- weekday는 그대로 사용하였습니다(train_origin_)"
   ]
  },
  {
   "cell_type": "code",
   "execution_count": 59,
   "id": "4b9fa85f",
   "metadata": {},
   "outputs": [],
   "source": [
    "train_origin_b = train_origin_.copy()"
   ]
  },
  {
   "cell_type": "code",
   "execution_count": 60,
   "id": "322d8adc",
   "metadata": {},
   "outputs": [],
   "source": [
    "for i in range(1, 101):\n",
    "    df = train_origin_b[train_origin_b['건물번호'] == i]\n",
    "    train_origin_b.loc[df.index, '기온_gap'] = df['기온(C)'] - df.shift(1)['기온(C)']\n",
    "    train_origin_b.loc[df.index, '풍속_gap'] = df['풍속(m/s)'] - df.shift(1)['풍속(m/s)']\n",
    "    train_origin_b.loc[df.index, '습도_gap'] = df['습도(%)'] - df.shift(1)['습도(%)']"
   ]
  },
  {
   "cell_type": "code",
   "execution_count": 61,
   "id": "b53195aa",
   "metadata": {},
   "outputs": [
    {
     "data": {
      "text/html": [
       "<div>\n",
       "<style scoped>\n",
       "    .dataframe tbody tr th:only-of-type {\n",
       "        vertical-align: middle;\n",
       "    }\n",
       "\n",
       "    .dataframe tbody tr th {\n",
       "        vertical-align: top;\n",
       "    }\n",
       "\n",
       "    .dataframe thead th {\n",
       "        text-align: right;\n",
       "    }\n",
       "</style>\n",
       "<table border=\"1\" class=\"dataframe\">\n",
       "  <thead>\n",
       "    <tr style=\"text-align: right;\">\n",
       "      <th></th>\n",
       "      <th>num_date_time</th>\n",
       "      <th>건물번호</th>\n",
       "      <th>일시</th>\n",
       "      <th>기온(C)</th>\n",
       "      <th>강수량(mm)</th>\n",
       "      <th>풍속(m/s)</th>\n",
       "      <th>습도(%)</th>\n",
       "      <th>일조(hr)</th>\n",
       "      <th>일사(MJ/m2)</th>\n",
       "      <th>전력소비량(kWh)</th>\n",
       "      <th>Weekday</th>\n",
       "      <th>기온_gap</th>\n",
       "      <th>풍속_gap</th>\n",
       "      <th>습도_gap</th>\n",
       "    </tr>\n",
       "  </thead>\n",
       "  <tbody>\n",
       "    <tr>\n",
       "      <th>0</th>\n",
       "      <td>1_20220601 00</td>\n",
       "      <td>1</td>\n",
       "      <td>20220601 00</td>\n",
       "      <td>18.6</td>\n",
       "      <td>NaN</td>\n",
       "      <td>0.9</td>\n",
       "      <td>42.0</td>\n",
       "      <td>NaN</td>\n",
       "      <td>NaN</td>\n",
       "      <td>1085.28</td>\n",
       "      <td>2</td>\n",
       "      <td>NaN</td>\n",
       "      <td>NaN</td>\n",
       "      <td>NaN</td>\n",
       "    </tr>\n",
       "    <tr>\n",
       "      <th>1</th>\n",
       "      <td>1_20220601 01</td>\n",
       "      <td>1</td>\n",
       "      <td>20220601 01</td>\n",
       "      <td>18.0</td>\n",
       "      <td>NaN</td>\n",
       "      <td>1.1</td>\n",
       "      <td>45.0</td>\n",
       "      <td>NaN</td>\n",
       "      <td>NaN</td>\n",
       "      <td>1047.36</td>\n",
       "      <td>2</td>\n",
       "      <td>-0.6</td>\n",
       "      <td>0.2</td>\n",
       "      <td>3.0</td>\n",
       "    </tr>\n",
       "    <tr>\n",
       "      <th>2</th>\n",
       "      <td>1_20220601 02</td>\n",
       "      <td>1</td>\n",
       "      <td>20220601 02</td>\n",
       "      <td>17.7</td>\n",
       "      <td>NaN</td>\n",
       "      <td>1.5</td>\n",
       "      <td>45.0</td>\n",
       "      <td>NaN</td>\n",
       "      <td>NaN</td>\n",
       "      <td>974.88</td>\n",
       "      <td>2</td>\n",
       "      <td>-0.3</td>\n",
       "      <td>0.4</td>\n",
       "      <td>0.0</td>\n",
       "    </tr>\n",
       "    <tr>\n",
       "      <th>3</th>\n",
       "      <td>1_20220601 03</td>\n",
       "      <td>1</td>\n",
       "      <td>20220601 03</td>\n",
       "      <td>16.7</td>\n",
       "      <td>NaN</td>\n",
       "      <td>1.4</td>\n",
       "      <td>48.0</td>\n",
       "      <td>NaN</td>\n",
       "      <td>NaN</td>\n",
       "      <td>953.76</td>\n",
       "      <td>2</td>\n",
       "      <td>-1.0</td>\n",
       "      <td>-0.1</td>\n",
       "      <td>3.0</td>\n",
       "    </tr>\n",
       "    <tr>\n",
       "      <th>4</th>\n",
       "      <td>1_20220601 04</td>\n",
       "      <td>1</td>\n",
       "      <td>20220601 04</td>\n",
       "      <td>18.4</td>\n",
       "      <td>NaN</td>\n",
       "      <td>2.8</td>\n",
       "      <td>43.0</td>\n",
       "      <td>NaN</td>\n",
       "      <td>NaN</td>\n",
       "      <td>986.40</td>\n",
       "      <td>2</td>\n",
       "      <td>1.7</td>\n",
       "      <td>1.4</td>\n",
       "      <td>-5.0</td>\n",
       "    </tr>\n",
       "  </tbody>\n",
       "</table>\n",
       "</div>"
      ],
      "text/plain": [
       "   num_date_time  건물번호           일시  기온(C)  강수량(mm)  풍속(m/s)  습도(%)  일조(hr)  \\\n",
       "0  1_20220601 00     1  20220601 00   18.6      NaN      0.9   42.0     NaN   \n",
       "1  1_20220601 01     1  20220601 01   18.0      NaN      1.1   45.0     NaN   \n",
       "2  1_20220601 02     1  20220601 02   17.7      NaN      1.5   45.0     NaN   \n",
       "3  1_20220601 03     1  20220601 03   16.7      NaN      1.4   48.0     NaN   \n",
       "4  1_20220601 04     1  20220601 04   18.4      NaN      2.8   43.0     NaN   \n",
       "\n",
       "   일사(MJ/m2)  전력소비량(kWh)  Weekday  기온_gap  풍속_gap  습도_gap  \n",
       "0        NaN     1085.28        2     NaN     NaN     NaN  \n",
       "1        NaN     1047.36        2    -0.6     0.2     3.0  \n",
       "2        NaN      974.88        2    -0.3     0.4     0.0  \n",
       "3        NaN      953.76        2    -1.0    -0.1     3.0  \n",
       "4        NaN      986.40        2     1.7     1.4    -5.0  "
      ]
     },
     "execution_count": 61,
     "metadata": {},
     "output_type": "execute_result"
    }
   ],
   "source": [
    "train_origin_b.head()"
   ]
  },
  {
   "cell_type": "code",
   "execution_count": 62,
   "id": "d920749d",
   "metadata": {},
   "outputs": [],
   "source": [
    "train_origin_b['기온_gap'] = train_origin_b['기온_gap'].fillna(0)\n",
    "train_origin_b['풍속_gap'] = train_origin_b['풍속_gap'].fillna(0)\n",
    "train_origin_b['습도_gap'] = train_origin_b['습도_gap'].fillna(0)"
   ]
  },
  {
   "cell_type": "code",
   "execution_count": 63,
   "id": "1c28031d",
   "metadata": {},
   "outputs": [],
   "source": [
    "train_df, valid_df = train_test_split(train_origin_b, 20220820)\n",
    "\n",
    "train_x = preprocess_x(train_df)\n",
    "train_y = train_df['전력소비량(kWh)']\n",
    "\n",
    "valid_x = preprocess_x(valid_df)\n",
    "valid_y = valid_df['전력소비량(kWh)']"
   ]
  },
  {
   "cell_type": "code",
   "execution_count": 64,
   "id": "f2fc996f",
   "metadata": {},
   "outputs": [
    {
     "data": {
      "text/html": [
       "<div>\n",
       "<style scoped>\n",
       "    .dataframe tbody tr th:only-of-type {\n",
       "        vertical-align: middle;\n",
       "    }\n",
       "\n",
       "    .dataframe tbody tr th {\n",
       "        vertical-align: top;\n",
       "    }\n",
       "\n",
       "    .dataframe thead th {\n",
       "        text-align: right;\n",
       "    }\n",
       "</style>\n",
       "<table border=\"1\" class=\"dataframe\">\n",
       "  <thead>\n",
       "    <tr style=\"text-align: right;\">\n",
       "      <th></th>\n",
       "      <th>건물번호</th>\n",
       "      <th>기온(C)</th>\n",
       "      <th>강수량(mm)</th>\n",
       "      <th>풍속(m/s)</th>\n",
       "      <th>습도(%)</th>\n",
       "      <th>Weekday</th>\n",
       "      <th>기온_gap</th>\n",
       "      <th>풍속_gap</th>\n",
       "      <th>습도_gap</th>\n",
       "      <th>month</th>\n",
       "      <th>day</th>\n",
       "      <th>time</th>\n",
       "      <th>건물유형</th>\n",
       "      <th>연면적(m2)</th>\n",
       "      <th>냉방면적(m2)</th>\n",
       "    </tr>\n",
       "  </thead>\n",
       "  <tbody>\n",
       "    <tr>\n",
       "      <th>0</th>\n",
       "      <td>1</td>\n",
       "      <td>18.6</td>\n",
       "      <td>0.0</td>\n",
       "      <td>0.9</td>\n",
       "      <td>42.0</td>\n",
       "      <td>2</td>\n",
       "      <td>0.0</td>\n",
       "      <td>0.0</td>\n",
       "      <td>0.0</td>\n",
       "      <td>6</td>\n",
       "      <td>1</td>\n",
       "      <td>0</td>\n",
       "      <td>0</td>\n",
       "      <td>110634.0</td>\n",
       "      <td>39570.0</td>\n",
       "    </tr>\n",
       "    <tr>\n",
       "      <th>1</th>\n",
       "      <td>1</td>\n",
       "      <td>18.0</td>\n",
       "      <td>0.0</td>\n",
       "      <td>1.1</td>\n",
       "      <td>45.0</td>\n",
       "      <td>2</td>\n",
       "      <td>-0.6</td>\n",
       "      <td>0.2</td>\n",
       "      <td>3.0</td>\n",
       "      <td>6</td>\n",
       "      <td>1</td>\n",
       "      <td>1</td>\n",
       "      <td>0</td>\n",
       "      <td>110634.0</td>\n",
       "      <td>39570.0</td>\n",
       "    </tr>\n",
       "    <tr>\n",
       "      <th>2</th>\n",
       "      <td>1</td>\n",
       "      <td>17.7</td>\n",
       "      <td>0.0</td>\n",
       "      <td>1.5</td>\n",
       "      <td>45.0</td>\n",
       "      <td>2</td>\n",
       "      <td>-0.3</td>\n",
       "      <td>0.4</td>\n",
       "      <td>0.0</td>\n",
       "      <td>6</td>\n",
       "      <td>1</td>\n",
       "      <td>2</td>\n",
       "      <td>0</td>\n",
       "      <td>110634.0</td>\n",
       "      <td>39570.0</td>\n",
       "    </tr>\n",
       "    <tr>\n",
       "      <th>3</th>\n",
       "      <td>1</td>\n",
       "      <td>16.7</td>\n",
       "      <td>0.0</td>\n",
       "      <td>1.4</td>\n",
       "      <td>48.0</td>\n",
       "      <td>2</td>\n",
       "      <td>-1.0</td>\n",
       "      <td>-0.1</td>\n",
       "      <td>3.0</td>\n",
       "      <td>6</td>\n",
       "      <td>1</td>\n",
       "      <td>3</td>\n",
       "      <td>0</td>\n",
       "      <td>110634.0</td>\n",
       "      <td>39570.0</td>\n",
       "    </tr>\n",
       "    <tr>\n",
       "      <th>4</th>\n",
       "      <td>1</td>\n",
       "      <td>18.4</td>\n",
       "      <td>0.0</td>\n",
       "      <td>2.8</td>\n",
       "      <td>43.0</td>\n",
       "      <td>2</td>\n",
       "      <td>1.7</td>\n",
       "      <td>1.4</td>\n",
       "      <td>-5.0</td>\n",
       "      <td>6</td>\n",
       "      <td>1</td>\n",
       "      <td>4</td>\n",
       "      <td>0</td>\n",
       "      <td>110634.0</td>\n",
       "      <td>39570.0</td>\n",
       "    </tr>\n",
       "  </tbody>\n",
       "</table>\n",
       "</div>"
      ],
      "text/plain": [
       "   건물번호  기온(C)  강수량(mm)  풍속(m/s)  습도(%)  Weekday  기온_gap  풍속_gap  습도_gap  \\\n",
       "0     1   18.6      0.0      0.9   42.0        2     0.0     0.0     0.0   \n",
       "1     1   18.0      0.0      1.1   45.0        2    -0.6     0.2     3.0   \n",
       "2     1   17.7      0.0      1.5   45.0        2    -0.3     0.4     0.0   \n",
       "3     1   16.7      0.0      1.4   48.0        2    -1.0    -0.1     3.0   \n",
       "4     1   18.4      0.0      2.8   43.0        2     1.7     1.4    -5.0   \n",
       "\n",
       "   month  day  time  건물유형   연면적(m2)  냉방면적(m2)  \n",
       "0      6    1     0     0  110634.0   39570.0  \n",
       "1      6    1     1     0  110634.0   39570.0  \n",
       "2      6    1     2     0  110634.0   39570.0  \n",
       "3      6    1     3     0  110634.0   39570.0  \n",
       "4      6    1     4     0  110634.0   39570.0  "
      ]
     },
     "execution_count": 64,
     "metadata": {},
     "output_type": "execute_result"
    }
   ],
   "source": [
    "train_x.head()"
   ]
  },
  {
   "cell_type": "code",
   "execution_count": 65,
   "id": "8603a121",
   "metadata": {},
   "outputs": [
    {
     "name": "stderr",
     "output_type": "stream",
     "text": [
      "100%|██████████| 100/100 [00:08<00:00, 12.10it/s]\n"
     ]
    }
   ],
   "source": [
    "models_b1 = train_multiple_models(train_x, train_y)"
   ]
  },
  {
   "cell_type": "code",
   "execution_count": 66,
   "id": "fca42865",
   "metadata": {},
   "outputs": [
    {
     "name": "stdout",
     "output_type": "stream",
     "text": [
      "SMAPE: 6.117250067250165\n",
      "MAE: 122.69514615664708\n"
     ]
    }
   ],
   "source": [
    "smape_score, mae_score = validate_multi(valid_x, valid_y, models_b1)\n",
    "print(f'SMAPE: {smape_score}\\nMAE: {mae_score}')"
   ]
  },
  {
   "cell_type": "markdown",
   "id": "5d3fce35",
   "metadata": {},
   "source": [
    "#### B-1 hyper paramter 조절\n",
    "- 그냥 weekday와 추가한 모델과 결과에서 큰 차이는 없었습니다."
   ]
  },
  {
   "cell_type": "code",
   "execution_count": 67,
   "id": "ed2ae29b",
   "metadata": {},
   "outputs": [
    {
     "name": "stderr",
     "output_type": "stream",
     "text": [
      "100%|██████████| 100/100 [00:05<00:00, 19.94it/s]\n"
     ]
    }
   ],
   "source": [
    "models_b2 = train_multiple_models(train_x, train_y, 50)"
   ]
  },
  {
   "cell_type": "code",
   "execution_count": 68,
   "id": "2acce9e7",
   "metadata": {},
   "outputs": [
    {
     "name": "stdout",
     "output_type": "stream",
     "text": [
      "SMAPE: 6.01702147440971\n",
      "MAE: 120.5025427532366\n"
     ]
    }
   ],
   "source": [
    "smape_score, mae_score = validate_multi(valid_x, valid_y, models_b2)\n",
    "print(f'SMAPE: {smape_score}\\nMAE: {mae_score}')"
   ]
  },
  {
   "cell_type": "code",
   "execution_count": 69,
   "id": "e7a633c7",
   "metadata": {},
   "outputs": [
    {
     "name": "stderr",
     "output_type": "stream",
     "text": [
      "100%|██████████| 100/100 [00:03<00:00, 32.18it/s]\n"
     ]
    }
   ],
   "source": [
    "models_b3 = train_multiple_models(train_x, train_y, 30)"
   ]
  },
  {
   "cell_type": "code",
   "execution_count": 70,
   "id": "a151d991",
   "metadata": {},
   "outputs": [
    {
     "name": "stdout",
     "output_type": "stream",
     "text": [
      "SMAPE: 6.4078847129349406\n",
      "MAE: 124.58726526813271\n"
     ]
    }
   ],
   "source": [
    "smape_score, mae_score = validate_multi(valid_x, valid_y, models_b3)\n",
    "print(f'SMAPE: {smape_score}\\nMAE: {mae_score}')"
   ]
  },
  {
   "cell_type": "markdown",
   "id": "f6634095",
   "metadata": {},
   "source": [
    "### C. 1주일 전 전력소모값\n",
    "- test 데이터의 가장 마지막 날짜(8월31일)과 train 데이터의 가장 마지막 날짜(8월24일)의 gap이 7일이므로, test 데이터의 경우 과거 7일전 이상의 전력소모값은 접근할 수 있습니다.\n",
    "- B에서 생성한 feature는 사용하지않고, weekday(train_origin_)만 사용하였습니다."
   ]
  },
  {
   "cell_type": "code",
   "execution_count": 71,
   "id": "53deb93f",
   "metadata": {},
   "outputs": [],
   "source": [
    "train_origin_c = train_origin_.copy()"
   ]
  },
  {
   "cell_type": "code",
   "execution_count": 72,
   "id": "6733b027",
   "metadata": {},
   "outputs": [],
   "source": [
    "n = 7*24 # 7*24시간 전 전력소모량\n",
    "for i in range(1, 101):\n",
    "    df = train_origin_c[train_origin_c['건물번호'] == i]\n",
    "    train_origin_c.loc[df.index, f'{n}시간 전 전력소비량'] = df.shift(n)['전력소비량(kWh)']"
   ]
  },
  {
   "cell_type": "code",
   "execution_count": 73,
   "id": "ebe2a7a3",
   "metadata": {},
   "outputs": [],
   "source": [
    "train_df, valid_df = train_test_split(train_origin_c, 20220820)\n",
    "\n",
    "train_x = preprocess_x(train_df)\n",
    "train_y = train_df['전력소비량(kWh)']\n",
    "\n",
    "valid_x = preprocess_x(valid_df)\n",
    "valid_y = valid_df['전력소비량(kWh)']"
   ]
  },
  {
   "cell_type": "code",
   "execution_count": 74,
   "id": "b2d0f14f",
   "metadata": {},
   "outputs": [],
   "source": [
    "train_x = train_x[train_x['168시간 전 전력소비량'] != 0]  # NaN이 0으로 replace되어 0이 아닌 row들 삭제\n",
    "train_y = train_y[train_x.index]"
   ]
  },
  {
   "cell_type": "code",
   "execution_count": 75,
   "id": "e49738bc",
   "metadata": {},
   "outputs": [
    {
     "data": {
      "text/html": [
       "<div>\n",
       "<style scoped>\n",
       "    .dataframe tbody tr th:only-of-type {\n",
       "        vertical-align: middle;\n",
       "    }\n",
       "\n",
       "    .dataframe tbody tr th {\n",
       "        vertical-align: top;\n",
       "    }\n",
       "\n",
       "    .dataframe thead th {\n",
       "        text-align: right;\n",
       "    }\n",
       "</style>\n",
       "<table border=\"1\" class=\"dataframe\">\n",
       "  <thead>\n",
       "    <tr style=\"text-align: right;\">\n",
       "      <th></th>\n",
       "      <th>건물번호</th>\n",
       "      <th>기온(C)</th>\n",
       "      <th>강수량(mm)</th>\n",
       "      <th>풍속(m/s)</th>\n",
       "      <th>습도(%)</th>\n",
       "      <th>Weekday</th>\n",
       "      <th>168시간 전 전력소비량</th>\n",
       "      <th>month</th>\n",
       "      <th>day</th>\n",
       "      <th>time</th>\n",
       "      <th>건물유형</th>\n",
       "      <th>연면적(m2)</th>\n",
       "      <th>냉방면적(m2)</th>\n",
       "    </tr>\n",
       "  </thead>\n",
       "  <tbody>\n",
       "    <tr>\n",
       "      <th>168</th>\n",
       "      <td>1</td>\n",
       "      <td>19.0</td>\n",
       "      <td>0.0</td>\n",
       "      <td>3.2</td>\n",
       "      <td>61.0</td>\n",
       "      <td>2</td>\n",
       "      <td>1085.28</td>\n",
       "      <td>6</td>\n",
       "      <td>8</td>\n",
       "      <td>0</td>\n",
       "      <td>0</td>\n",
       "      <td>110634.0</td>\n",
       "      <td>39570.0</td>\n",
       "    </tr>\n",
       "    <tr>\n",
       "      <th>169</th>\n",
       "      <td>1</td>\n",
       "      <td>18.8</td>\n",
       "      <td>0.0</td>\n",
       "      <td>2.6</td>\n",
       "      <td>61.0</td>\n",
       "      <td>2</td>\n",
       "      <td>1047.36</td>\n",
       "      <td>6</td>\n",
       "      <td>8</td>\n",
       "      <td>1</td>\n",
       "      <td>0</td>\n",
       "      <td>110634.0</td>\n",
       "      <td>39570.0</td>\n",
       "    </tr>\n",
       "    <tr>\n",
       "      <th>170</th>\n",
       "      <td>1</td>\n",
       "      <td>18.5</td>\n",
       "      <td>0.0</td>\n",
       "      <td>2.6</td>\n",
       "      <td>62.0</td>\n",
       "      <td>2</td>\n",
       "      <td>974.88</td>\n",
       "      <td>6</td>\n",
       "      <td>8</td>\n",
       "      <td>2</td>\n",
       "      <td>0</td>\n",
       "      <td>110634.0</td>\n",
       "      <td>39570.0</td>\n",
       "    </tr>\n",
       "    <tr>\n",
       "      <th>171</th>\n",
       "      <td>1</td>\n",
       "      <td>18.1</td>\n",
       "      <td>0.0</td>\n",
       "      <td>2.2</td>\n",
       "      <td>63.0</td>\n",
       "      <td>2</td>\n",
       "      <td>953.76</td>\n",
       "      <td>6</td>\n",
       "      <td>8</td>\n",
       "      <td>3</td>\n",
       "      <td>0</td>\n",
       "      <td>110634.0</td>\n",
       "      <td>39570.0</td>\n",
       "    </tr>\n",
       "    <tr>\n",
       "      <th>172</th>\n",
       "      <td>1</td>\n",
       "      <td>17.2</td>\n",
       "      <td>0.0</td>\n",
       "      <td>3.2</td>\n",
       "      <td>66.0</td>\n",
       "      <td>2</td>\n",
       "      <td>986.40</td>\n",
       "      <td>6</td>\n",
       "      <td>8</td>\n",
       "      <td>4</td>\n",
       "      <td>0</td>\n",
       "      <td>110634.0</td>\n",
       "      <td>39570.0</td>\n",
       "    </tr>\n",
       "  </tbody>\n",
       "</table>\n",
       "</div>"
      ],
      "text/plain": [
       "     건물번호  기온(C)  강수량(mm)  풍속(m/s)  습도(%)  Weekday  168시간 전 전력소비량  month  day  \\\n",
       "168     1   19.0      0.0      3.2   61.0        2        1085.28      6    8   \n",
       "169     1   18.8      0.0      2.6   61.0        2        1047.36      6    8   \n",
       "170     1   18.5      0.0      2.6   62.0        2         974.88      6    8   \n",
       "171     1   18.1      0.0      2.2   63.0        2         953.76      6    8   \n",
       "172     1   17.2      0.0      3.2   66.0        2         986.40      6    8   \n",
       "\n",
       "     time  건물유형   연면적(m2)  냉방면적(m2)  \n",
       "168     0     0  110634.0   39570.0  \n",
       "169     1     0  110634.0   39570.0  \n",
       "170     2     0  110634.0   39570.0  \n",
       "171     3     0  110634.0   39570.0  \n",
       "172     4     0  110634.0   39570.0  "
      ]
     },
     "execution_count": 75,
     "metadata": {},
     "output_type": "execute_result"
    }
   ],
   "source": [
    "train_x.head()"
   ]
  },
  {
   "cell_type": "code",
   "execution_count": 76,
   "id": "82464db6",
   "metadata": {},
   "outputs": [
    {
     "name": "stderr",
     "output_type": "stream",
     "text": [
      "100%|██████████| 100/100 [00:08<00:00, 11.45it/s]\n"
     ]
    }
   ],
   "source": [
    "models_c1 = train_multiple_models(train_x, train_y)"
   ]
  },
  {
   "cell_type": "code",
   "execution_count": 77,
   "id": "99c16d91",
   "metadata": {},
   "outputs": [
    {
     "name": "stdout",
     "output_type": "stream",
     "text": [
      "SMAPE: 7.5596222949098495\n",
      "MAE: 165.4161695963737\n"
     ]
    }
   ],
   "source": [
    "smape_score, mae_score = validate_multi(valid_x, valid_y, models_c1)\n",
    "print(f'SMAPE: {smape_score}\\nMAE: {mae_score}')"
   ]
  },
  {
   "cell_type": "code",
   "execution_count": 78,
   "id": "4b61b127",
   "metadata": {},
   "outputs": [
    {
     "name": "stderr",
     "output_type": "stream",
     "text": [
      "100%|██████████| 100/100 [00:05<00:00, 19.85it/s]\n"
     ]
    }
   ],
   "source": [
    "models_c2 = train_multiple_models(train_x, train_y, 50)"
   ]
  },
  {
   "cell_type": "code",
   "execution_count": 79,
   "id": "87c0a92b",
   "metadata": {},
   "outputs": [
    {
     "name": "stdout",
     "output_type": "stream",
     "text": [
      "SMAPE: 7.4665897355348365\n",
      "MAE: 164.10137296168938\n"
     ]
    }
   ],
   "source": [
    "smape_score, mae_score = validate_multi(valid_x, valid_y, models_c2)\n",
    "print(f'SMAPE: {smape_score}\\nMAE: {mae_score}')"
   ]
  },
  {
   "cell_type": "code",
   "execution_count": 80,
   "id": "4a30102c",
   "metadata": {},
   "outputs": [
    {
     "name": "stderr",
     "output_type": "stream",
     "text": [
      "100%|██████████| 100/100 [00:22<00:00,  4.54it/s]\n"
     ]
    }
   ],
   "source": [
    "models_c3 = train_multiple_models(train_x, train_y, 300)"
   ]
  },
  {
   "cell_type": "code",
   "execution_count": 81,
   "id": "4695ee47",
   "metadata": {},
   "outputs": [
    {
     "name": "stdout",
     "output_type": "stream",
     "text": [
      "SMAPE: 7.607725953289583\n",
      "MAE: 165.62385860919687\n"
     ]
    }
   ],
   "source": [
    "smape_score, mae_score = validate_multi(valid_x, valid_y, models_c3)\n",
    "print(f'SMAPE: {smape_score}\\nMAE: {mae_score}')"
   ]
  },
  {
   "cell_type": "markdown",
   "id": "ab47c072",
   "metadata": {},
   "source": [
    "- 오히려 score가 떨어졌습니다."
   ]
  },
  {
   "cell_type": "markdown",
   "id": "3978c31a",
   "metadata": {},
   "source": [
    "### D. 7일전 24시간동안의 전력소모량\n",
    "- 8일전\\~7일전(191시간전\\~168시간전) 데이터를 feature로 추가해 사용해보았습니다.\n",
    "- 위와 마찬가지로 weekday만 있는 모델에서 feature를 추가하였습니다."
   ]
  },
  {
   "cell_type": "code",
   "execution_count": 82,
   "id": "4a19de4a",
   "metadata": {},
   "outputs": [],
   "source": [
    "train_origin_d = train_origin_.copy()"
   ]
  },
  {
   "cell_type": "code",
   "execution_count": 83,
   "id": "38e38123",
   "metadata": {},
   "outputs": [],
   "source": [
    "for i in range(1, 101):\n",
    "    df = train_origin_d[train_origin_d['건물번호'] == i]\n",
    "    fr, to = 7*24, 7*24+24\n",
    "    for n in range(fr, to):\n",
    "        train_origin_d.loc[df.index, f'{n}시간 전 전력소비량'] = df.shift(n)['전력소비량(kWh)']"
   ]
  },
  {
   "cell_type": "code",
   "execution_count": 84,
   "id": "ccef545e",
   "metadata": {},
   "outputs": [],
   "source": [
    "train_df, valid_df = train_test_split(train_origin_d, 20220820)\n",
    "\n",
    "train_x = preprocess_x(train_df)\n",
    "train_y = train_df['전력소비량(kWh)']\n",
    "\n",
    "valid_x = preprocess_x(valid_df)\n",
    "valid_y = valid_df['전력소비량(kWh)']"
   ]
  },
  {
   "cell_type": "code",
   "execution_count": 85,
   "id": "8e876a0a",
   "metadata": {},
   "outputs": [
    {
     "data": {
      "text/html": [
       "<div>\n",
       "<style scoped>\n",
       "    .dataframe tbody tr th:only-of-type {\n",
       "        vertical-align: middle;\n",
       "    }\n",
       "\n",
       "    .dataframe tbody tr th {\n",
       "        vertical-align: top;\n",
       "    }\n",
       "\n",
       "    .dataframe thead th {\n",
       "        text-align: right;\n",
       "    }\n",
       "</style>\n",
       "<table border=\"1\" class=\"dataframe\">\n",
       "  <thead>\n",
       "    <tr style=\"text-align: right;\">\n",
       "      <th></th>\n",
       "      <th>건물번호</th>\n",
       "      <th>기온(C)</th>\n",
       "      <th>강수량(mm)</th>\n",
       "      <th>풍속(m/s)</th>\n",
       "      <th>습도(%)</th>\n",
       "      <th>Weekday</th>\n",
       "      <th>168시간 전 전력소비량</th>\n",
       "      <th>169시간 전 전력소비량</th>\n",
       "      <th>170시간 전 전력소비량</th>\n",
       "      <th>171시간 전 전력소비량</th>\n",
       "      <th>...</th>\n",
       "      <th>188시간 전 전력소비량</th>\n",
       "      <th>189시간 전 전력소비량</th>\n",
       "      <th>190시간 전 전력소비량</th>\n",
       "      <th>191시간 전 전력소비량</th>\n",
       "      <th>month</th>\n",
       "      <th>day</th>\n",
       "      <th>time</th>\n",
       "      <th>건물유형</th>\n",
       "      <th>연면적(m2)</th>\n",
       "      <th>냉방면적(m2)</th>\n",
       "    </tr>\n",
       "  </thead>\n",
       "  <tbody>\n",
       "    <tr>\n",
       "      <th>0</th>\n",
       "      <td>1</td>\n",
       "      <td>18.6</td>\n",
       "      <td>0.0</td>\n",
       "      <td>0.9</td>\n",
       "      <td>42.0</td>\n",
       "      <td>2</td>\n",
       "      <td>0.0</td>\n",
       "      <td>0.0</td>\n",
       "      <td>0.0</td>\n",
       "      <td>0.0</td>\n",
       "      <td>...</td>\n",
       "      <td>0.0</td>\n",
       "      <td>0.0</td>\n",
       "      <td>0.0</td>\n",
       "      <td>0.0</td>\n",
       "      <td>6</td>\n",
       "      <td>1</td>\n",
       "      <td>0</td>\n",
       "      <td>0</td>\n",
       "      <td>110634.0</td>\n",
       "      <td>39570.0</td>\n",
       "    </tr>\n",
       "    <tr>\n",
       "      <th>1</th>\n",
       "      <td>1</td>\n",
       "      <td>18.0</td>\n",
       "      <td>0.0</td>\n",
       "      <td>1.1</td>\n",
       "      <td>45.0</td>\n",
       "      <td>2</td>\n",
       "      <td>0.0</td>\n",
       "      <td>0.0</td>\n",
       "      <td>0.0</td>\n",
       "      <td>0.0</td>\n",
       "      <td>...</td>\n",
       "      <td>0.0</td>\n",
       "      <td>0.0</td>\n",
       "      <td>0.0</td>\n",
       "      <td>0.0</td>\n",
       "      <td>6</td>\n",
       "      <td>1</td>\n",
       "      <td>1</td>\n",
       "      <td>0</td>\n",
       "      <td>110634.0</td>\n",
       "      <td>39570.0</td>\n",
       "    </tr>\n",
       "    <tr>\n",
       "      <th>2</th>\n",
       "      <td>1</td>\n",
       "      <td>17.7</td>\n",
       "      <td>0.0</td>\n",
       "      <td>1.5</td>\n",
       "      <td>45.0</td>\n",
       "      <td>2</td>\n",
       "      <td>0.0</td>\n",
       "      <td>0.0</td>\n",
       "      <td>0.0</td>\n",
       "      <td>0.0</td>\n",
       "      <td>...</td>\n",
       "      <td>0.0</td>\n",
       "      <td>0.0</td>\n",
       "      <td>0.0</td>\n",
       "      <td>0.0</td>\n",
       "      <td>6</td>\n",
       "      <td>1</td>\n",
       "      <td>2</td>\n",
       "      <td>0</td>\n",
       "      <td>110634.0</td>\n",
       "      <td>39570.0</td>\n",
       "    </tr>\n",
       "    <tr>\n",
       "      <th>3</th>\n",
       "      <td>1</td>\n",
       "      <td>16.7</td>\n",
       "      <td>0.0</td>\n",
       "      <td>1.4</td>\n",
       "      <td>48.0</td>\n",
       "      <td>2</td>\n",
       "      <td>0.0</td>\n",
       "      <td>0.0</td>\n",
       "      <td>0.0</td>\n",
       "      <td>0.0</td>\n",
       "      <td>...</td>\n",
       "      <td>0.0</td>\n",
       "      <td>0.0</td>\n",
       "      <td>0.0</td>\n",
       "      <td>0.0</td>\n",
       "      <td>6</td>\n",
       "      <td>1</td>\n",
       "      <td>3</td>\n",
       "      <td>0</td>\n",
       "      <td>110634.0</td>\n",
       "      <td>39570.0</td>\n",
       "    </tr>\n",
       "    <tr>\n",
       "      <th>4</th>\n",
       "      <td>1</td>\n",
       "      <td>18.4</td>\n",
       "      <td>0.0</td>\n",
       "      <td>2.8</td>\n",
       "      <td>43.0</td>\n",
       "      <td>2</td>\n",
       "      <td>0.0</td>\n",
       "      <td>0.0</td>\n",
       "      <td>0.0</td>\n",
       "      <td>0.0</td>\n",
       "      <td>...</td>\n",
       "      <td>0.0</td>\n",
       "      <td>0.0</td>\n",
       "      <td>0.0</td>\n",
       "      <td>0.0</td>\n",
       "      <td>6</td>\n",
       "      <td>1</td>\n",
       "      <td>4</td>\n",
       "      <td>0</td>\n",
       "      <td>110634.0</td>\n",
       "      <td>39570.0</td>\n",
       "    </tr>\n",
       "  </tbody>\n",
       "</table>\n",
       "<p>5 rows × 36 columns</p>\n",
       "</div>"
      ],
      "text/plain": [
       "   건물번호  기온(C)  강수량(mm)  풍속(m/s)  습도(%)  Weekday  168시간 전 전력소비량  \\\n",
       "0     1   18.6      0.0      0.9   42.0        2            0.0   \n",
       "1     1   18.0      0.0      1.1   45.0        2            0.0   \n",
       "2     1   17.7      0.0      1.5   45.0        2            0.0   \n",
       "3     1   16.7      0.0      1.4   48.0        2            0.0   \n",
       "4     1   18.4      0.0      2.8   43.0        2            0.0   \n",
       "\n",
       "   169시간 전 전력소비량  170시간 전 전력소비량  171시간 전 전력소비량  ...  188시간 전 전력소비량  \\\n",
       "0            0.0            0.0            0.0  ...            0.0   \n",
       "1            0.0            0.0            0.0  ...            0.0   \n",
       "2            0.0            0.0            0.0  ...            0.0   \n",
       "3            0.0            0.0            0.0  ...            0.0   \n",
       "4            0.0            0.0            0.0  ...            0.0   \n",
       "\n",
       "   189시간 전 전력소비량  190시간 전 전력소비량  191시간 전 전력소비량  month  day  time  건물유형  \\\n",
       "0            0.0            0.0            0.0      6    1     0     0   \n",
       "1            0.0            0.0            0.0      6    1     1     0   \n",
       "2            0.0            0.0            0.0      6    1     2     0   \n",
       "3            0.0            0.0            0.0      6    1     3     0   \n",
       "4            0.0            0.0            0.0      6    1     4     0   \n",
       "\n",
       "    연면적(m2)  냉방면적(m2)  \n",
       "0  110634.0   39570.0  \n",
       "1  110634.0   39570.0  \n",
       "2  110634.0   39570.0  \n",
       "3  110634.0   39570.0  \n",
       "4  110634.0   39570.0  \n",
       "\n",
       "[5 rows x 36 columns]"
      ]
     },
     "execution_count": 85,
     "metadata": {},
     "output_type": "execute_result"
    }
   ],
   "source": [
    "train_x.head()"
   ]
  },
  {
   "cell_type": "code",
   "execution_count": 86,
   "id": "4b46e0a5",
   "metadata": {},
   "outputs": [],
   "source": [
    "train_x = train_x[train_x['191시간 전 전력소비량'] != 0]  # NaN이 0으로 replace되어 0이 아닌 row들 삭제\n",
    "train_y = train_y[train_x.index]"
   ]
  },
  {
   "cell_type": "code",
   "execution_count": 87,
   "id": "8f475555",
   "metadata": {},
   "outputs": [
    {
     "name": "stderr",
     "output_type": "stream",
     "text": [
      "100%|██████████| 100/100 [00:08<00:00, 11.17it/s]\n"
     ]
    }
   ],
   "source": [
    "models_d1 = train_multiple_models(train_x, train_y)"
   ]
  },
  {
   "cell_type": "code",
   "execution_count": 88,
   "id": "c42322d2",
   "metadata": {},
   "outputs": [
    {
     "name": "stdout",
     "output_type": "stream",
     "text": [
      "SMAPE: 8.09469887621692\n",
      "MAE: 180.28542027333089\n"
     ]
    }
   ],
   "source": [
    "smape_score, mae_score = validate_multi(valid_x, valid_y, models_d1)\n",
    "print(f'SMAPE: {smape_score}\\nMAE: {mae_score}')"
   ]
  },
  {
   "cell_type": "code",
   "execution_count": 89,
   "id": "b8cc3ab5",
   "metadata": {},
   "outputs": [
    {
     "name": "stderr",
     "output_type": "stream",
     "text": [
      "100%|██████████| 100/100 [00:05<00:00, 18.95it/s]\n"
     ]
    }
   ],
   "source": [
    "models_d2 = train_multiple_models(train_x, train_y, 50)"
   ]
  },
  {
   "cell_type": "code",
   "execution_count": 90,
   "id": "1a9c3562",
   "metadata": {},
   "outputs": [
    {
     "name": "stdout",
     "output_type": "stream",
     "text": [
      "SMAPE: 8.032829466393384\n",
      "MAE: 179.66946544023767\n"
     ]
    }
   ],
   "source": [
    "smape_score, mae_score = validate_multi(valid_x, valid_y, models_d2)\n",
    "print(f'SMAPE: {smape_score}\\nMAE: {mae_score}')"
   ]
  },
  {
   "cell_type": "code",
   "execution_count": 91,
   "id": "82e3445a",
   "metadata": {},
   "outputs": [
    {
     "name": "stderr",
     "output_type": "stream",
     "text": [
      "100%|██████████| 100/100 [00:26<00:00,  3.76it/s]\n"
     ]
    }
   ],
   "source": [
    "models_d3 = train_multiple_models(train_x, train_y, 300)"
   ]
  },
  {
   "cell_type": "code",
   "execution_count": 92,
   "id": "b8dc192c",
   "metadata": {},
   "outputs": [
    {
     "name": "stdout",
     "output_type": "stream",
     "text": [
      "SMAPE: 8.16364752448132\n",
      "MAE: 181.0440610249934\n"
     ]
    }
   ],
   "source": [
    "smape_score, mae_score = validate_multi(valid_x, valid_y, models_d3)\n",
    "print(f'SMAPE: {smape_score}\\nMAE: {mae_score}')"
   ]
  },
  {
   "cell_type": "markdown",
   "id": "31f94dde",
   "metadata": {},
   "source": [
    "- feature를 추가하는게 오히려 성능을 떨어뜨림을 확인할 수 있습니다."
   ]
  },
  {
   "cell_type": "markdown",
   "id": "07fdc541",
   "metadata": {},
   "source": [
    "## Make Submission\n",
    "- 전체 학습 데이터셋을 이용해 모델 생성\n",
    "- 3-A(multiple models, add weekday)모델을 사용하였습니다."
   ]
  },
  {
   "cell_type": "code",
   "execution_count": 93,
   "id": "45ec9277",
   "metadata": {},
   "outputs": [
    {
     "name": "stderr",
     "output_type": "stream",
     "text": [
      "100%|██████████| 100/100 [00:06<00:00, 14.87it/s]\n"
     ]
    }
   ],
   "source": [
    "submission = pd.read_csv('./data/sample_submission.csv')\n",
    "submission\n",
    "\n",
    "train_origin['Weekday'] = train_origin.apply(lambda x:to_datetime(x['일시']), axis=1)\n",
    "test_origin['Weekday'] = test_origin.apply(lambda x:to_datetime(x['일시']), axis=1)\n",
    "train_x_full = preprocess_x(train_origin)\n",
    "train_y_full = train_origin['전력소비량(kWh)']\n",
    "\n",
    "models = train_multiple_models(train_x_full, train_y_full)"
   ]
  },
  {
   "cell_type": "code",
   "execution_count": 94,
   "id": "b905b39b",
   "metadata": {},
   "outputs": [],
   "source": [
    "test_x_real = preprocess_x(test_origin)"
   ]
  },
  {
   "cell_type": "code",
   "execution_count": 95,
   "id": "fb69c753",
   "metadata": {},
   "outputs": [
    {
     "name": "stderr",
     "output_type": "stream",
     "text": [
      "100%|██████████| 100/100 [00:00<00:00, 348.54it/s]\n"
     ]
    }
   ],
   "source": [
    "preds_real = []\n",
    "for i in tqdm(range(1, 101)):\n",
    "    _x = test_x_real[test_x_real['건물번호'] == i]\n",
    "    _x = _x.drop(columns=['건물번호', '건물유형', '연면적(m2)', '냉방면적(m2)'])\n",
    "    pred = models[i].predict(_x).tolist()\n",
    "    preds_real.extend(pred)"
   ]
  },
  {
   "cell_type": "code",
   "execution_count": 96,
   "id": "f01a12db",
   "metadata": {},
   "outputs": [],
   "source": [
    "submission['answer'] = preds_real"
   ]
  },
  {
   "cell_type": "code",
   "execution_count": 97,
   "id": "17fe95cc",
   "metadata": {},
   "outputs": [
    {
     "data": {
      "text/html": [
       "<div>\n",
       "<style scoped>\n",
       "    .dataframe tbody tr th:only-of-type {\n",
       "        vertical-align: middle;\n",
       "    }\n",
       "\n",
       "    .dataframe tbody tr th {\n",
       "        vertical-align: top;\n",
       "    }\n",
       "\n",
       "    .dataframe thead th {\n",
       "        text-align: right;\n",
       "    }\n",
       "</style>\n",
       "<table border=\"1\" class=\"dataframe\">\n",
       "  <thead>\n",
       "    <tr style=\"text-align: right;\">\n",
       "      <th></th>\n",
       "      <th>num_date_time</th>\n",
       "      <th>answer</th>\n",
       "    </tr>\n",
       "  </thead>\n",
       "  <tbody>\n",
       "    <tr>\n",
       "      <th>0</th>\n",
       "      <td>1_20220825 00</td>\n",
       "      <td>2101.314171</td>\n",
       "    </tr>\n",
       "    <tr>\n",
       "      <th>1</th>\n",
       "      <td>1_20220825 01</td>\n",
       "      <td>2083.573072</td>\n",
       "    </tr>\n",
       "    <tr>\n",
       "      <th>2</th>\n",
       "      <td>1_20220825 02</td>\n",
       "      <td>1963.799108</td>\n",
       "    </tr>\n",
       "    <tr>\n",
       "      <th>3</th>\n",
       "      <td>1_20220825 03</td>\n",
       "      <td>1946.555185</td>\n",
       "    </tr>\n",
       "    <tr>\n",
       "      <th>4</th>\n",
       "      <td>1_20220825 04</td>\n",
       "      <td>1963.741000</td>\n",
       "    </tr>\n",
       "  </tbody>\n",
       "</table>\n",
       "</div>"
      ],
      "text/plain": [
       "   num_date_time       answer\n",
       "0  1_20220825 00  2101.314171\n",
       "1  1_20220825 01  2083.573072\n",
       "2  1_20220825 02  1963.799108\n",
       "3  1_20220825 03  1946.555185\n",
       "4  1_20220825 04  1963.741000"
      ]
     },
     "execution_count": 97,
     "metadata": {},
     "output_type": "execute_result"
    }
   ],
   "source": [
    "submission.head()"
   ]
  },
  {
   "cell_type": "markdown",
   "id": "60a5ccad",
   "metadata": {},
   "source": [
    "## 결론\n",
    "- 건물별 100개의 모델을 따로 생성하고, weekday를 추가한 모델이 가장 좋은 성능을 보였습니다.\n",
    "- validation score는 5.976, 실제 submission score는 6.76. \n",
    "- 두 값의 차이가 나는 이유는 best valiation score를 찾는 과정에서 약간의 overfitting이 발생하기도 했고, submssion에 사용하는 test 데이터의 설명변수(X)값들은 실제 값이 아닌 예측치라는 점도 영향을 미친것 같습니다."
   ]
  },
  {
   "cell_type": "markdown",
   "id": "b89ed0f3",
   "metadata": {},
   "source": [
    "## TODO\n",
    "- 추가적인 feature를 고려해보았는데, 마땅히 떠오르는 아이디어가 없어서 모델의 hyper parameter 튜닝을 중점적으로 진행할 것 같습니다.\n",
    "- 그리고 valid_y와 preds를 비교해 성능이 잘 안나오는 모델의 건물번호, 시간대 등을 분석해 모델을 보완해나가는게 필요할 것 같습니다."
   ]
  },
  {
   "cell_type": "markdown",
   "id": "891ec694",
   "metadata": {},
   "source": [
    "## Epilog\n",
    "- 3-A 모델에서 예측을 잘 못한 모델을 한번 뽑아봤습니다."
   ]
  },
  {
   "cell_type": "code",
   "execution_count": 98,
   "id": "7dadc9cd",
   "metadata": {},
   "outputs": [
    {
     "name": "stderr",
     "output_type": "stream",
     "text": [
      "100%|██████████| 100/100 [00:02<00:00, 38.43it/s]\n"
     ]
    }
   ],
   "source": [
    "# train, valid데이터 재생성\n",
    "train_df, valid_df = train_test_split(train_origin, 20220820)\n",
    "train_x = preprocess_x(train_df)\n",
    "train_y = train_df['전력소비량(kWh)']\n",
    "valid_x = preprocess_x(valid_df)\n",
    "valid_y = valid_df['전력소비량(kWh)']\n",
    "models_f2 = train_multiple_models(train_x, train_y, 50)\n",
    "preds = []\n",
    "for i in range(1, 101):\n",
    "    _x = valid_x[valid_x['건물번호'] == i]\n",
    "    _x = _x.drop(columns=['건물번호', '건물유형', '연면적(m2)', '냉방면적(m2)'])\n",
    "    pred = models[i].predict(_x).tolist()\n",
    "    preds.extend(pred)\n",
    "preds = np.array(preds)"
   ]
  },
  {
   "cell_type": "code",
   "execution_count": 99,
   "id": "32234b69",
   "metadata": {},
   "outputs": [],
   "source": [
    "eda = valid_x.copy()\n",
    "eda['pred'], eda['y'] = preds, valid_y\n",
    "eda['gap'] = (eda['y'] - eda['pred']) / ((eda['y'] + eda['pred'])/2)  # SMAPE가 target이기 때문에 scale 고려"
   ]
  },
  {
   "cell_type": "code",
   "execution_count": 100,
   "id": "46856134",
   "metadata": {},
   "outputs": [
    {
     "data": {
      "text/html": [
       "<div>\n",
       "<style scoped>\n",
       "    .dataframe tbody tr th:only-of-type {\n",
       "        vertical-align: middle;\n",
       "    }\n",
       "\n",
       "    .dataframe tbody tr th {\n",
       "        vertical-align: top;\n",
       "    }\n",
       "\n",
       "    .dataframe thead th {\n",
       "        text-align: right;\n",
       "    }\n",
       "</style>\n",
       "<table border=\"1\" class=\"dataframe\">\n",
       "  <thead>\n",
       "    <tr style=\"text-align: right;\">\n",
       "      <th></th>\n",
       "      <th>건물번호</th>\n",
       "      <th>기온(C)</th>\n",
       "      <th>강수량(mm)</th>\n",
       "      <th>풍속(m/s)</th>\n",
       "      <th>습도(%)</th>\n",
       "      <th>Weekday</th>\n",
       "      <th>month</th>\n",
       "      <th>day</th>\n",
       "      <th>time</th>\n",
       "      <th>건물유형</th>\n",
       "      <th>연면적(m2)</th>\n",
       "      <th>냉방면적(m2)</th>\n",
       "      <th>pred</th>\n",
       "      <th>y</th>\n",
       "      <th>gap</th>\n",
       "    </tr>\n",
       "  </thead>\n",
       "  <tbody>\n",
       "    <tr>\n",
       "      <th>4987</th>\n",
       "      <td>42</td>\n",
       "      <td>26.1</td>\n",
       "      <td>0.0</td>\n",
       "      <td>1.6</td>\n",
       "      <td>72.0</td>\n",
       "      <td>0</td>\n",
       "      <td>8</td>\n",
       "      <td>22</td>\n",
       "      <td>19</td>\n",
       "      <td>4</td>\n",
       "      <td>97915.10</td>\n",
       "      <td>72000.00</td>\n",
       "      <td>1035.008805</td>\n",
       "      <td>541.08</td>\n",
       "      <td>-0.626778</td>\n",
       "    </tr>\n",
       "    <tr>\n",
       "      <th>4986</th>\n",
       "      <td>42</td>\n",
       "      <td>27.6</td>\n",
       "      <td>0.0</td>\n",
       "      <td>1.7</td>\n",
       "      <td>67.0</td>\n",
       "      <td>0</td>\n",
       "      <td>8</td>\n",
       "      <td>22</td>\n",
       "      <td>18</td>\n",
       "      <td>4</td>\n",
       "      <td>97915.10</td>\n",
       "      <td>72000.00</td>\n",
       "      <td>905.692356</td>\n",
       "      <td>550.08</td>\n",
       "      <td>-0.488555</td>\n",
       "    </tr>\n",
       "    <tr>\n",
       "      <th>6459</th>\n",
       "      <td>54</td>\n",
       "      <td>23.4</td>\n",
       "      <td>0.0</td>\n",
       "      <td>3.0</td>\n",
       "      <td>91.0</td>\n",
       "      <td>2</td>\n",
       "      <td>8</td>\n",
       "      <td>24</td>\n",
       "      <td>3</td>\n",
       "      <td>6</td>\n",
       "      <td>109400.20</td>\n",
       "      <td>65803.57</td>\n",
       "      <td>650.514168</td>\n",
       "      <td>439.92</td>\n",
       "      <td>-0.386257</td>\n",
       "    </tr>\n",
       "    <tr>\n",
       "      <th>1591</th>\n",
       "      <td>14</td>\n",
       "      <td>25.0</td>\n",
       "      <td>0.0</td>\n",
       "      <td>0.3</td>\n",
       "      <td>90.0</td>\n",
       "      <td>6</td>\n",
       "      <td>8</td>\n",
       "      <td>21</td>\n",
       "      <td>7</td>\n",
       "      <td>0</td>\n",
       "      <td>16844.16</td>\n",
       "      <td>14102.92</td>\n",
       "      <td>1329.121753</td>\n",
       "      <td>928.32</td>\n",
       "      <td>-0.355094</td>\n",
       "    </tr>\n",
       "    <tr>\n",
       "      <th>6458</th>\n",
       "      <td>54</td>\n",
       "      <td>23.6</td>\n",
       "      <td>0.0</td>\n",
       "      <td>2.2</td>\n",
       "      <td>93.0</td>\n",
       "      <td>2</td>\n",
       "      <td>8</td>\n",
       "      <td>24</td>\n",
       "      <td>2</td>\n",
       "      <td>6</td>\n",
       "      <td>109400.20</td>\n",
       "      <td>65803.57</td>\n",
       "      <td>633.834055</td>\n",
       "      <td>451.08</td>\n",
       "      <td>-0.336901</td>\n",
       "    </tr>\n",
       "    <tr>\n",
       "      <th>...</th>\n",
       "      <td>...</td>\n",
       "      <td>...</td>\n",
       "      <td>...</td>\n",
       "      <td>...</td>\n",
       "      <td>...</td>\n",
       "      <td>...</td>\n",
       "      <td>...</td>\n",
       "      <td>...</td>\n",
       "      <td>...</td>\n",
       "      <td>...</td>\n",
       "      <td>...</td>\n",
       "      <td>...</td>\n",
       "      <td>...</td>\n",
       "      <td>...</td>\n",
       "      <td>...</td>\n",
       "    </tr>\n",
       "    <tr>\n",
       "      <th>8805</th>\n",
       "      <td>74</td>\n",
       "      <td>28.1</td>\n",
       "      <td>0.0</td>\n",
       "      <td>2.0</td>\n",
       "      <td>75.0</td>\n",
       "      <td>6</td>\n",
       "      <td>8</td>\n",
       "      <td>21</td>\n",
       "      <td>21</td>\n",
       "      <td>8</td>\n",
       "      <td>253743.00</td>\n",
       "      <td>142705.00</td>\n",
       "      <td>3642.572193</td>\n",
       "      <td>4785.12</td>\n",
       "      <td>0.271141</td>\n",
       "    </tr>\n",
       "    <tr>\n",
       "      <th>8812</th>\n",
       "      <td>74</td>\n",
       "      <td>25.7</td>\n",
       "      <td>0.0</td>\n",
       "      <td>1.5</td>\n",
       "      <td>83.0</td>\n",
       "      <td>0</td>\n",
       "      <td>8</td>\n",
       "      <td>22</td>\n",
       "      <td>4</td>\n",
       "      <td>8</td>\n",
       "      <td>253743.00</td>\n",
       "      <td>142705.00</td>\n",
       "      <td>3852.163705</td>\n",
       "      <td>5207.04</td>\n",
       "      <td>0.299116</td>\n",
       "    </tr>\n",
       "    <tr>\n",
       "      <th>4989</th>\n",
       "      <td>42</td>\n",
       "      <td>24.6</td>\n",
       "      <td>0.0</td>\n",
       "      <td>0.6</td>\n",
       "      <td>73.0</td>\n",
       "      <td>0</td>\n",
       "      <td>8</td>\n",
       "      <td>22</td>\n",
       "      <td>21</td>\n",
       "      <td>4</td>\n",
       "      <td>97915.10</td>\n",
       "      <td>72000.00</td>\n",
       "      <td>309.401572</td>\n",
       "      <td>437.76</td>\n",
       "      <td>0.343589</td>\n",
       "    </tr>\n",
       "    <tr>\n",
       "      <th>4990</th>\n",
       "      <td>42</td>\n",
       "      <td>24.5</td>\n",
       "      <td>0.0</td>\n",
       "      <td>0.9</td>\n",
       "      <td>73.0</td>\n",
       "      <td>0</td>\n",
       "      <td>8</td>\n",
       "      <td>22</td>\n",
       "      <td>22</td>\n",
       "      <td>4</td>\n",
       "      <td>97915.10</td>\n",
       "      <td>72000.00</td>\n",
       "      <td>266.916125</td>\n",
       "      <td>399.96</td>\n",
       "      <td>0.399006</td>\n",
       "    </tr>\n",
       "    <tr>\n",
       "      <th>4991</th>\n",
       "      <td>42</td>\n",
       "      <td>24.0</td>\n",
       "      <td>0.0</td>\n",
       "      <td>0.6</td>\n",
       "      <td>69.0</td>\n",
       "      <td>0</td>\n",
       "      <td>8</td>\n",
       "      <td>22</td>\n",
       "      <td>23</td>\n",
       "      <td>4</td>\n",
       "      <td>97915.10</td>\n",
       "      <td>72000.00</td>\n",
       "      <td>264.785346</td>\n",
       "      <td>398.88</td>\n",
       "      <td>0.404103</td>\n",
       "    </tr>\n",
       "  </tbody>\n",
       "</table>\n",
       "<p>12000 rows × 15 columns</p>\n",
       "</div>"
      ],
      "text/plain": [
       "      건물번호  기온(C)  강수량(mm)  풍속(m/s)  습도(%)  Weekday  month  day  time  건물유형  \\\n",
       "4987    42   26.1      0.0      1.6   72.0        0      8   22    19     4   \n",
       "4986    42   27.6      0.0      1.7   67.0        0      8   22    18     4   \n",
       "6459    54   23.4      0.0      3.0   91.0        2      8   24     3     6   \n",
       "1591    14   25.0      0.0      0.3   90.0        6      8   21     7     0   \n",
       "6458    54   23.6      0.0      2.2   93.0        2      8   24     2     6   \n",
       "...    ...    ...      ...      ...    ...      ...    ...  ...   ...   ...   \n",
       "8805    74   28.1      0.0      2.0   75.0        6      8   21    21     8   \n",
       "8812    74   25.7      0.0      1.5   83.0        0      8   22     4     8   \n",
       "4989    42   24.6      0.0      0.6   73.0        0      8   22    21     4   \n",
       "4990    42   24.5      0.0      0.9   73.0        0      8   22    22     4   \n",
       "4991    42   24.0      0.0      0.6   69.0        0      8   22    23     4   \n",
       "\n",
       "        연면적(m2)   냉방면적(m2)         pred        y       gap  \n",
       "4987   97915.10   72000.00  1035.008805   541.08 -0.626778  \n",
       "4986   97915.10   72000.00   905.692356   550.08 -0.488555  \n",
       "6459  109400.20   65803.57   650.514168   439.92 -0.386257  \n",
       "1591   16844.16   14102.92  1329.121753   928.32 -0.355094  \n",
       "6458  109400.20   65803.57   633.834055   451.08 -0.336901  \n",
       "...         ...        ...          ...      ...       ...  \n",
       "8805  253743.00  142705.00  3642.572193  4785.12  0.271141  \n",
       "8812  253743.00  142705.00  3852.163705  5207.04  0.299116  \n",
       "4989   97915.10   72000.00   309.401572   437.76  0.343589  \n",
       "4990   97915.10   72000.00   266.916125   399.96  0.399006  \n",
       "4991   97915.10   72000.00   264.785346   398.88  0.404103  \n",
       "\n",
       "[12000 rows x 15 columns]"
      ]
     },
     "execution_count": 100,
     "metadata": {},
     "output_type": "execute_result"
    }
   ],
   "source": [
    "eda.sort_values('gap')"
   ]
  },
  {
   "cell_type": "code",
   "execution_count": 101,
   "id": "cf53962b",
   "metadata": {},
   "outputs": [],
   "source": [
    "bads = eda.groupby('건물번호').agg(lambda x:np.mean(abs(x))).sort_values('gap').tail(5)\n",
    "goods = eda.groupby('건물번호').agg(lambda x:np.mean(abs(x))).sort_values('gap').head(5)"
   ]
  },
  {
   "cell_type": "code",
   "execution_count": 102,
   "id": "e5cae0d4",
   "metadata": {},
   "outputs": [
    {
     "data": {
      "text/html": [
       "<div>\n",
       "<style scoped>\n",
       "    .dataframe tbody tr th:only-of-type {\n",
       "        vertical-align: middle;\n",
       "    }\n",
       "\n",
       "    .dataframe tbody tr th {\n",
       "        vertical-align: top;\n",
       "    }\n",
       "\n",
       "    .dataframe thead th {\n",
       "        text-align: right;\n",
       "    }\n",
       "</style>\n",
       "<table border=\"1\" class=\"dataframe\">\n",
       "  <thead>\n",
       "    <tr style=\"text-align: right;\">\n",
       "      <th></th>\n",
       "      <th>기온(C)</th>\n",
       "      <th>강수량(mm)</th>\n",
       "      <th>풍속(m/s)</th>\n",
       "      <th>습도(%)</th>\n",
       "      <th>Weekday</th>\n",
       "      <th>month</th>\n",
       "      <th>day</th>\n",
       "      <th>time</th>\n",
       "      <th>건물유형</th>\n",
       "      <th>연면적(m2)</th>\n",
       "      <th>냉방면적(m2)</th>\n",
       "      <th>pred</th>\n",
       "      <th>y</th>\n",
       "      <th>gap</th>\n",
       "    </tr>\n",
       "    <tr>\n",
       "      <th>건물번호</th>\n",
       "      <th></th>\n",
       "      <th></th>\n",
       "      <th></th>\n",
       "      <th></th>\n",
       "      <th></th>\n",
       "      <th></th>\n",
       "      <th></th>\n",
       "      <th></th>\n",
       "      <th></th>\n",
       "      <th></th>\n",
       "      <th></th>\n",
       "      <th></th>\n",
       "      <th></th>\n",
       "      <th></th>\n",
       "    </tr>\n",
       "  </thead>\n",
       "  <tbody>\n",
       "    <tr>\n",
       "      <th>40</th>\n",
       "      <td>26.818333</td>\n",
       "      <td>0.494167</td>\n",
       "      <td>0.964167</td>\n",
       "      <td>91.808333</td>\n",
       "      <td>2.8</td>\n",
       "      <td>8.0</td>\n",
       "      <td>22.0</td>\n",
       "      <td>11.5</td>\n",
       "      <td>4.0</td>\n",
       "      <td>58483.00</td>\n",
       "      <td>40775.00</td>\n",
       "      <td>2026.925071</td>\n",
       "      <td>2024.4925</td>\n",
       "      <td>0.048773</td>\n",
       "    </tr>\n",
       "    <tr>\n",
       "      <th>54</th>\n",
       "      <td>25.380000</td>\n",
       "      <td>0.458333</td>\n",
       "      <td>2.947500</td>\n",
       "      <td>77.383333</td>\n",
       "      <td>2.8</td>\n",
       "      <td>8.0</td>\n",
       "      <td>22.0</td>\n",
       "      <td>11.5</td>\n",
       "      <td>6.0</td>\n",
       "      <td>109400.20</td>\n",
       "      <td>65803.57</td>\n",
       "      <td>1908.263815</td>\n",
       "      <td>1909.7040</td>\n",
       "      <td>0.051798</td>\n",
       "    </tr>\n",
       "    <tr>\n",
       "      <th>42</th>\n",
       "      <td>25.225833</td>\n",
       "      <td>0.735000</td>\n",
       "      <td>1.030000</td>\n",
       "      <td>79.366667</td>\n",
       "      <td>2.8</td>\n",
       "      <td>8.0</td>\n",
       "      <td>22.0</td>\n",
       "      <td>11.5</td>\n",
       "      <td>4.0</td>\n",
       "      <td>97915.10</td>\n",
       "      <td>72000.00</td>\n",
       "      <td>1451.465178</td>\n",
       "      <td>1445.1360</td>\n",
       "      <td>0.057179</td>\n",
       "    </tr>\n",
       "    <tr>\n",
       "      <th>14</th>\n",
       "      <td>25.757500</td>\n",
       "      <td>0.023333</td>\n",
       "      <td>2.500000</td>\n",
       "      <td>75.675000</td>\n",
       "      <td>2.8</td>\n",
       "      <td>8.0</td>\n",
       "      <td>22.0</td>\n",
       "      <td>11.5</td>\n",
       "      <td>0.0</td>\n",
       "      <td>16844.16</td>\n",
       "      <td>14102.92</td>\n",
       "      <td>1773.605859</td>\n",
       "      <td>1765.2360</td>\n",
       "      <td>0.072111</td>\n",
       "    </tr>\n",
       "    <tr>\n",
       "      <th>95</th>\n",
       "      <td>24.460833</td>\n",
       "      <td>0.317500</td>\n",
       "      <td>0.871667</td>\n",
       "      <td>85.941667</td>\n",
       "      <td>2.8</td>\n",
       "      <td>8.0</td>\n",
       "      <td>22.0</td>\n",
       "      <td>11.5</td>\n",
       "      <td>11.0</td>\n",
       "      <td>196992.54</td>\n",
       "      <td>57022.55</td>\n",
       "      <td>1108.409362</td>\n",
       "      <td>1101.7530</td>\n",
       "      <td>0.091829</td>\n",
       "    </tr>\n",
       "  </tbody>\n",
       "</table>\n",
       "</div>"
      ],
      "text/plain": [
       "          기온(C)   강수량(mm)   풍속(m/s)      습도(%)  Weekday  month   day  time  \\\n",
       "건물번호                                                                         \n",
       "40    26.818333  0.494167  0.964167  91.808333      2.8    8.0  22.0  11.5   \n",
       "54    25.380000  0.458333  2.947500  77.383333      2.8    8.0  22.0  11.5   \n",
       "42    25.225833  0.735000  1.030000  79.366667      2.8    8.0  22.0  11.5   \n",
       "14    25.757500  0.023333  2.500000  75.675000      2.8    8.0  22.0  11.5   \n",
       "95    24.460833  0.317500  0.871667  85.941667      2.8    8.0  22.0  11.5   \n",
       "\n",
       "      건물유형    연면적(m2)  냉방면적(m2)         pred          y       gap  \n",
       "건물번호                                                               \n",
       "40     4.0   58483.00  40775.00  2026.925071  2024.4925  0.048773  \n",
       "54     6.0  109400.20  65803.57  1908.263815  1909.7040  0.051798  \n",
       "42     4.0   97915.10  72000.00  1451.465178  1445.1360  0.057179  \n",
       "14     0.0   16844.16  14102.92  1773.605859  1765.2360  0.072111  \n",
       "95    11.0  196992.54  57022.55  1108.409362  1101.7530  0.091829  "
      ]
     },
     "execution_count": 102,
     "metadata": {},
     "output_type": "execute_result"
    }
   ],
   "source": [
    "bads"
   ]
  },
  {
   "cell_type": "code",
   "execution_count": 103,
   "id": "82284160",
   "metadata": {},
   "outputs": [
    {
     "data": {
      "text/html": [
       "<div>\n",
       "<style scoped>\n",
       "    .dataframe tbody tr th:only-of-type {\n",
       "        vertical-align: middle;\n",
       "    }\n",
       "\n",
       "    .dataframe tbody tr th {\n",
       "        vertical-align: top;\n",
       "    }\n",
       "\n",
       "    .dataframe thead th {\n",
       "        text-align: right;\n",
       "    }\n",
       "</style>\n",
       "<table border=\"1\" class=\"dataframe\">\n",
       "  <thead>\n",
       "    <tr style=\"text-align: right;\">\n",
       "      <th></th>\n",
       "      <th>기온(C)</th>\n",
       "      <th>강수량(mm)</th>\n",
       "      <th>풍속(m/s)</th>\n",
       "      <th>습도(%)</th>\n",
       "      <th>Weekday</th>\n",
       "      <th>month</th>\n",
       "      <th>day</th>\n",
       "      <th>time</th>\n",
       "      <th>건물유형</th>\n",
       "      <th>연면적(m2)</th>\n",
       "      <th>냉방면적(m2)</th>\n",
       "      <th>pred</th>\n",
       "      <th>y</th>\n",
       "      <th>gap</th>\n",
       "    </tr>\n",
       "    <tr>\n",
       "      <th>건물번호</th>\n",
       "      <th></th>\n",
       "      <th></th>\n",
       "      <th></th>\n",
       "      <th></th>\n",
       "      <th></th>\n",
       "      <th></th>\n",
       "      <th></th>\n",
       "      <th></th>\n",
       "      <th></th>\n",
       "      <th></th>\n",
       "      <th></th>\n",
       "      <th></th>\n",
       "      <th></th>\n",
       "      <th></th>\n",
       "    </tr>\n",
       "  </thead>\n",
       "  <tbody>\n",
       "    <tr>\n",
       "      <th>33</th>\n",
       "      <td>26.700833</td>\n",
       "      <td>0.046667</td>\n",
       "      <td>2.173333</td>\n",
       "      <td>74.983333</td>\n",
       "      <td>2.8</td>\n",
       "      <td>8.0</td>\n",
       "      <td>22.0</td>\n",
       "      <td>11.5</td>\n",
       "      <td>3.0</td>\n",
       "      <td>28059.00</td>\n",
       "      <td>20397.00</td>\n",
       "      <td>8779.872825</td>\n",
       "      <td>8780.154</td>\n",
       "      <td>0.001261</td>\n",
       "    </tr>\n",
       "    <tr>\n",
       "      <th>32</th>\n",
       "      <td>26.700833</td>\n",
       "      <td>0.046667</td>\n",
       "      <td>2.173333</td>\n",
       "      <td>74.983333</td>\n",
       "      <td>2.8</td>\n",
       "      <td>8.0</td>\n",
       "      <td>22.0</td>\n",
       "      <td>11.5</td>\n",
       "      <td>3.0</td>\n",
       "      <td>35300.00</td>\n",
       "      <td>14687.00</td>\n",
       "      <td>9894.715410</td>\n",
       "      <td>9895.170</td>\n",
       "      <td>0.001552</td>\n",
       "    </tr>\n",
       "    <tr>\n",
       "      <th>35</th>\n",
       "      <td>26.700833</td>\n",
       "      <td>0.046667</td>\n",
       "      <td>2.173333</td>\n",
       "      <td>74.983333</td>\n",
       "      <td>2.8</td>\n",
       "      <td>8.0</td>\n",
       "      <td>22.0</td>\n",
       "      <td>11.5</td>\n",
       "      <td>3.0</td>\n",
       "      <td>9736.00</td>\n",
       "      <td>6070.00</td>\n",
       "      <td>2184.464302</td>\n",
       "      <td>2184.585</td>\n",
       "      <td>0.001730</td>\n",
       "    </tr>\n",
       "    <tr>\n",
       "      <th>36</th>\n",
       "      <td>26.195833</td>\n",
       "      <td>0.080833</td>\n",
       "      <td>1.727500</td>\n",
       "      <td>80.966667</td>\n",
       "      <td>2.8</td>\n",
       "      <td>8.0</td>\n",
       "      <td>22.0</td>\n",
       "      <td>11.5</td>\n",
       "      <td>3.0</td>\n",
       "      <td>8816.49</td>\n",
       "      <td>8816.49</td>\n",
       "      <td>2897.108527</td>\n",
       "      <td>2898.290</td>\n",
       "      <td>0.001996</td>\n",
       "    </tr>\n",
       "    <tr>\n",
       "      <th>58</th>\n",
       "      <td>26.195833</td>\n",
       "      <td>0.080833</td>\n",
       "      <td>1.727500</td>\n",
       "      <td>80.966667</td>\n",
       "      <td>2.8</td>\n",
       "      <td>8.0</td>\n",
       "      <td>22.0</td>\n",
       "      <td>11.5</td>\n",
       "      <td>6.0</td>\n",
       "      <td>14897.00</td>\n",
       "      <td>7071.92</td>\n",
       "      <td>2898.319542</td>\n",
       "      <td>2898.372</td>\n",
       "      <td>0.002272</td>\n",
       "    </tr>\n",
       "  </tbody>\n",
       "</table>\n",
       "</div>"
      ],
      "text/plain": [
       "          기온(C)   강수량(mm)   풍속(m/s)      습도(%)  Weekday  month   day  time  \\\n",
       "건물번호                                                                         \n",
       "33    26.700833  0.046667  2.173333  74.983333      2.8    8.0  22.0  11.5   \n",
       "32    26.700833  0.046667  2.173333  74.983333      2.8    8.0  22.0  11.5   \n",
       "35    26.700833  0.046667  2.173333  74.983333      2.8    8.0  22.0  11.5   \n",
       "36    26.195833  0.080833  1.727500  80.966667      2.8    8.0  22.0  11.5   \n",
       "58    26.195833  0.080833  1.727500  80.966667      2.8    8.0  22.0  11.5   \n",
       "\n",
       "      건물유형   연면적(m2)  냉방면적(m2)         pred         y       gap  \n",
       "건물번호                                                             \n",
       "33     3.0  28059.00  20397.00  8779.872825  8780.154  0.001261  \n",
       "32     3.0  35300.00  14687.00  9894.715410  9895.170  0.001552  \n",
       "35     3.0   9736.00   6070.00  2184.464302  2184.585  0.001730  \n",
       "36     3.0   8816.49   8816.49  2897.108527  2898.290  0.001996  \n",
       "58     6.0  14897.00   7071.92  2898.319542  2898.372  0.002272  "
      ]
     },
     "execution_count": 103,
     "metadata": {},
     "output_type": "execute_result"
    }
   ],
   "source": [
    "goods"
   ]
  },
  {
   "cell_type": "markdown",
   "id": "c046a2fc",
   "metadata": {},
   "source": [
    "- 95, 14번 건물 모델이 성능이 잘 안나왔고, 33, 32번 건물 모델 성능이 잘나왔네요.\n",
    "- 95, 14번처럼 매 시각마다 전력사용량이 크게 바뀌는 건물의 경우 좀더 복잡한 모델을 사용하는게 점수가 잘나올 듯 합니다."
   ]
  },
  {
   "cell_type": "code",
   "execution_count": 104,
   "id": "6d359378",
   "metadata": {},
   "outputs": [
    {
     "data": {
      "text/plain": [
       "<Axes: >"
      ]
     },
     "execution_count": 104,
     "metadata": {},
     "output_type": "execute_result"
    },
    {
     "data": {
      "image/png": "[encoded data removed]",
      "text/plain": [
       "<Figure size 432x288 with 1 Axes>"
      ]
     },
     "metadata": {
      "needs_background": "light"
     },
     "output_type": "display_data"
    }
   ],
   "source": [
    "eda[eda['건물번호']==95][['y', 'pred']].plot()"
   ]
  },
  {
   "cell_type": "code",
   "execution_count": 105,
   "id": "023ee702",
   "metadata": {},
   "outputs": [
    {
     "data": {
      "text/plain": [
       "<Axes: >"
      ]
     },
     "execution_count": 105,
     "metadata": {},
     "output_type": "execute_result"
    },
    {
     "data": {
      "image/png": "[encoded data removed]",
      "text/plain": [
       "<Figure size 432x288 with 1 Axes>"
      ]
     },
     "metadata": {
      "needs_background": "light"
     },
     "output_type": "display_data"
    }
   ],
   "source": [
    "eda[eda['건물번호']==14][['y', 'pred']].plot()"
   ]
  },
  {
   "cell_type": "code",
   "execution_count": 106,
   "id": "e4a05646",
   "metadata": {},
   "outputs": [
    {
     "data": {
      "text/plain": [
       "<Axes: >"
      ]
     },
     "execution_count": 106,
     "metadata": {},
     "output_type": "execute_result"
    },
    {
     "data": {
      "image/png": "[encoded data removed]",
      "text/plain": [
       "<Figure size 432x288 with 1 Axes>"
      ]
     },
     "metadata": {
      "needs_background": "light"
     },
     "output_type": "display_data"
    }
   ],
   "source": [
    "eda[eda['건물번호']==33][['y', 'pred']].plot()"
   ]
  },
  {
   "cell_type": "code",
   "execution_count": 107,
   "id": "da4ae141",
   "metadata": {},
   "outputs": [
    {
     "data": {
      "text/plain": [
       "<Axes: >"
      ]
     },
     "execution_count": 107,
     "metadata": {},
     "output_type": "execute_result"
    },
    {
     "data": {
      "image/png": "[encoded data removed]",
      "text/plain": [
       "<Figure size 432x288 with 1 Axes>"
      ]
     },
     "metadata": {
      "needs_background": "light"
     },
     "output_type": "display_data"
    }
   ],
   "source": [
    "eda[eda['건물번호']==32][['y', 'pred']].plot()"
   ]
  }
 ],
 "metadata": {
  "accelerator": "GPU",
  "colab": {
   "provenance": []
  },
  "gpuClass": "standard",
  "kernelspec": {
   "display_name": "ds",
   "language": "python",
   "name": ".venv_ds"
  },
  "language_info": {
   "codemirror_mode": {
    "name": "ipython",
    "version": 3
   },
   "file_extension": ".py",
   "mimetype": "text/x-python",
   "name": "python",
   "nbconvert_exporter": "python",
   "pygments_lexer": "ipython3",
   "version": "3.9.13"
  },
  "toc": {
   "base_numbering": 1,
   "nav_menu": {},
   "number_sections": true,
   "sideBar": true,
   "skip_h1_title": false,
   "title_cell": "Table of Contents",
   "title_sidebar": "Contents",
   "toc_cell": false,
   "toc_position": {},
   "toc_section_display": true,
   "toc_window_display": false
  },
  "widgets": {
   "application/vnd.jupyter.widget-state+json": {
    "09436c3ae2a44a8ca51ee1103b963ada": {
     "model_module": "@jupyter-widgets/base",
     "model_module_version": "1.2.0",
     "model_name": "LayoutModel",
     "state": {
      "_model_module": "@jupyter-widgets/base",
      "_model_module_version": "1.2.0",
      "_model_name": "LayoutModel",
      "_view_count": null,
      "_view_module": "@jupyter-widgets/base",
      "_view_module_version": "1.2.0",
      "_view_name": "LayoutView",
      "align_content": null,
      "align_items": null,
      "align_self": null,
      "border": null,
      "bottom": null,
      "display": null,
      "flex": null,
      "flex_flow": null,
      "grid_area": null,
      "grid_auto_columns": null,
      "grid_auto_flow": null,
      "grid_auto_rows": null,
      "grid_column": null,
      "grid_gap": null,
      "grid_row": null,
      "grid_template_areas": null,
      "grid_template_columns": null,
      "grid_template_rows": null,
      "height": null,
      "justify_content": null,
      "justify_items": null,
      "left": null,
      "margin": null,
      "max_height": null,
      "max_width": null,
      "min_height": null,
      "min_width": null,
      "object_fit": null,
      "object_position": null,
      "order": null,
      "overflow": null,
      "overflow_x": null,
      "overflow_y": null,
      "padding": null,
      "right": null,
      "top": null,
      "visibility": null,
      "width": null
     }
    },
    "29d20f64d430441ea9364b13dfef101b": {
     "model_module": "@jupyter-widgets/base",
     "model_module_version": "1.2.0",
     "model_name": "LayoutModel",
     "state": {
      "_model_module": "@jupyter-widgets/base",
      "_model_module_version": "1.2.0",
      "_model_name": "LayoutModel",
      "_view_count": null,
      "_view_module": "@jupyter-widgets/base",
      "_view_module_version": "1.2.0",
      "_view_name": "LayoutView",
      "align_content": null,
      "align_items": null,
      "align_self": null,
      "border": null,
      "bottom": null,
      "display": null,
      "flex": null,
      "flex_flow": null,
      "grid_area": null,
      "grid_auto_columns": null,
      "grid_auto_flow": null,
      "grid_auto_rows": null,
      "grid_column": null,
      "grid_gap": null,
      "grid_row": null,
      "grid_template_areas": null,
      "grid_template_columns": null,
      "grid_template_rows": null,
      "height": null,
      "justify_content": null,
      "justify_items": null,
      "left": null,
      "margin": null,
      "max_height": null,
      "max_width": null,
      "min_height": null,
      "min_width": null,
      "object_fit": null,
      "object_position": null,
      "order": null,
      "overflow": null,
      "overflow_x": null,
      "overflow_y": null,
      "padding": null,
      "right": null,
      "top": null,
      "visibility": null,
      "width": null
     }
    },
    "4a9ef407319c43bcb20106c47f0db180": {
     "model_module": "@jupyter-widgets/controls",
     "model_module_version": "1.5.0",
     "model_name": "HTMLModel",
     "state": {
      "_dom_classes": [],
      "_model_module": "@jupyter-widgets/controls",
      "_model_module_version": "1.5.0",
      "_model_name": "HTMLModel",
      "_view_count": null,
      "_view_module": "@jupyter-widgets/controls",
      "_view_module_version": "1.5.0",
      "_view_name": "HTMLView",
      "description": "",
      "description_tooltip": null,
      "layout": "IPY_MODEL_09436c3ae2a44a8ca51ee1103b963ada",
      "placeholder": "​",
      "style": "IPY_MODEL_f6d802990a2344db99bf282c663efa5a",
      "value": "100%"
     }
    },
    "4c356887768a4330ab0b0eec28984484": {
     "model_module": "@jupyter-widgets/controls",
     "model_module_version": "1.5.0",
     "model_name": "DescriptionStyleModel",
     "state": {
      "_model_module": "@jupyter-widgets/controls",
      "_model_module_version": "1.5.0",
      "_model_name": "DescriptionStyleModel",
      "_view_count": null,
      "_view_module": "@jupyter-widgets/base",
      "_view_module_version": "1.2.0",
      "_view_name": "StyleView",
      "description_width": ""
     }
    },
    "520b45d5f972463da632a32f96c71ee4": {
     "model_module": "@jupyter-widgets/controls",
     "model_module_version": "1.5.0",
     "model_name": "HTMLModel",
     "state": {
      "_dom_classes": [],
      "_model_module": "@jupyter-widgets/controls",
      "_model_module_version": "1.5.0",
      "_model_name": "HTMLModel",
      "_view_count": null,
      "_view_module": "@jupyter-widgets/controls",
      "_view_module_version": "1.5.0",
      "_view_name": "HTMLView",
      "description": "",
      "description_tooltip": null,
      "layout": "IPY_MODEL_29d20f64d430441ea9364b13dfef101b",
      "placeholder": "​",
      "style": "IPY_MODEL_e7d3b9b9d1224868988e665b4c677357",
      "value": " 1881/1881 [00:24&lt;00:00, 97.61it/s]"
     }
    },
    "53ccb4062ee94e0c84618143ff39ce05": {
     "model_module": "@jupyter-widgets/base",
     "model_module_version": "1.2.0",
     "model_name": "LayoutModel",
     "state": {
      "_model_module": "@jupyter-widgets/base",
      "_model_module_version": "1.2.0",
      "_model_name": "LayoutModel",
      "_view_count": null,
      "_view_module": "@jupyter-widgets/base",
      "_view_module_version": "1.2.0",
      "_view_name": "LayoutView",
      "align_content": null,
      "align_items": null,
      "align_self": null,
      "border": null,
      "bottom": null,
      "display": null,
      "flex": null,
      "flex_flow": null,
      "grid_area": null,
      "grid_auto_columns": null,
      "grid_auto_flow": null,
      "grid_auto_rows": null,
      "grid_column": null,
      "grid_gap": null,
      "grid_row": null,
      "grid_template_areas": null,
      "grid_template_columns": null,
      "grid_template_rows": null,
      "height": null,
      "justify_content": null,
      "justify_items": null,
      "left": null,
      "margin": null,
      "max_height": null,
      "max_width": null,
      "min_height": null,
      "min_width": null,
      "object_fit": null,
      "object_position": null,
      "order": null,
      "overflow": null,
      "overflow_x": null,
      "overflow_y": null,
      "padding": null,
      "right": null,
      "top": null,
      "visibility": null,
      "width": null
     }
    },
    "55e857853048445b87cea2de151ba035": {
     "model_module": "@jupyter-widgets/base",
     "model_module_version": "1.2.0",
     "model_name": "LayoutModel",
     "state": {
      "_model_module": "@jupyter-widgets/base",
      "_model_module_version": "1.2.0",
      "_model_name": "LayoutModel",
      "_view_count": null,
      "_view_module": "@jupyter-widgets/base",
      "_view_module_version": "1.2.0",
      "_view_name": "LayoutView",
      "align_content": null,
      "align_items": null,
      "align_self": null,
      "border": null,
      "bottom": null,
      "display": null,
      "flex": null,
      "flex_flow": null,
      "grid_area": null,
      "grid_auto_columns": null,
      "grid_auto_flow": null,
      "grid_auto_rows": null,
      "grid_column": null,
      "grid_gap": null,
      "grid_row": null,
      "grid_template_areas": null,
      "grid_template_columns": null,
      "grid_template_rows": null,
      "height": null,
      "justify_content": null,
      "justify_items": null,
      "left": null,
      "margin": null,
      "max_height": null,
      "max_width": null,
      "min_height": null,
      "min_width": null,
      "object_fit": null,
      "object_position": null,
      "order": null,
      "overflow": null,
      "overflow_x": null,
      "overflow_y": null,
      "padding": null,
      "right": null,
      "top": null,
      "visibility": null,
      "width": null
     }
    },
    "790f3379b0364c88ae6bdec739b97248": {
     "model_module": "@jupyter-widgets/base",
     "model_module_version": "1.2.0",
     "model_name": "LayoutModel",
     "state": {
      "_model_module": "@jupyter-widgets/base",
      "_model_module_version": "1.2.0",
      "_model_name": "LayoutModel",
      "_view_count": null,
      "_view_module": "@jupyter-widgets/base",
      "_view_module_version": "1.2.0",
      "_view_name": "LayoutView",
      "align_content": null,
      "align_items": null,
      "align_self": null,
      "border": null,
      "bottom": null,
      "display": null,
      "flex": null,
      "flex_flow": null,
      "grid_area": null,
      "grid_auto_columns": null,
      "grid_auto_flow": null,
      "grid_auto_rows": null,
      "grid_column": null,
      "grid_gap": null,
      "grid_row": null,
      "grid_template_areas": null,
      "grid_template_columns": null,
      "grid_template_rows": null,
      "height": null,
      "justify_content": null,
      "justify_items": null,
      "left": null,
      "margin": null,
      "max_height": null,
      "max_width": null,
      "min_height": null,
      "min_width": null,
      "object_fit": null,
      "object_position": null,
      "order": null,
      "overflow": null,
      "overflow_x": null,
      "overflow_y": null,
      "padding": null,
      "right": null,
      "top": null,
      "visibility": null,
      "width": null
     }
    },
    "7a0c9eaf1d1e4a56a195dff77a7ed5f9": {
     "model_module": "@jupyter-widgets/controls",
     "model_module_version": "1.5.0",
     "model_name": "FloatProgressModel",
     "state": {
      "_dom_classes": [],
      "_model_module": "@jupyter-widgets/controls",
      "_model_module_version": "1.5.0",
      "_model_name": "FloatProgressModel",
      "_view_count": null,
      "_view_module": "@jupyter-widgets/controls",
      "_view_module_version": "1.5.0",
      "_view_name": "ProgressView",
      "bar_style": "success",
      "description": "",
      "description_tooltip": null,
      "layout": "IPY_MODEL_bb35a24296ed455a872731cef7333ffb",
      "max": 5001,
      "min": 0,
      "orientation": "horizontal",
      "style": "IPY_MODEL_dc7da92e2f454f79b07c3ca86c3cc9d4",
      "value": 5001
     }
    },
    "911d4b1f888540eb96b8b6a48134f078": {
     "model_module": "@jupyter-widgets/base",
     "model_module_version": "1.2.0",
     "model_name": "LayoutModel",
     "state": {
      "_model_module": "@jupyter-widgets/base",
      "_model_module_version": "1.2.0",
      "_model_name": "LayoutModel",
      "_view_count": null,
      "_view_module": "@jupyter-widgets/base",
      "_view_module_version": "1.2.0",
      "_view_name": "LayoutView",
      "align_content": null,
      "align_items": null,
      "align_self": null,
      "border": null,
      "bottom": null,
      "display": null,
      "flex": null,
      "flex_flow": null,
      "grid_area": null,
      "grid_auto_columns": null,
      "grid_auto_flow": null,
      "grid_auto_rows": null,
      "grid_column": null,
      "grid_gap": null,
      "grid_row": null,
      "grid_template_areas": null,
      "grid_template_columns": null,
      "grid_template_rows": null,
      "height": null,
      "justify_content": null,
      "justify_items": null,
      "left": null,
      "margin": null,
      "max_height": null,
      "max_width": null,
      "min_height": null,
      "min_width": null,
      "object_fit": null,
      "object_position": null,
      "order": null,
      "overflow": null,
      "overflow_x": null,
      "overflow_y": null,
      "padding": null,
      "right": null,
      "top": null,
      "visibility": null,
      "width": null
     }
    },
    "918b0c55f55f4b799fb41adb002c5f1f": {
     "model_module": "@jupyter-widgets/controls",
     "model_module_version": "1.5.0",
     "model_name": "HBoxModel",
     "state": {
      "_dom_classes": [],
      "_model_module": "@jupyter-widgets/controls",
      "_model_module_version": "1.5.0",
      "_model_name": "HBoxModel",
      "_view_count": null,
      "_view_module": "@jupyter-widgets/controls",
      "_view_module_version": "1.5.0",
      "_view_name": "HBoxView",
      "box_style": "",
      "children": [
       "IPY_MODEL_9a823940919d4e068c01e31276740b0f",
       "IPY_MODEL_9fe2d03a06474596b0547d0410da8064",
       "IPY_MODEL_520b45d5f972463da632a32f96c71ee4"
      ],
      "layout": "IPY_MODEL_911d4b1f888540eb96b8b6a48134f078"
     }
    },
    "9a823940919d4e068c01e31276740b0f": {
     "model_module": "@jupyter-widgets/controls",
     "model_module_version": "1.5.0",
     "model_name": "HTMLModel",
     "state": {
      "_dom_classes": [],
      "_model_module": "@jupyter-widgets/controls",
      "_model_module_version": "1.5.0",
      "_model_name": "HTMLModel",
      "_view_count": null,
      "_view_module": "@jupyter-widgets/controls",
      "_view_module_version": "1.5.0",
      "_view_name": "HTMLView",
      "description": "",
      "description_tooltip": null,
      "layout": "IPY_MODEL_53ccb4062ee94e0c84618143ff39ce05",
      "placeholder": "​",
      "style": "IPY_MODEL_df5b9e6414d449f0961eecec22b16991",
      "value": "100%"
     }
    },
    "9fe2d03a06474596b0547d0410da8064": {
     "model_module": "@jupyter-widgets/controls",
     "model_module_version": "1.5.0",
     "model_name": "FloatProgressModel",
     "state": {
      "_dom_classes": [],
      "_model_module": "@jupyter-widgets/controls",
      "_model_module_version": "1.5.0",
      "_model_name": "FloatProgressModel",
      "_view_count": null,
      "_view_module": "@jupyter-widgets/controls",
      "_view_module_version": "1.5.0",
      "_view_name": "ProgressView",
      "bar_style": "success",
      "description": "",
      "description_tooltip": null,
      "layout": "IPY_MODEL_790f3379b0364c88ae6bdec739b97248",
      "max": 1881,
      "min": 0,
      "orientation": "horizontal",
      "style": "IPY_MODEL_e5a69cc464fe42f6be81a34ed57b1686",
      "value": 1881
     }
    },
    "a194d82dd952480387bf1f599a8e52e5": {
     "model_module": "@jupyter-widgets/base",
     "model_module_version": "1.2.0",
     "model_name": "LayoutModel",
     "state": {
      "_model_module": "@jupyter-widgets/base",
      "_model_module_version": "1.2.0",
      "_model_name": "LayoutModel",
      "_view_count": null,
      "_view_module": "@jupyter-widgets/base",
      "_view_module_version": "1.2.0",
      "_view_name": "LayoutView",
      "align_content": null,
      "align_items": null,
      "align_self": null,
      "border": null,
      "bottom": null,
      "display": null,
      "flex": null,
      "flex_flow": null,
      "grid_area": null,
      "grid_auto_columns": null,
      "grid_auto_flow": null,
      "grid_auto_rows": null,
      "grid_column": null,
      "grid_gap": null,
      "grid_row": null,
      "grid_template_areas": null,
      "grid_template_columns": null,
      "grid_template_rows": null,
      "height": null,
      "justify_content": null,
      "justify_items": null,
      "left": null,
      "margin": null,
      "max_height": null,
      "max_width": null,
      "min_height": null,
      "min_width": null,
      "object_fit": null,
      "object_position": null,
      "order": null,
      "overflow": null,
      "overflow_x": null,
      "overflow_y": null,
      "padding": null,
      "right": null,
      "top": null,
      "visibility": null,
      "width": null
     }
    },
    "bb35a24296ed455a872731cef7333ffb": {
     "model_module": "@jupyter-widgets/base",
     "model_module_version": "1.2.0",
     "model_name": "LayoutModel",
     "state": {
      "_model_module": "@jupyter-widgets/base",
      "_model_module_version": "1.2.0",
      "_model_name": "LayoutModel",
      "_view_count": null,
      "_view_module": "@jupyter-widgets/base",
      "_view_module_version": "1.2.0",
      "_view_name": "LayoutView",
      "align_content": null,
      "align_items": null,
      "align_self": null,
      "border": null,
      "bottom": null,
      "display": null,
      "flex": null,
      "flex_flow": null,
      "grid_area": null,
      "grid_auto_columns": null,
      "grid_auto_flow": null,
      "grid_auto_rows": null,
      "grid_column": null,
      "grid_gap": null,
      "grid_row": null,
      "grid_template_areas": null,
      "grid_template_columns": null,
      "grid_template_rows": null,
      "height": null,
      "justify_content": null,
      "justify_items": null,
      "left": null,
      "margin": null,
      "max_height": null,
      "max_width": null,
      "min_height": null,
      "min_width": null,
      "object_fit": null,
      "object_position": null,
      "order": null,
      "overflow": null,
      "overflow_x": null,
      "overflow_y": null,
      "padding": null,
      "right": null,
      "top": null,
      "visibility": null,
      "width": null
     }
    },
    "d5a7c1d85e63402ebd0c36cb6883ab33": {
     "model_module": "@jupyter-widgets/controls",
     "model_module_version": "1.5.0",
     "model_name": "HTMLModel",
     "state": {
      "_dom_classes": [],
      "_model_module": "@jupyter-widgets/controls",
      "_model_module_version": "1.5.0",
      "_model_name": "HTMLModel",
      "_view_count": null,
      "_view_module": "@jupyter-widgets/controls",
      "_view_module_version": "1.5.0",
      "_view_name": "HTMLView",
      "description": "",
      "description_tooltip": null,
      "layout": "IPY_MODEL_a194d82dd952480387bf1f599a8e52e5",
      "placeholder": "​",
      "style": "IPY_MODEL_4c356887768a4330ab0b0eec28984484",
      "value": " 5001/5001 [01:11&lt;00:00, 106.18it/s]"
     }
    },
    "dc7da92e2f454f79b07c3ca86c3cc9d4": {
     "model_module": "@jupyter-widgets/controls",
     "model_module_version": "1.5.0",
     "model_name": "ProgressStyleModel",
     "state": {
      "_model_module": "@jupyter-widgets/controls",
      "_model_module_version": "1.5.0",
      "_model_name": "ProgressStyleModel",
      "_view_count": null,
      "_view_module": "@jupyter-widgets/base",
      "_view_module_version": "1.2.0",
      "_view_name": "StyleView",
      "bar_color": null,
      "description_width": ""
     }
    },
    "df5b9e6414d449f0961eecec22b16991": {
     "model_module": "@jupyter-widgets/controls",
     "model_module_version": "1.5.0",
     "model_name": "DescriptionStyleModel",
     "state": {
      "_model_module": "@jupyter-widgets/controls",
      "_model_module_version": "1.5.0",
      "_model_name": "DescriptionStyleModel",
      "_view_count": null,
      "_view_module": "@jupyter-widgets/base",
      "_view_module_version": "1.2.0",
      "_view_name": "StyleView",
      "description_width": ""
     }
    },
    "e5a69cc464fe42f6be81a34ed57b1686": {
     "model_module": "@jupyter-widgets/controls",
     "model_module_version": "1.5.0",
     "model_name": "ProgressStyleModel",
     "state": {
      "_model_module": "@jupyter-widgets/controls",
      "_model_module_version": "1.5.0",
      "_model_name": "ProgressStyleModel",
      "_view_count": null,
      "_view_module": "@jupyter-widgets/base",
      "_view_module_version": "1.2.0",
      "_view_name": "StyleView",
      "bar_color": null,
      "description_width": ""
     }
    },
    "e7d3b9b9d1224868988e665b4c677357": {
     "model_module": "@jupyter-widgets/controls",
     "model_module_version": "1.5.0",
     "model_name": "DescriptionStyleModel",
     "state": {
      "_model_module": "@jupyter-widgets/controls",
      "_model_module_version": "1.5.0",
      "_model_name": "DescriptionStyleModel",
      "_view_count": null,
      "_view_module": "@jupyter-widgets/base",
      "_view_module_version": "1.2.0",
      "_view_name": "StyleView",
      "description_width": ""
     }
    },
    "f6d802990a2344db99bf282c663efa5a": {
     "model_module": "@jupyter-widgets/controls",
     "model_module_version": "1.5.0",
     "model_name": "DescriptionStyleModel",
     "state": {
      "_model_module": "@jupyter-widgets/controls",
      "_model_module_version": "1.5.0",
      "_model_name": "DescriptionStyleModel",
      "_view_count": null,
      "_view_module": "@jupyter-widgets/base",
      "_view_module_version": "1.2.0",
      "_view_name": "StyleView",
      "description_width": ""
     }
    },
    "fca0079f6a714ac7885e1474711d7913": {
     "model_module": "@jupyter-widgets/controls",
     "model_module_version": "1.5.0",
     "model_name": "HBoxModel",
     "state": {
      "_dom_classes": [],
      "_model_module": "@jupyter-widgets/controls",
      "_model_module_version": "1.5.0",
      "_model_name": "HBoxModel",
      "_view_count": null,
      "_view_module": "@jupyter-widgets/controls",
      "_view_module_version": "1.5.0",
      "_view_name": "HBoxView",
      "box_style": "",
      "children": [
       "IPY_MODEL_4a9ef407319c43bcb20106c47f0db180",
       "IPY_MODEL_7a0c9eaf1d1e4a56a195dff77a7ed5f9",
       "IPY_MODEL_d5a7c1d85e63402ebd0c36cb6883ab33"
      ],
      "layout": "IPY_MODEL_55e857853048445b87cea2de151ba035"
     }
    }
   }
  }
 },
 "nbformat": 4,
 "nbformat_minor": 5
}
