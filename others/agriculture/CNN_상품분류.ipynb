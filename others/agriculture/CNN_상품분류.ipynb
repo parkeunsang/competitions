{
  "nbformat": 4,
  "nbformat_minor": 0,
  "metadata": {
    "colab": {
      "name": "CNN_상품분류.ipynb",
      "provenance": [],
      "collapsed_sections": []
    },
    "kernelspec": {
      "display_name": "Python 3",
      "name": "python3"
    },
    "accelerator": "GPU"
  },
  "cells": [
    {
      "cell_type": "markdown",
      "metadata": {
        "id": "tbdohu49Q6ay"
      },
      "source": [
        "# CNN을 이용한 상품 종류 분류\n",
        "pickle data를 load해서 상품 품목을 분류하는 알고리즘"
      ]
    },
    {
      "cell_type": "code",
      "metadata": {
        "id": "bO5xwSOQyYvM"
      },
      "source": [
        "# Basic library\n",
        "import json\n",
        "import glob\n",
        "import os\n",
        "import pandas as pd\n",
        "from tqdm import tqdm\n",
        "import numpy as np\n",
        "import pickle"
      ],
      "execution_count": null,
      "outputs": []
    },
    {
      "cell_type": "code",
      "metadata": {
        "id": "jIVhulC9AmQ1"
      },
      "source": [
        "# 이미지, plotting 관련\n",
        "import matplotlib.pyplot as plt\n",
        "from skimage.io import imread\n",
        "from skimage.transform import resize\n",
        "from sklearn.model_selection import train_test_split"
      ],
      "execution_count": null,
      "outputs": []
    },
    {
      "cell_type": "code",
      "metadata": {
        "colab": {
          "base_uri": "https://localhost:8080/"
        },
        "id": "nkhsJbvggBGo",
        "outputId": "a9a72e8f-cbf4-4172-9185-6048b5c59e76"
      },
      "source": [
        "# 구글 드라이브와 연동\n",
        "from google.colab import drive\n",
        "drive.mount('/content/drive')"
      ],
      "execution_count": null,
      "outputs": [
        {
          "output_type": "stream",
          "text": [
            "Mounted at /content/drive\n"
          ],
          "name": "stdout"
        }
      ]
    },
    {
      "cell_type": "code",
      "metadata": {
        "colab": {
          "base_uri": "https://localhost:8080/"
        },
        "id": "cUEEsELe9AAy",
        "outputId": "2ff92a10-7f30-4720-9806-47aee8987760"
      },
      "source": [
        "ls  # 현재 폴더 상태 확인"
      ],
      "execution_count": null,
      "outputs": [
        {
          "output_type": "stream",
          "text": [
            "\u001b[0m\u001b[01;34mdrive\u001b[0m/  \u001b[01;34msample_data\u001b[0m/\n"
          ],
          "name": "stdout"
        }
      ]
    },
    {
      "cell_type": "code",
      "metadata": {
        "id": "iNLsj8whgB6P"
      },
      "source": [
        "os.chdir('./drive/MyDrive/projects/농산물')  # 현재 폴더 위치 변경"
      ],
      "execution_count": null,
      "outputs": []
    },
    {
      "cell_type": "markdown",
      "metadata": {
        "id": "YBhrHG4u-wYo"
      },
      "source": [
        "## Import data(pickle format)"
      ]
    },
    {
      "cell_type": "code",
      "metadata": {
        "id": "cJU5LDMw0fXk"
      },
      "source": [
        "filenames = glob.glob('data/*')  # 10개의 pickle files"
      ],
      "execution_count": null,
      "outputs": []
    },
    {
      "cell_type": "code",
      "metadata": {
        "id": "5E9i36dRBYEd"
      },
      "source": [
        "def import_data(filename, seed):\n",
        "  \"\"\"\n",
        "  파일이름으로 각각 종목에 대해 10000개의 랜덤한 변수들 import\n",
        "  \"\"\"\n",
        "  with open(filename, 'rb') as f:\n",
        "   data = pickle.load(f) # 단 한줄씩 읽어옴\n",
        "  np.random.seed(seed)\n",
        "  random_idx = np.random.choice(range(len(data['X'])), 10000, replace=False)\n",
        "  X = data['X'][random_idx]\n",
        "  y = ['_'.join(x.split('_')[:2]) for x in data['file_name'][random_idx]]\n",
        "\n",
        "  return X, y"
      ],
      "execution_count": null,
      "outputs": []
    },
    {
      "cell_type": "code",
      "metadata": {
        "id": "tnalxEpVDftb"
      },
      "source": [
        "def class_to_int(y):\n",
        "  \"\"\"\n",
        "  y가 str 변수이기때문에 int 변수로 변환\n",
        "  \"\"\"\n",
        "  y_dict = {}\n",
        "  for idx, element in enumerate(set(y)):\n",
        "    y_dict[element] = idx\n",
        "  y_int = [y_dict[x] for x in y]\n",
        "  return y_int"
      ],
      "execution_count": null,
      "outputs": []
    },
    {
      "cell_type": "code",
      "metadata": {
        "id": "fB8RdCpSBmCR"
      },
      "source": [
        "X, y_origin = import_data(filenames[0], 2021)"
      ],
      "execution_count": null,
      "outputs": []
    },
    {
      "cell_type": "code",
      "metadata": {
        "id": "sHFbbrXPPYsq",
        "colab": {
          "base_uri": "https://localhost:8080/"
        },
        "outputId": "c50d524f-b929-4dc5-e412-598d37972ef7"
      },
      "source": [
        "for fn in tqdm(filenames[1:]):\n",
        "  X_temp, y_temp =  import_data(fn, 2021)\n",
        "  X = np.append(X, X_temp, axis=0)\n",
        "  y.extend(y_temp)"
      ],
      "execution_count": null,
      "outputs": [
        {
          "output_type": "stream",
          "text": [
            "100%|██████████| 9/9 [02:56<00:00, 19.58s/it]\n"
          ],
          "name": "stderr"
        }
      ]
    },
    {
      "cell_type": "code",
      "metadata": {
        "id": "arimlQf5RCC6"
      },
      "source": [
        "y = []  # 사과, 배, 감자는 서브클래스 분류 X\n",
        "for i in y_origin:\n",
        "  if i.startswith('apple'):\n",
        "    y.append('apple')\n",
        "  elif i.startswith('pear'):\n",
        "    y.append('pear')\n",
        "  elif i.startswith('potato'):\n",
        "    y.append('potato')\n",
        "  else:\n",
        "    y.append(i)"
      ],
      "execution_count": null,
      "outputs": []
    },
    {
      "cell_type": "code",
      "metadata": {
        "id": "sm1OtyyNZwBK"
      },
      "source": [
        "y = ['chinese cabbage' if x[:7] == 'chinese' else x for x in y]  # chinese cabbage의 file name format이 약간 다르기 때문"
      ],
      "execution_count": null,
      "outputs": []
    },
    {
      "cell_type": "code",
      "metadata": {
        "id": "427VEb8S3OJS"
      },
      "source": [
        "y = class_to_int(y)"
      ],
      "execution_count": null,
      "outputs": []
    },
    {
      "cell_type": "code",
      "metadata": {
        "id": "Sm6sz1jnDqpA"
      },
      "source": [
        "X = np.asarray(X)  # deep learning에 input하기위한 format\n",
        "y = np.asarray(y)"
      ],
      "execution_count": null,
      "outputs": []
    },
    {
      "cell_type": "code",
      "metadata": {
        "id": "srScJbxLP4nL"
      },
      "source": [
        "X_train, X_test, y_train, y_test = train_test_split(X, y, test_size=0.25, random_state=42)"
      ],
      "execution_count": null,
      "outputs": []
    },
    {
      "cell_type": "markdown",
      "metadata": {
        "id": "k9bIL5ZvS-1m"
      },
      "source": [
        "## CNN Modeling"
      ]
    },
    {
      "cell_type": "code",
      "metadata": {
        "id": "JTB2pwDtKqdq"
      },
      "source": [
        "import tensorflow as tf\n",
        "from tensorflow import keras\n",
        "from tensorflow.keras import layers\n",
        "from tensorflow.keras.models import Sequential"
      ],
      "execution_count": null,
      "outputs": []
    },
    {
      "cell_type": "code",
      "metadata": {
        "id": "XSPXuY_tI061"
      },
      "source": [
        "# ref : https://www.tensorflow.org/tutorials/images/classification?hl=ko\n",
        "num_classes = len(set(y))  # 특상, 상, 보통\n",
        "img_height, img_width = 100, 100\n",
        "model = Sequential([\n",
        "  layers.experimental.preprocessing.Rescaling(1./255, input_shape=(img_height, img_width, 3)),\n",
        "  layers.Conv2D(16, 3, padding='same', activation='relu'),\n",
        "  layers.MaxPooling2D(),\n",
        "  layers.Conv2D(32, 3, padding='same', activation='relu'),\n",
        "  layers.MaxPooling2D(),\n",
        "  layers.Conv2D(64, 3, padding='same', activation='relu'),\n",
        "  layers.MaxPooling2D(),\n",
        "  layers.Flatten(),\n",
        "  layers.Dense(128, activation='relu'),\n",
        "  layers.Dense(num_classes)\n",
        "])"
      ],
      "execution_count": null,
      "outputs": []
    },
    {
      "cell_type": "code",
      "metadata": {
        "id": "zdT2uMvpI005"
      },
      "source": [
        "model.compile(optimizer='adam',\n",
        "              loss=tf.keras.losses.SparseCategoricalCrossentropy(from_logits=True),\n",
        "              metrics=['accuracy'])"
      ],
      "execution_count": null,
      "outputs": []
    },
    {
      "cell_type": "code",
      "metadata": {
        "colab": {
          "base_uri": "https://localhost:8080/"
        },
        "id": "IxKlbkvsI7K8",
        "outputId": "78ae111d-d37a-435a-ed49-485c81730662"
      },
      "source": [
        "epochs=12\n",
        "history = model.fit(\n",
        "  X_train, y_train,\n",
        "  epochs=epochs\n",
        ")"
      ],
      "execution_count": null,
      "outputs": [
        {
          "output_type": "stream",
          "text": [
            "Epoch 1/12\n",
            "2344/2344 [==============================] - 15s 6ms/step - loss: 0.4221 - accuracy: 0.8404\n",
            "Epoch 2/12\n",
            "2344/2344 [==============================] - 15s 6ms/step - loss: 0.0903 - accuracy: 0.9606\n",
            "Epoch 3/12\n",
            "2344/2344 [==============================] - 15s 6ms/step - loss: 0.0767 - accuracy: 0.9642\n",
            "Epoch 4/12\n",
            "2344/2344 [==============================] - 15s 6ms/step - loss: 0.0673 - accuracy: 0.9706\n",
            "Epoch 5/12\n",
            "2344/2344 [==============================] - 15s 6ms/step - loss: 0.0623 - accuracy: 0.9731\n",
            "Epoch 6/12\n",
            "2344/2344 [==============================] - 15s 6ms/step - loss: 0.0593 - accuracy: 0.9743\n",
            "Epoch 7/12\n",
            "2344/2344 [==============================] - 15s 6ms/step - loss: 0.0465 - accuracy: 0.9796\n",
            "Epoch 8/12\n",
            "2344/2344 [==============================] - 15s 6ms/step - loss: 0.0451 - accuracy: 0.9811\n",
            "Epoch 9/12\n",
            "2344/2344 [==============================] - 15s 6ms/step - loss: 0.0414 - accuracy: 0.9828\n",
            "Epoch 10/12\n",
            "2344/2344 [==============================] - 15s 6ms/step - loss: 0.0393 - accuracy: 0.9842\n",
            "Epoch 11/12\n",
            "2344/2344 [==============================] - 15s 6ms/step - loss: 0.0330 - accuracy: 0.9864\n",
            "Epoch 12/12\n",
            "2344/2344 [==============================] - 15s 6ms/step - loss: 0.0284 - accuracy: 0.9889\n"
          ],
          "name": "stdout"
        }
      ]
    },
    {
      "cell_type": "code",
      "metadata": {
        "id": "bTpfbJUMI89v"
      },
      "source": [
        "# test dataset 을 이용한 예측\n",
        "y_pred = model.predict(X_test)\n",
        "y_pred = [np.argmax(y) for y in y_pred]\n",
        "y_pred = np.array(y_pred)\n",
        "result = np.mean(y_pred == y_test)   # test set의 정확도"
      ],
      "execution_count": null,
      "outputs": []
    },
    {
      "cell_type": "code",
      "metadata": {
        "colab": {
          "base_uri": "https://localhost:8080/"
        },
        "id": "v_kLong-I-XF",
        "outputId": "2d394a89-1a58-49d0-823f-2203c06c4f74"
      },
      "source": [
        "print(f'품목 분류 Test accuracy: {result}')"
      ],
      "execution_count": null,
      "outputs": [
        {
          "output_type": "stream",
          "text": [
            "품목 분류 Test accuracy: 0.97928\n"
          ],
          "name": "stdout"
        }
      ]
    },
    {
      "cell_type": "markdown",
      "metadata": {
        "id": "6swHw2G0bb8G"
      },
      "source": [
        "## VGG-19 Model(pretrained model)\n",
        "결과적으로 좋은 성능을 내지는 못함"
      ]
    },
    {
      "cell_type": "code",
      "metadata": {
        "id": "nWtdq08LbdoC"
      },
      "source": [
        "from keras.applications.vgg19 import VGG19\n",
        "from keras.models import Model\n",
        "from keras.layers import Dense, Dropout, Flatten"
      ],
      "execution_count": null,
      "outputs": []
    },
    {
      "cell_type": "code",
      "metadata": {
        "colab": {
          "base_uri": "https://localhost:8080/"
        },
        "id": "NAyzFJLHbePO",
        "outputId": "fd39c5ae-6b54-4971-c2a3-fbc68898f10b"
      },
      "source": [
        "base_model = VGG19(\n",
        "    weights = 'imagenet',\n",
        "    # weights = None,\n",
        "    include_top=False, input_shape=(img_height, img_width, 3))"
      ],
      "execution_count": null,
      "outputs": [
        {
          "output_type": "stream",
          "text": [
            "Downloading data from https://storage.googleapis.com/tensorflow/keras-applications/vgg19/vgg19_weights_tf_dim_ordering_tf_kernels_notop.h5\n",
            "80142336/80134624 [==============================] - 0s 0us/step\n"
          ],
          "name": "stdout"
        }
      ]
    },
    {
      "cell_type": "code",
      "metadata": {
        "id": "_NxJf2MmbeL3"
      },
      "source": [
        "x = base_model.output\n",
        "x = Flatten()(x)\n",
        "predictions = Dense(num_classes, activation='softmax')(x)"
      ],
      "execution_count": null,
      "outputs": []
    },
    {
      "cell_type": "code",
      "metadata": {
        "id": "rlznd7_RbeIx"
      },
      "source": [
        "model = Model(inputs=base_model.input, outputs=predictions)"
      ],
      "execution_count": null,
      "outputs": []
    },
    {
      "cell_type": "code",
      "metadata": {
        "colab": {
          "base_uri": "https://localhost:8080/"
        },
        "id": "6f59FiBUclPC",
        "outputId": "147691e7-4b8c-42ce-f176-f1d8855d2131"
      },
      "source": [
        "# 교육할 계층 설정 최상위 계층만 교육 (False 가중치 고정)\n",
        "for layer in base_model.layers:\n",
        "    layer.trainable = False\n",
        "\n",
        "# 훈련할 레이어 확인\n",
        "for layer in base_model.layers:\n",
        "    print(layer, layer.trainable)"
      ],
      "execution_count": null,
      "outputs": [
        {
          "output_type": "stream",
          "text": [
            "<tensorflow.python.keras.engine.input_layer.InputLayer object at 0x7fc7ee0d6908> False\n",
            "<tensorflow.python.keras.layers.convolutional.Conv2D object at 0x7fc7ecf307b8> False\n",
            "<tensorflow.python.keras.layers.convolutional.Conv2D object at 0x7fc7ecf30898> False\n",
            "<tensorflow.python.keras.layers.pooling.MaxPooling2D object at 0x7fc7ecf35da0> False\n",
            "<tensorflow.python.keras.layers.convolutional.Conv2D object at 0x7fc7edfe0dd8> False\n",
            "<tensorflow.python.keras.layers.convolutional.Conv2D object at 0x7fc7ecf308d0> False\n",
            "<tensorflow.python.keras.layers.pooling.MaxPooling2D object at 0x7fc7ecf46e48> False\n",
            "<tensorflow.python.keras.layers.convolutional.Conv2D object at 0x7fc7ee1152b0> False\n",
            "<tensorflow.python.keras.layers.convolutional.Conv2D object at 0x7fc7ecf30e48> False\n",
            "<tensorflow.python.keras.layers.convolutional.Conv2D object at 0x7fc7ecf46dd8> False\n",
            "<tensorflow.python.keras.layers.convolutional.Conv2D object at 0x7fc7ecf57358> False\n",
            "<tensorflow.python.keras.layers.pooling.MaxPooling2D object at 0x7fc7ecf5e898> False\n",
            "<tensorflow.python.keras.layers.convolutional.Conv2D object at 0x7fc7ecf3e208> False\n",
            "<tensorflow.python.keras.layers.convolutional.Conv2D object at 0x7fc7ecf57780> False\n",
            "<tensorflow.python.keras.layers.convolutional.Conv2D object at 0x7fc7ecf462b0> False\n",
            "<tensorflow.python.keras.layers.convolutional.Conv2D object at 0x7fc7ecf5e470> False\n",
            "<tensorflow.python.keras.layers.pooling.MaxPooling2D object at 0x7fc7ecef1a90> False\n",
            "<tensorflow.python.keras.layers.convolutional.Conv2D object at 0x7fc7ecf64ac8> False\n",
            "<tensorflow.python.keras.layers.convolutional.Conv2D object at 0x7fc7ecf35f28> False\n",
            "<tensorflow.python.keras.layers.convolutional.Conv2D object at 0x7fc7ecef1c88> False\n",
            "<tensorflow.python.keras.layers.convolutional.Conv2D object at 0x7fc7ecf08e80> False\n",
            "<tensorflow.python.keras.layers.pooling.MaxPooling2D object at 0x7fc7ecf08780> False\n"
          ],
          "name": "stdout"
        }
      ]
    },
    {
      "cell_type": "code",
      "metadata": {
        "id": "s0um8qMvcvqY"
      },
      "source": [
        "model.compile(optimizer='adam',\n",
        "              loss=tf.keras.losses.SparseCategoricalCrossentropy(from_logits=True),\n",
        "              metrics=['accuracy'])"
      ],
      "execution_count": null,
      "outputs": []
    },
    {
      "cell_type": "code",
      "metadata": {
        "colab": {
          "base_uri": "https://localhost:8080/"
        },
        "id": "Gvw9M-e1c1Jn",
        "outputId": "85cc3a7f-e169-4b38-cb05-7bdd2963278b"
      },
      "source": [
        "epochs=7\n",
        "history = model.fit(\n",
        "  X_train, y_train,\n",
        "  epochs=epochs\n",
        ")"
      ],
      "execution_count": null,
      "outputs": [
        {
          "output_type": "stream",
          "text": [
            "Epoch 1/7\n",
            "2344/2344 [==============================] - 92s 39ms/step - loss: 1.0887 - accuracy: 0.9121\n",
            "Epoch 2/7\n",
            "2344/2344 [==============================] - 91s 39ms/step - loss: 0.4422 - accuracy: 0.9658\n",
            "Epoch 3/7\n",
            "2344/2344 [==============================] - 91s 39ms/step - loss: 0.4497 - accuracy: 0.9681\n",
            "Epoch 4/7\n",
            "2344/2344 [==============================] - 91s 39ms/step - loss: 0.3815 - accuracy: 0.9725\n",
            "Epoch 5/7\n",
            "2344/2344 [==============================] - 90s 39ms/step - loss: 0.3653 - accuracy: 0.9749\n",
            "Epoch 6/7\n",
            "2344/2344 [==============================] - 91s 39ms/step - loss: 0.3631 - accuracy: 0.9753\n",
            "Epoch 7/7\n",
            "2344/2344 [==============================] - 90s 39ms/step - loss: 0.3950 - accuracy: 0.9753\n"
          ],
          "name": "stdout"
        }
      ]
    },
    {
      "cell_type": "code",
      "metadata": {
        "id": "xttGULrAdRvO"
      },
      "source": [
        "# test dataset 을 이용한 예측\n",
        "y_pred = model.predict(X_test)\n",
        "y_pred = [np.argmax(y) for y in y_pred]\n",
        "y_pred = np.array(y_pred)\n",
        "result = np.mean(y_pred == y_test)   # test set의 정확도"
      ],
      "execution_count": null,
      "outputs": []
    },
    {
      "cell_type": "code",
      "metadata": {
        "colab": {
          "base_uri": "https://localhost:8080/"
        },
        "id": "yCbOSTG7dVLV",
        "outputId": "5d33001a-97d1-4ce4-ce98-d50f6627777d"
      },
      "source": [
        "print(f'품목 분류 by VGG-19 Test accuracy: {result}')"
      ],
      "execution_count": null,
      "outputs": [
        {
          "output_type": "stream",
          "text": [
            "품목 분류 by VGG-19 Test accuracy: 0.94648\n"
          ],
          "name": "stdout"
        }
      ]
    }
  ]
}