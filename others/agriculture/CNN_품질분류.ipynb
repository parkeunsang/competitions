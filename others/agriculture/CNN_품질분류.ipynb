{
  "nbformat": 4,
  "nbformat_minor": 0,
  "metadata": {
    "colab": {
      "name": "CNN_품질분류.ipynb",
      "provenance": [],
      "collapsed_sections": []
    },
    "kernelspec": {
      "name": "python3",
      "display_name": "Python 3"
    },
    "accelerator": "GPU"
  },
  "cells": [
    {
      "cell_type": "markdown",
      "metadata": {
        "id": "FIc21SCVPCfi"
      },
      "source": [
        "# CNN을 이용한 상품 품질(등급) 분류\n",
        "pickle data를 load해서 상품 등급(특, 상, 보통)을 분류하는 알고리즘"
      ]
    },
    {
      "cell_type": "code",
      "metadata": {
        "id": "sPbzZU-fC-pL"
      },
      "source": [
        "import json\n",
        "import glob\n",
        "import os\n",
        "import pandas as pd\n",
        "from tqdm import tqdm\n",
        "import numpy as np\n",
        "import pickle"
      ],
      "execution_count": null,
      "outputs": []
    },
    {
      "cell_type": "code",
      "metadata": {
        "id": "5xUrHIrMDLOB"
      },
      "source": [
        "# 이미지, plotting 관련\n",
        "import matplotlib.pyplot as plt\n",
        "from skimage.io import imread\n",
        "from skimage.transform import resize\n",
        "from sklearn.model_selection import train_test_split"
      ],
      "execution_count": null,
      "outputs": []
    },
    {
      "cell_type": "code",
      "metadata": {
        "id": "3ybXeSfJToN_"
      },
      "source": [
        "import tensorflow as tf\n",
        "from tensorflow import keras\n",
        "from tensorflow.keras import layers\n",
        "from tensorflow.keras.models import Sequential"
      ],
      "execution_count": null,
      "outputs": []
    },
    {
      "cell_type": "code",
      "metadata": {
        "id": "my6NGMXJErNJ",
        "colab": {
          "base_uri": "https://localhost:8080/"
        },
        "outputId": "18920223-660b-4738-f97f-8e4622447c49"
      },
      "source": [
        "# 구글 드라이브와 연동\n",
        "from google.colab import drive\n",
        "drive.mount('/content/drive')"
      ],
      "execution_count": null,
      "outputs": [
        {
          "output_type": "stream",
          "text": [
            "Mounted at /content/drive\n"
          ],
          "name": "stdout"
        }
      ]
    },
    {
      "cell_type": "code",
      "metadata": {
        "id": "GLfyByXVEsB1"
      },
      "source": [
        "os.chdir('./drive/MyDrive/projects/농산물')  # 현재 폴더 위치 변경"
      ],
      "execution_count": null,
      "outputs": []
    },
    {
      "cell_type": "code",
      "metadata": {
        "id": "RVSN51nJEsGm"
      },
      "source": [
        "filenames = glob.glob('data/*')  # 10개의 pickle files"
      ],
      "execution_count": null,
      "outputs": []
    },
    {
      "cell_type": "code",
      "metadata": {
        "colab": {
          "base_uri": "https://localhost:8080/"
        },
        "id": "x4SRHIJJTIqc",
        "outputId": "f925d715-9661-4336-ae38-31ec1bc596bd"
      },
      "source": [
        "filenames"
      ],
      "execution_count": null,
      "outputs": [
        {
          "output_type": "execute_result",
          "data": {
            "text/plain": [
              "['data/chinese.pkl',\n",
              " 'data/garlic.pkl',\n",
              " 'data/mandarin.pkl',\n",
              " 'data/onion.pkl',\n",
              " 'data/pear.pkl',\n",
              " 'data/persimmon.pkl',\n",
              " 'data/potato.pkl',\n",
              " 'data/radish.pkl',\n",
              " 'data/apple.pkl',\n",
              " 'data/cabbage.pkl']"
            ]
          },
          "metadata": {
            "tags": []
          },
          "execution_count": 10
        }
      ]
    },
    {
      "cell_type": "code",
      "metadata": {
        "id": "9BiVmSI3O4dk"
      },
      "source": [
        "def import_data(filename, seed):\n",
        "  \"\"\"\n",
        "  파일이름으로 각각 종목에 대해 10000개의 랜덤한 변수들 import\n",
        "  \"\"\"\n",
        "  with open(filename, 'rb') as f:\n",
        "   data = pickle.load(f) # 단 한줄씩 읽어옴\n",
        "  np.random.seed(seed)\n",
        "  random_idx = np.random.choice(range(len(data['X'])), 10000, replace=False)\n",
        "  X = data['X'][random_idx]\n",
        "  y = ['_'.join(x.split('_')[:2]) for x in data['file_name'][random_idx]]\n",
        "  fn = data['file_name'][random_idx]\n",
        "  return X, y, fn"
      ],
      "execution_count": null,
      "outputs": []
    },
    {
      "cell_type": "code",
      "metadata": {
        "id": "Z8dSykYhO5Wp"
      },
      "source": [
        "def class_to_int(y):\n",
        "  \"\"\"\n",
        "  y가 str 변수이기때문에 int 변수로 변환\n",
        "  \"\"\"\n",
        "  y_dict = {}\n",
        "  for idx, element in enumerate(set(y)):\n",
        "    y_dict[element] = idx\n",
        "  y_int = [y_dict[x] for x in y]\n",
        "  return y_int"
      ],
      "execution_count": null,
      "outputs": []
    },
    {
      "cell_type": "code",
      "metadata": {
        "id": "1qDiVau3LH8Q"
      },
      "source": [
        "def split_sub_class(data):\n",
        "  subclass_list = []\n",
        "  grade_list = []\n",
        "\n",
        "  for fn in data[2]:  # file names\n",
        "    splited = fn.split('_')\n",
        "    if splited[1] not in ['M', 'L', 'S']:  # 배추의 경우 다른 농산문들과 다른 format을 가지기 때문에\n",
        "      subclass_list.append(splited[1])\n",
        "      grade_list.append(splited[2])\n",
        "    else:\n",
        "      subclass_list.append(splited[0])\n",
        "      grade_list.append(splited[1])\n",
        "\n",
        "  sb_dict = {}\n",
        "  for sn in set(subclass_list):\n",
        "    idxes = []\n",
        "    for idx,s in enumerate(subclass_list):\n",
        "      if s == sn:\n",
        "        idxes.append(idx)\n",
        "    sb_dict[sn] = idxes\n",
        "\n",
        "  result = {}\n",
        "  result['X'] = data[0]\n",
        "  result['y'] = np.array(list(map(lambda x:x.upper(), grade_list)))\n",
        "  result['subclass'] = sb_dict\n",
        "  if splited[0] in ['apple', 'pear','potato']:\n",
        "    result['subclass'] = {'integrated': list(range(10000))}\n",
        "  return result"
      ],
      "execution_count": null,
      "outputs": []
    },
    {
      "cell_type": "code",
      "metadata": {
        "id": "rjPUufkpXzJb"
      },
      "source": [
        "result = {}"
      ],
      "execution_count": null,
      "outputs": []
    },
    {
      "cell_type": "code",
      "metadata": {
        "colab": {
          "base_uri": "https://localhost:8080/"
        },
        "id": "LlTO724bTbo0",
        "outputId": "e02587d0-8cb4-4521-d895-8fa9f0f2fef5"
      },
      "source": [
        "for fn in tqdm(filenames):\n",
        "  data = import_data(fn, 2021)\n",
        "  data_splited = split_sub_class(data)\n",
        "  for sn in data_splited['subclass'].keys():\n",
        "    idxes = data_splited['subclass'][sn]\n",
        "\n",
        "    X_sub = data_splited['X'][idxes]\n",
        "    y_sub = data_splited['y'][idxes]\n",
        "    y_sub = class_to_int(y_sub)\n",
        "\n",
        "    X_sub = np.asarray(X_sub)  # deep learning에 input하기위한 format\n",
        "    y_sub = np.asarray(y_sub)\n",
        "\n",
        "    X_train, X_test, y_train, y_test = train_test_split(X_sub, y_sub, test_size=0.25, random_state=42)\n",
        "\n",
        "    num_classes = len(set(y_sub))  # 특상, 상, 보통\n",
        "    img_height, img_width = 100, 100\n",
        "    model = Sequential([\n",
        "      layers.experimental.preprocessing.Rescaling(1./255, input_shape=(img_height, img_width, 3)),\n",
        "      layers.Conv2D(16, 3, padding='same', activation='relu'),\n",
        "      layers.MaxPooling2D(),\n",
        "      layers.Conv2D(32, 3, padding='same', activation='relu'),\n",
        "      layers.MaxPooling2D(),\n",
        "      layers.Conv2D(64, 3, padding='same', activation='relu'),\n",
        "      layers.MaxPooling2D(),\n",
        "      layers.Flatten(),\n",
        "      layers.Dense(128, activation='relu'),\n",
        "      layers.Dense(num_classes)\n",
        "    ])\n",
        "\n",
        "    model.compile(optimizer='adam',\n",
        "                  loss=tf.keras.losses.SparseCategoricalCrossentropy(from_logits=True),\n",
        "                  metrics=['accuracy'])\n",
        "\n",
        "    epochs=10\n",
        "    history = model.fit(\n",
        "      X_train, y_train,\n",
        "      epochs=epochs,\n",
        "      verbose=0  # silent\n",
        "    )\n",
        "\n",
        "    # test dataset 을 이용한 예측\n",
        "    y_pred = model.predict(X_test)\n",
        "    y_pred = [np.argmax(y) for y in y_pred]\n",
        "    y_pred = np.array(y_pred)\n",
        "    pure_name = fn.split('/')[-1].split('.')[0]\n",
        "    result[f'{pure_name}_{sn}'] = np.mean(y_pred == y_test)   # test set의 정확도"
      ],
      "execution_count": null,
      "outputs": [
        {
          "output_type": "stream",
          "text": [
            "100%|██████████| 10/10 [03:34<00:00, 21.44s/it]\n"
          ],
          "name": "stderr"
        }
      ]
    },
    {
      "cell_type": "code",
      "metadata": {
        "colab": {
          "base_uri": "https://localhost:8080/"
        },
        "id": "XAvnfUAKPVxd",
        "outputId": "324e936c-fdf5-47fc-f638-47e93cc4c484"
      },
      "source": [
        "result  # test accuracy"
      ],
      "execution_count": null,
      "outputs": [
        {
          "output_type": "execute_result",
          "data": {
            "text/plain": [
              "{'apple_integrated': 0.8348,\n",
              " 'cabbage_green': 0.8571428571428571,\n",
              " 'cabbage_red': 0.9778794813119756,\n",
              " 'chinese_chinese cabbage': 0.9264,\n",
              " 'garlic_uiseong': 0.9736,\n",
              " 'mandarin_hallabong': 0.6783103168155971,\n",
              " 'mandarin_onjumilgam': 0.8251968503937008,\n",
              " 'onion_red': 0.9943729903536977,\n",
              " 'onion_white': 0.9952267303102625,\n",
              " 'pear_integrated': 0.79,\n",
              " 'persimmon_bansi': 0.9721407624633431,\n",
              " 'persimmon_booyu': 0.9968186638388123,\n",
              " 'persimmon_daebong': 0.8540478905359179,\n",
              " 'potato_seolbong': 0.9209914794732765,\n",
              " 'potato_sumi': 0.6685950413223141,\n",
              " 'radish_winter radish': 0.9268}"
            ]
          },
          "metadata": {
            "tags": []
          },
          "execution_count": 56
        }
      ]
    }
  ]
}